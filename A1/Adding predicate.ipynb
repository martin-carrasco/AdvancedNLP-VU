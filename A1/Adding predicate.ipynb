{
 "cells": [
  {
   "cell_type": "code",
   "execution_count": 1,
   "id": "d2ce226b-ca59-45cf-a99f-91c836598f39",
   "metadata": {
    "tags": []
   },
   "outputs": [],
   "source": [
    "# WORKS -- adding the predicates as a feature\n",
    "\n",
    "import pandas as pd\n",
    "\n",
    "# Read the CoNLL file into a pandas DataFrame\n",
    "file_path = '7featues.conll'  # Replace with the path to your CoNLL file\n",
    "df = pd.read_csv(file_path, sep='\\t', header=None, names=['Token', 'Lemma', 'Pos Tag', 'Dependency Relation', 'Head', 'Dependents', 'Number of Dependents'])\n",
    "\n",
    "# Function to extract verbs as a feature\n",
    "def extract_verb_token(row):\n",
    "    if row['Pos Tag'] == 'VERB':\n",
    "        return row['Token']  # Return the token itself if it's a verb\n",
    "    else:\n",
    "        return None  # Return None for non-verb tokens\n",
    "\n",
    "# Apply the function to create a new 'VerbToken' column\n",
    "df['VerbToken'] = df.apply(extract_verb_token, axis=1)\n",
    "\n",
    "# Save the updated DataFrame with the new 'VerbToken' column to a new CoNLL file\n",
    "output_file_path = 'predicate_added.conll'  # Replace with your desired output file path\n",
    "df.to_csv(output_file_path, sep='\\t', header=False, index=False)\n"
   ]
  },
  {
   "cell_type": "code",
   "execution_count": null,
   "id": "f8addf6d-2baa-471e-80e6-7f64b58c5660",
   "metadata": {},
   "outputs": [],
   "source": []
  },
  {
   "cell_type": "code",
   "execution_count": null,
   "id": "17305389-2ba0-4f9d-a3c6-3c5475d3e2ff",
   "metadata": {
    "tags": []
   },
   "outputs": [],
   "source": [
    "# another version -- adding 0 and 1 as values\n",
    "\n",
    "# import pandas as pd\n",
    "\n",
    "# # Read the CoNLL file into a pandas DataFrame\n",
    "# file_path = 'path_to_file.conll'  # Replace with the path to your CoNLL file\n",
    "# df = pd.read_csv(file_path, sep='\\t', header=None, names=['Token', 'Lemma', 'Pos Tag', 'Dependency Relation', 'Head', 'Dependents', 'Number of Dependents'])\n",
    "\n",
    "\n",
    "# # Function to extract predicates based on POS tags\n",
    "# def extract_predicate(row):\n",
    "#     if row['Pos Tag'] == 'VERB':\n",
    "#         return 1  # Indicate that the token is a verb (you can use any value or None based on your preference)\n",
    "#     else:\n",
    "#         return 0  # Indicate that the token is not a verb\n",
    "\n",
    "\n",
    "# # Apply the function to create a new 'Predicate' column\n",
    "# df['Predicate'] = df.apply(extract_predicate, axis=1)\n",
    "\n",
    "\n",
    "# # Save the updated DataFrame with the new 'Predicate' column to a new CoNLL file\n",
    "# output_file_path = 'predicate_added.conll'  # Replace with your desired output file path\n",
    "# df.to_csv(output_file_path, sep='\\t', header=False, index=False)\n"
   ]
  },
  {
   "cell_type": "code",
   "execution_count": null,
   "id": "e492b51c-07d2-49f6-9a4c-6d417f6cca45",
   "metadata": {},
   "outputs": [],
   "source": []
  },
  {
   "cell_type": "code",
   "execution_count": null,
   "id": "8b088358-f157-49d6-bc67-8fee9a8c85c7",
   "metadata": {},
   "outputs": [],
   "source": []
  }
 ],
 "metadata": {
  "kernelspec": {
   "display_name": "Python 3 (ipykernel)",
   "language": "python",
   "name": "python3"
  },
  "language_info": {
   "codemirror_mode": {
    "name": "ipython",
    "version": 3
   },
   "file_extension": ".py",
   "mimetype": "text/x-python",
   "name": "python",
   "nbconvert_exporter": "python",
   "pygments_lexer": "ipython3",
   "version": "3.11.5"
  }
 },
 "nbformat": 4,
 "nbformat_minor": 5
}
