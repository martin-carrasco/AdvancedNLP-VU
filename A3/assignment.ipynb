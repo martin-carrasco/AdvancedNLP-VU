{
 "cells": [
  {
   "cell_type": "code",
   "execution_count": 1,
   "metadata": {},
   "outputs": [
    {
     "name": "stderr",
     "output_type": "stream",
     "text": [
      "/opt/homebrew/Caskroom/miniconda/base/envs/a3/lib/python3.10/site-packages/tqdm/auto.py:21: TqdmWarning: IProgress not found. Please update jupyter and ipywidgets. See https://ipywidgets.readthedocs.io/en/stable/user_install.html\n",
      "  from .autonotebook import tqdm as notebook_tqdm\n"
     ]
    }
   ],
   "source": [
    "\n",
    "from transformers import AutoModelForTokenClassification, TrainingArguments, Trainer\n",
    "import datasets\n",
    "import torch\n",
    "from datasets import Dataset, load_dataset, Sequence, ClassLabel, Features, Value\n",
    "import evaluate\n",
    "from preprocessing import preprocessing\n",
    "from transformers import DataCollatorForTokenClassification\n",
    "import numpy as np\n",
    "import random\n",
    "%load_ext autoreload\n",
    "%autoreload 2\n"
   ]
  },
  {
   "cell_type": "markdown",
   "metadata": {},
   "source": [
    "# 1. Preprocessing\n",
    "First, we will define some paths and constant variables.\n",
    "+ `DATA_NAME`: The name of the file to use for training\n",
    "+ `MODE`: It can either be `train` or `test` depending on wether a model already exists or not\n",
    "+ `PER_DS`: It is the percentage of the dataset that is sampled for training"
   ]
  },
  {
   "cell_type": "code",
   "execution_count": 33,
   "metadata": {},
   "outputs": [],
   "source": [
    "TRAIN_FILE_NAME = 'en_ewt-up-train.conllu'\n",
    "TEST_FILE_NAME = 'en_ewt-up-test.conllu'\n",
    "DEV_FILE_NAME = 'en_ewt-up-dev.conllu'\n",
    "model_name = 'distilbert-base-uncased'\n",
    "MODEL_NAME = 'bert_baseline_model_train'\n",
    "MODE='test'\n",
    "PER_DS = 1"
   ]
  },
  {
   "cell_type": "markdown",
   "metadata": {},
   "source": [
    "## 1.1 Calling external libraries\n",
    "We will call the preprocessing library with the `DATA_NAME` file that we used earlier. It should be located in the `data/raw` path for it to be recongnized. It will go over the the CONLL-U file and create a dataframe with it as well as organize the argument label and repeat the tokes as many times at there are predictes in a given sentence. Consequently, if there are 3 predicates in a sentence, there will be 3 rows with the same token per sentence with a different target label depending on if they are part of the argument or not and which argument they are for that predicate.\n",
    "\n",
    "Also, during preprocessing the arguments with a `C-` or `R-` prefix will be merged with thei respective suffix. We do this as they are *continuous* or *reference* arguments. Meaning that given the interpretation, we could label them to same. We have decided to do this as our motivation lies in identified the types of clauses rather than the specific differentiation if it is a reference or a continuation.\n",
    "\n",
    "Additionally, we will label predicates as `O`, not an argument."
   ]
  },
  {
   "cell_type": "code",
   "execution_count": 34,
   "metadata": {},
   "outputs": [],
   "source": [
    "filename = TRAIN_FILE_NAME if MODE == 'train' else TEST_FILE_NAME if MODE == 'test' else DEV_FILE_NAME\n",
    "df = preprocessing(filename)\n",
    "label_list = list(df['label'].unique())"
   ]
  },
  {
   "cell_type": "markdown",
   "metadata": {},
   "source": [
    "## 1.2 Agregation per sentence\n",
    "We will agregate the dataframe based on `sentence_id`. This means that each row will now represent **one sentence**. Then, each row will contain a list of tokens for which corresponding lists of lemmas, predicates and labels are assigned. We perform this aggregation to facilitate then traning procedure, since we will to sequence to sequence tagging we want to pass a whole sequence and receive the output for it."
   ]
  },
  {
   "cell_type": "code",
   "execution_count": 4,
   "metadata": {},
   "outputs": [],
   "source": [
    "sent_df = df.groupby(['sentence_id']).agg(lambda x: x.tolist()).reset_index()"
   ]
  },
  {
   "cell_type": "markdown",
   "metadata": {},
   "source": [
    "## 1.3  Dataset construction\n",
    "The `huggingface` set of libraries provides a very good wrapper for processing datasets. For that reason, we will transform our data to that format by giving the types of the `features` and then passing our raw data to it"
   ]
  },
  {
   "cell_type": "code",
   "execution_count": 18,
   "metadata": {},
   "outputs": [],
   "source": [
    "features = Features({\n",
    "    'token_id': Sequence(feature=Value('float32')),\n",
    "    'sentence_num': Sequence(feature=Value('int32')),\n",
    "    'token': Sequence(feature=Value('string')),\n",
    "    'lemma': Sequence(feature=Value('string')),\n",
    "    'upos': Sequence(feature=Value('string')),\n",
    "    'POS': Sequence(feature=Value('string')),\n",
    "    'feats': Sequence(feature=Value('string')),\n",
    "    'head': Sequence(feature=Value('string')),\n",
    "    'deprel': Sequence(feature=Value('string')),\n",
    "    'deps': Sequence(feature=Value('string')),\n",
    "    'misc': Sequence(feature=Value('string')),\n",
    "    'predicate': Sequence(feature=Value('string')),\n",
    "    'predicate_token': Sequence(feature=Value('string')),\n",
    "    'predicate_token_id': Sequence(feature=Value('int32')),\n",
    "    'sentence_id': Value('int32'),\n",
    "    'label': Sequence(feature=ClassLabel(names=label_list)),\n",
    "\n",
    "})\n",
    "\n",
    "ds = Dataset.from_pandas(sent_df[list(features.keys())], features=features)\n"
   ]
  },
  {
   "cell_type": "markdown",
   "metadata": {},
   "source": [
    "# 1.4 Dataset filtering\n",
    "Here we sample $k$ observations uniformly from the dataset, where $k=N*\\alpha$ and $\\alpha$ is `PER_DS` or the porcentage of the dataset we want to use for training. "
   ]
  },
  {
   "cell_type": "code",
   "execution_count": 24,
   "metadata": {},
   "outputs": [
    {
     "data": {
      "text/plain": [
       "4977"
      ]
     },
     "execution_count": 24,
     "metadata": {},
     "output_type": "execute_result"
    }
   ],
   "source": [
    "ds = ds.select(random.sample(range(len(ds)), int(len(ds)*PER_DS)))\n",
    "len(ds)"
   ]
  },
  {
   "cell_type": "markdown",
   "metadata": {},
   "source": [
    "# 1.5 Tokenization \n",
    "To perform tokenization we use the BERT base tokenizer from the `distillbert-base-uncased` model, so that is the standard BERT implementation without separate tokens for word cases. "
   ]
  },
  {
   "cell_type": "code",
   "execution_count": null,
   "metadata": {},
   "outputs": [],
   "source": []
  },
  {
   "cell_type": "code",
   "execution_count": 19,
   "metadata": {},
   "outputs": [],
   "source": [
    "from transformers import AutoTokenizer\n",
    "tokenizer = AutoTokenizer.from_pretrained(model_name)\n",
    "SEP_TOKEN_ID = tokenizer.all_special_ids[tokenizer.all_special_tokens.index('[SEP]')]"
   ]
  },
  {
   "cell_type": "markdown",
   "metadata": {},
   "source": [
    "# 1.5.1 Actual tokenization and alignment\n",
    "Here we call a function that will return a dataset in terms of `input_ids` and `attention_masks`. It will construct the proposed input as **CITE**, where we have `[CLS] sent [SEP] pred [SEP]`, giving the model the whole sentence and then the predicate at the end of the sentence. It will also construt the corresponding true labels on this, assigning the tokens to the true labels. Words we do not want to predict a label for are marked with an integer that is generally $-100$."
   ]
  },
  {
   "cell_type": "code",
   "execution_count": 7,
   "metadata": {},
   "outputs": [
    {
     "name": "stderr",
     "output_type": "stream",
     "text": [
      "/Users/martincarrasco/Documents/VU/Y1P4/ANLP/AdvancedNLP-VU/A3/utils.py:5: FutureWarning: load_metric is deprecated and will be removed in the next major version of datasets. Use 'evaluate.load' instead, from the new library 🤗 Evaluate: https://huggingface.co/docs/evaluate\n",
      "  metric = load_metric(\"seqeval\")\n",
      "/opt/homebrew/Caskroom/miniconda/base/envs/a3/lib/python3.10/site-packages/datasets/load.py:756: FutureWarning: The repository for seqeval contains custom code which must be executed to correctly load the metric. You can inspect the repository content at https://raw.githubusercontent.com/huggingface/datasets/2.18.0/metrics/seqeval/seqeval.py\n",
      "You can avoid this message in future by passing the argument `trust_remote_code=True`.\n",
      "Passing `trust_remote_code=True` will be mandatory to load this metric from the next major release of `datasets`.\n",
      "  warnings.warn(\n"
     ]
    }
   ],
   "source": [
    "from utils import tokenize_and_align_labels\n",
    "ex_sent_row = ds[0]\n",
    "predicate = ex_sent_row['predicate_token'][0]\n",
    "ex_sent = ex_sent_row['token']"
   ]
  },
  {
   "cell_type": "markdown",
   "metadata": {},
   "source": [
    "Now we are going to inspect how does our tokenization and alignment works. First, we check how the `predicate` is tokenized. First we take a look at the `predicate`. We pick the first one because according to our implementation it will contained a repeated list of predicates."
   ]
  },
  {
   "cell_type": "code",
   "execution_count": 48,
   "metadata": {},
   "outputs": [
    {
     "data": {
      "text/plain": [
       "'Morphed'"
      ]
     },
     "execution_count": 48,
     "metadata": {},
     "output_type": "execute_result"
    }
   ],
   "source": [
    "predicate"
   ]
  },
  {
   "cell_type": "markdown",
   "metadata": {},
   "source": [
    "Now we are going to see how its tokenized"
   ]
  },
  {
   "cell_type": "code",
   "execution_count": 49,
   "metadata": {},
   "outputs": [
    {
     "data": {
      "text/plain": [
       "{'input_ids': [101, 22822, 8458, 2098, 102], 'token_type_ids': [0, 0, 0, 0, 0], 'attention_mask': [1, 1, 1, 1, 1]}"
      ]
     },
     "execution_count": 49,
     "metadata": {},
     "output_type": "execute_result"
    }
   ],
   "source": [
    "tok_predicate = tokenizer([predicate], is_split_into_words=True)\n",
    "tok_predicate"
   ]
  },
  {
   "cell_type": "markdown",
   "metadata": {},
   "source": [
    "Event though our predicate is only one word, the tokenization is returning different ids. Lets look closer."
   ]
  },
  {
   "cell_type": "code",
   "execution_count": 50,
   "metadata": {},
   "outputs": [
    {
     "data": {
      "text/plain": [
       "['[CLS]', 'mor', '##ph', '##ed', '[SEP]']"
      ]
     },
     "execution_count": 50,
     "metadata": {},
     "output_type": "execute_result"
    }
   ],
   "source": [
    "tokenizer.convert_ids_to_tokens(tok_predicate['input_ids'])"
   ]
  },
  {
   "cell_type": "markdown",
   "metadata": {},
   "source": [
    "We see know that it has been encoded as 2 *special tokens* plus the actual word has been divided into 3 sub-tokens. Let's look  at what happens if we construct our input sentence by appending the `predicate` to the `sentence`. Also notice we will apply `truncation` and `padding`. Truncation will remove tokens after token $64$ and `padding` will ensure all the resulting tokenized sentences have the same length."
   ]
  },
  {
   "cell_type": "code",
   "execution_count": 64,
   "metadata": {},
   "outputs": [],
   "source": [
    "tok_whole = tokenizer(ex_sent, [predicate], padding='max_length', max_length=64, truncation=True, is_split_into_words=True)"
   ]
  },
  {
   "cell_type": "markdown",
   "metadata": {},
   "source": [
    "We can see that the amount of tokens after *tokenization* has grown. (also because of the PAD token)"
   ]
  },
  {
   "cell_type": "code",
   "execution_count": 54,
   "metadata": {},
   "outputs": [
    {
     "name": "stdout",
     "output_type": "stream",
     "text": [
      "64 29\n"
     ]
    }
   ],
   "source": [
    "print(len(tok_whole['input_ids']), len(ex_sent) + 1)"
   ]
  },
  {
   "cell_type": "markdown",
   "metadata": {},
   "source": [
    "Here we can see the sentence turned back into words."
   ]
  },
  {
   "cell_type": "code",
   "execution_count": 15,
   "metadata": {},
   "outputs": [
    {
     "ename": "NameError",
     "evalue": "name 'tok_whole' is not defined",
     "output_type": "error",
     "traceback": [
      "\u001b[0;31m---------------------------------------------------------------------------\u001b[0m",
      "\u001b[0;31mNameError\u001b[0m                                 Traceback (most recent call last)",
      "Cell \u001b[0;32mIn[15], line 1\u001b[0m\n\u001b[0;32m----> 1\u001b[0m tokenizer\u001b[39m.\u001b[39mconvert_ids_to_tokens(tok_whole[\u001b[39m'\u001b[39m\u001b[39minput_ids\u001b[39m\u001b[39m'\u001b[39m])\n",
      "\u001b[0;31mNameError\u001b[0m: name 'tok_whole' is not defined"
     ]
    }
   ],
   "source": [
    "tokenizer.convert_ids_to_tokens(tok_whole['input_ids'])"
   ]
  },
  {
   "cell_type": "markdown",
   "metadata": {},
   "source": [
    "We can see that `predicate` has been appended to the end corrently. Note that also `token_type_ids` will change and instead of containing just 0s will contain 1s for our next word. Notice the `[PAD]` token at the end.\n",
    "\n",
    "Next, we will see how the labeling changes, since the output is also a number, we need to map our outputs to the appropriate labels. `word_ids` will return a list which has an index for each token and the word it respresents. If it is a *subtoken* it will be repeated and if its a special token it will be `None`."
   ]
  },
  {
   "cell_type": "code",
   "execution_count": 66,
   "metadata": {},
   "outputs": [
    {
     "data": {
      "text/plain": [
       "64"
      ]
     },
     "execution_count": 66,
     "metadata": {},
     "output_type": "execute_result"
    }
   ],
   "source": [
    "len(tok_whole.word_ids())"
   ]
  },
  {
   "cell_type": "markdown",
   "metadata": {},
   "source": [
    "To construct our labels, we only care about labeling the sentence that comes first so we need to construct a way to identify the first set of tokens and discard the rest. For this, we can tokenize the sentence again and just set all the other tokens to a value ignored by PyTorch $(-100)$"
   ]
  },
  {
   "cell_type": "code",
   "execution_count": 67,
   "metadata": {},
   "outputs": [
    {
     "data": {
      "text/plain": [
       "(64, 64)"
      ]
     },
     "execution_count": 67,
     "metadata": {},
     "output_type": "execute_result"
    }
   ],
   "source": [
    "tok_sent_alone = tokenizer(ex_sent, is_split_into_words=True)\n",
    "label_ids = []\n",
    "\n",
    "for i, word_idx in enumerate(tok_whole.word_ids()):\n",
    "    if word_idx is None:\n",
    "        # If it is a special token do not add a label\n",
    "        label_ids.append(-100)\n",
    "    elif i >= len(tok_sent_alone['input_ids']):\n",
    "        # If the token is part of the predicate do not add a label\n",
    "        label_ids.append(-100)\n",
    "    else: \n",
    "        # Set the label of the first token of each word\n",
    "        label_ids.append(ex_sent_row['label'][word_idx])\n",
    "label_names = ds.features['label'].feature.names\n",
    "decoded_labels = [label_names[idx] if idx != -100 else 'O' for idx in label_ids]\n",
    "(len(decoded_labels), len(tok_whole['input_ids']))"
   ]
  },
  {
   "cell_type": "markdown",
   "metadata": {},
   "source": [
    "Now they have the same length and on a closer look we will see that it only contains labels for the sentence."
   ]
  },
  {
   "cell_type": "code",
   "execution_count": 68,
   "metadata": {},
   "outputs": [
    {
     "data": {
      "text/plain": [
       "['O',\n",
       " 'O',\n",
       " 'O',\n",
       " 'ARG1',\n",
       " 'O',\n",
       " 'O',\n",
       " 'O',\n",
       " 'O',\n",
       " 'ARG2',\n",
       " 'ARG2',\n",
       " 'O',\n",
       " 'O',\n",
       " 'O',\n",
       " 'O',\n",
       " 'O',\n",
       " 'O',\n",
       " 'O',\n",
       " 'O',\n",
       " 'O',\n",
       " 'O',\n",
       " 'O',\n",
       " 'O',\n",
       " 'O',\n",
       " 'O',\n",
       " 'O',\n",
       " 'O',\n",
       " 'O',\n",
       " 'O',\n",
       " 'O',\n",
       " 'O',\n",
       " 'O',\n",
       " 'O',\n",
       " 'O',\n",
       " 'O',\n",
       " 'O',\n",
       " 'O',\n",
       " 'O',\n",
       " 'O',\n",
       " 'O',\n",
       " 'O',\n",
       " 'O',\n",
       " 'O',\n",
       " 'O',\n",
       " 'O',\n",
       " 'O',\n",
       " 'O',\n",
       " 'O',\n",
       " 'O',\n",
       " 'O',\n",
       " 'O',\n",
       " 'O',\n",
       " 'O',\n",
       " 'O',\n",
       " 'O',\n",
       " 'O',\n",
       " 'O',\n",
       " 'O',\n",
       " 'O',\n",
       " 'O',\n",
       " 'O',\n",
       " 'O',\n",
       " 'O',\n",
       " 'O',\n",
       " 'O']"
      ]
     },
     "execution_count": 68,
     "metadata": {},
     "output_type": "execute_result"
    }
   ],
   "source": [
    "decoded_labels"
   ]
  },
  {
   "cell_type": "markdown",
   "metadata": {},
   "source": [
    "Now we apply a map to calculate that for every row in our `Dataset`"
   ]
  },
  {
   "cell_type": "code",
   "execution_count": 20,
   "metadata": {},
   "outputs": [
    {
     "name": "stderr",
     "output_type": "stream",
     "text": [
      "Map: 100%|██████████| 4977/4977 [00:03<00:00, 1596.18 examples/s]\n"
     ]
    }
   ],
   "source": [
    "from utils import tokenize_and_align_labels\n",
    "tokenized_datasets = ds.map(lambda x: tokenize_and_align_labels(tokenizer, x))"
   ]
  },
  {
   "cell_type": "markdown",
   "metadata": {},
   "source": [
    "Here we can look at the  labels of the first row in the dataset already tokenized"
   ]
  },
  {
   "cell_type": "code",
   "execution_count": 70,
   "metadata": {},
   "outputs": [
    {
     "data": {
      "text/plain": [
       "[-100,\n",
       " 0,\n",
       " 0,\n",
       " 1,\n",
       " 0,\n",
       " 0,\n",
       " 0,\n",
       " 0,\n",
       " 2,\n",
       " 2,\n",
       " 0,\n",
       " -100,\n",
       " -100,\n",
       " -100,\n",
       " -100,\n",
       " -100,\n",
       " -100,\n",
       " -100,\n",
       " -100,\n",
       " -100,\n",
       " -100,\n",
       " -100,\n",
       " -100,\n",
       " -100,\n",
       " -100,\n",
       " -100,\n",
       " -100,\n",
       " -100,\n",
       " -100,\n",
       " -100,\n",
       " -100,\n",
       " -100,\n",
       " -100,\n",
       " -100,\n",
       " -100,\n",
       " -100,\n",
       " -100,\n",
       " -100,\n",
       " -100,\n",
       " -100,\n",
       " -100,\n",
       " -100,\n",
       " -100,\n",
       " -100,\n",
       " -100,\n",
       " -100,\n",
       " -100,\n",
       " -100,\n",
       " -100,\n",
       " -100,\n",
       " -100,\n",
       " -100,\n",
       " -100,\n",
       " -100,\n",
       " -100,\n",
       " -100,\n",
       " -100,\n",
       " -100,\n",
       " -100,\n",
       " -100,\n",
       " -100,\n",
       " -100,\n",
       " -100,\n",
       " -100]"
      ]
     },
     "execution_count": 70,
     "metadata": {},
     "output_type": "execute_result"
    }
   ],
   "source": [
    "tokenized_datasets['labels'][0]"
   ]
  },
  {
   "cell_type": "markdown",
   "metadata": {},
   "source": [
    "# 2 Baseline model training\n",
    "Now we specify some general information about the model we are going to train and the hyper-parameters we will use.\n",
    "\n",
    "+ `LR`: Learning rate for the weights (amount of adjustment to the gradients on update of weights)\n",
    "+ `EPOCHS`: The full runs we do on the training data \n",
    "+ `WEIGHT_DECAY`: A normalization parameter applied to the weights each iteration\n",
    "+ `BATCH_SIZE`: The amount of batches where to sum of gradients before performing an update. It can be though of like the **step-size**"
   ]
  },
  {
   "cell_type": "code",
   "execution_count": 8,
   "metadata": {},
   "outputs": [],
   "source": [
    "task = 'SRL'\n",
    "BATCH_SIZE = 32\n",
    "LR =2e-5\n",
    "EPOCHS = 3\n",
    "WEIGHT_DECAY = 0.01"
   ]
  },
  {
   "cell_type": "markdown",
   "metadata": {},
   "source": [
    "The `TrainerArgument` class will let of specify all this information as well as a model name to put our model on the Hub"
   ]
  },
  {
   "cell_type": "code",
   "execution_count": 21,
   "metadata": {},
   "outputs": [
    {
     "name": "stderr",
     "output_type": "stream",
     "text": [
      "Some weights of DistilBertForTokenClassification were not initialized from the model checkpoint at distilbert-base-uncased and are newly initialized: ['classifier.bias', 'classifier.weight']\n",
      "You should probably TRAIN this model on a down-stream task to be able to use it for predictions and inference.\n"
     ]
    }
   ],
   "source": [
    "from transformers import DataCollatorForTokenClassification\n",
    "\n",
    "\n",
    "args = TrainingArguments(\n",
    "    f\"{model_name}-finetuned-{task}\",\n",
    "    evaluation_strategy = \"epoch\",\n",
    "    learning_rate=LR,\n",
    "    per_device_train_batch_size=BATCH_SIZE,\n",
    "    per_device_eval_batch_size=BATCH_SIZE,\n",
    "    num_train_epochs=EPOCHS,\n",
    "    weight_decay=WEIGHT_DECAY,\n",
    "    push_to_hub=False,\n",
    ")\n",
    "\n",
    "model = AutoModelForTokenClassification.from_pretrained(model_name, num_labels=len(label_list))\n",
    "\n",
    "data_collator = DataCollatorForTokenClassification(tokenizer)\n"
   ]
  },
  {
   "cell_type": "markdown",
   "metadata": {},
   "source": [
    "# 2.1 Model training\n",
    "Now we actually get to training. We remove irrelevant columns from the dataset and pass all of our information to the actual trainer. Then we run the training and save the model"
   ]
  },
  {
   "cell_type": "code",
   "execution_count": 22,
   "metadata": {},
   "outputs": [
    {
     "ename": "NameError",
     "evalue": "name 'model' is not defined",
     "output_type": "error",
     "traceback": [
      "\u001b[0;31m---------------------------------------------------------------------------\u001b[0m",
      "\u001b[0;31mNameError\u001b[0m                                 Traceback (most recent call last)",
      "Cell \u001b[0;32mIn[22], line 5\u001b[0m\n\u001b[1;32m      2\u001b[0m td \u001b[39m=\u001b[39m tokenized_datasets\u001b[39m.\u001b[39mremove_columns(ds\u001b[39m.\u001b[39mcolumn_names)\n\u001b[1;32m      3\u001b[0m MODEL_NAME \u001b[39m=\u001b[39m \u001b[39m'\u001b[39m\u001b[39mbert_baseline_model_train\u001b[39m\u001b[39m'\u001b[39m\n\u001b[1;32m      4\u001b[0m trainer \u001b[39m=\u001b[39m Trainer(\n\u001b[0;32m----> 5\u001b[0m     model,\n\u001b[1;32m      6\u001b[0m     args,\n\u001b[1;32m      7\u001b[0m     train_dataset\u001b[39m=\u001b[39mtd,\n\u001b[1;32m      8\u001b[0m     eval_dataset\u001b[39m=\u001b[39mtd,\n\u001b[1;32m      9\u001b[0m     data_collator\u001b[39m=\u001b[39mdata_collator,\n\u001b[1;32m     10\u001b[0m     tokenizer\u001b[39m=\u001b[39mtokenizer,\n\u001b[1;32m     11\u001b[0m     compute_metrics\u001b[39m=\u001b[39m\u001b[39mlambda\u001b[39;00m x: compute_metrics(x, label_list),\n\u001b[1;32m     12\u001b[0m )\n",
      "\u001b[0;31mNameError\u001b[0m: name 'model' is not defined"
     ]
    }
   ],
   "source": [
    "from utils import compute_metrics\n",
    "td = tokenized_datasets.remove_columns(ds.column_names)\n",
    "MODEL_NAME = 'bert_baseline_model_train'\n",
    "trainer = Trainer(\n",
    "    model,\n",
    "    args,\n",
    "    train_dataset=td,\n",
    "    eval_dataset=td,\n",
    "    data_collator=data_collator,\n",
    "    tokenizer=tokenizer,\n",
    "    compute_metrics=lambda x: compute_metrics(x, label_list),\n",
    ")\n"
   ]
  },
  {
   "cell_type": "code",
   "execution_count": 23,
   "metadata": {},
   "outputs": [
    {
     "name": "stderr",
     "output_type": "stream",
     "text": [
      " 33%|███▎      | 156/468 [05:07<11:24,  2.19s/it]\n",
      "\u001b[A\n",
      "\u001b[A\n",
      "\u001b[A\n",
      "\u001b[A\n",
      "\u001b[A\n",
      "\u001b[A\n",
      "\u001b[A\n",
      "\u001b[A\n",
      "\u001b[A\n",
      "\u001b[A\n",
      "\u001b[A\n",
      "\u001b[A\n",
      "\u001b[A\n",
      "\u001b[A\n",
      "\u001b[A\n",
      "\u001b[A\n",
      "\u001b[A\n",
      "\u001b[A\n",
      "\u001b[A\n",
      "\u001b[A\n",
      "\u001b[A\n",
      "\u001b[A\n",
      "\u001b[A\n",
      "\u001b[A\n",
      "\u001b[A\n",
      "\u001b[A\n",
      "\u001b[A\n",
      "\u001b[A\n",
      "\u001b[A\n",
      "\u001b[A\n",
      "\u001b[A\n",
      "\u001b[A\n",
      "\u001b[A\n",
      "\u001b[A\n",
      "\u001b[A\n",
      "\u001b[A\n",
      "\u001b[A\n",
      "\u001b[A\n",
      "\u001b[A\n",
      "\u001b[A\n",
      "\u001b[A\n",
      "\u001b[A\n",
      "\u001b[A\n",
      "\u001b[A\n",
      "\u001b[A\n",
      "\u001b[A\n",
      "\u001b[A\n",
      "\u001b[A\n",
      "\u001b[A\n",
      "\u001b[A\n",
      "\u001b[A\n",
      "\u001b[A\n",
      "\u001b[A\n",
      "\u001b[A\n",
      "\u001b[A\n",
      "\u001b[A\n",
      "\u001b[A\n",
      "\u001b[A\n",
      "\u001b[A\n",
      "\u001b[A\n",
      "\u001b[A\n",
      "\u001b[A\n",
      "\u001b[A\n",
      "\u001b[A\n",
      "\u001b[A\n",
      "\u001b[A\n",
      "\u001b[A\n",
      "\u001b[A\n",
      "\u001b[A\n",
      "\u001b[A\n",
      "\u001b[A\n",
      "\u001b[A\n",
      "\u001b[A\n",
      "\u001b[A\n",
      "\u001b[A\n",
      "\u001b[A\n",
      "\u001b[A\n",
      "\u001b[A\n",
      "\u001b[A\n",
      "\u001b[A\n",
      "\u001b[A\n",
      "\u001b[A\n",
      "\u001b[A\n",
      "\u001b[A\n",
      "\u001b[A\n",
      "\u001b[A\n",
      "\u001b[A\n",
      "\u001b[A\n",
      "\u001b[A\n",
      "\u001b[A\n",
      "\u001b[A\n",
      "\u001b[A\n",
      "\u001b[A\n",
      "\u001b[A\n",
      "\u001b[A\n",
      "\u001b[A\n",
      "\u001b[A\n",
      "\u001b[A\n",
      "\u001b[A\n",
      "\u001b[A\n",
      "\u001b[A\n",
      "\u001b[A\n",
      "\u001b[A\n",
      "\u001b[A\n",
      "\u001b[A\n",
      "\u001b[A\n",
      "\u001b[A\n",
      "\u001b[A\n",
      "\u001b[A\n",
      "\u001b[A\n",
      "\u001b[A\n",
      "\u001b[A\n",
      "\u001b[A\n",
      "\u001b[A\n",
      "\u001b[A\n",
      "\u001b[A\n",
      "\u001b[A\n",
      "\u001b[A\n",
      "\u001b[A\n",
      "\u001b[A\n",
      "\u001b[A\n",
      "\u001b[A\n",
      "\u001b[A\n",
      "\u001b[A\n",
      "\u001b[A\n",
      "\u001b[A\n",
      "\u001b[A\n",
      "\u001b[A\n",
      "\u001b[A\n",
      "\u001b[A\n",
      "\u001b[A\n",
      "\u001b[A\n",
      "\u001b[A\n",
      "\u001b[A\n",
      "\u001b[A\n",
      "\u001b[A\n",
      "\u001b[A\n",
      "\u001b[A\n",
      "\u001b[A\n",
      "\u001b[A\n",
      "\u001b[A\n",
      "\u001b[A\n",
      "\u001b[A\n",
      "\u001b[A\n",
      "\u001b[A\n",
      "\u001b[A\n",
      "\u001b[A\n",
      "\u001b[A\n",
      "\u001b[A\n",
      "\u001b[A\n",
      "\u001b[A\n",
      "\u001b[A\n",
      "\u001b[A\n",
      "\u001b[A\n",
      "\u001b[A\n",
      "\u001b[A/opt/homebrew/Caskroom/miniconda/base/envs/a3/lib/python3.10/site-packages/seqeval/metrics/sequence_labeling.py:171: UserWarning: ARG2 seems not to be NE tag.\n",
      "  warnings.warn('{} seems not to be NE tag.'.format(chunk))\n",
      "/opt/homebrew/Caskroom/miniconda/base/envs/a3/lib/python3.10/site-packages/seqeval/metrics/sequence_labeling.py:171: UserWarning: ARG1 seems not to be NE tag.\n",
      "  warnings.warn('{} seems not to be NE tag.'.format(chunk))\n",
      "/opt/homebrew/Caskroom/miniconda/base/envs/a3/lib/python3.10/site-packages/seqeval/metrics/sequence_labeling.py:171: UserWarning: ARG0 seems not to be NE tag.\n",
      "  warnings.warn('{} seems not to be NE tag.'.format(chunk))\n",
      "/opt/homebrew/Caskroom/miniconda/base/envs/a3/lib/python3.10/site-packages/seqeval/metrics/sequence_labeling.py:171: UserWarning: ARGM-TMP seems not to be NE tag.\n",
      "  warnings.warn('{} seems not to be NE tag.'.format(chunk))\n",
      "/opt/homebrew/Caskroom/miniconda/base/envs/a3/lib/python3.10/site-packages/seqeval/metrics/sequence_labeling.py:171: UserWarning: ARGM-ADV seems not to be NE tag.\n",
      "  warnings.warn('{} seems not to be NE tag.'.format(chunk))\n",
      "/opt/homebrew/Caskroom/miniconda/base/envs/a3/lib/python3.10/site-packages/seqeval/metrics/sequence_labeling.py:171: UserWarning: ARGM-DIS seems not to be NE tag.\n",
      "  warnings.warn('{} seems not to be NE tag.'.format(chunk))\n",
      "/opt/homebrew/Caskroom/miniconda/base/envs/a3/lib/python3.10/site-packages/seqeval/metrics/sequence_labeling.py:171: UserWarning: ARGM-PRR seems not to be NE tag.\n",
      "  warnings.warn('{} seems not to be NE tag.'.format(chunk))\n",
      "/opt/homebrew/Caskroom/miniconda/base/envs/a3/lib/python3.10/site-packages/seqeval/metrics/sequence_labeling.py:171: UserWarning: ARGM-LOC seems not to be NE tag.\n",
      "  warnings.warn('{} seems not to be NE tag.'.format(chunk))\n",
      "/opt/homebrew/Caskroom/miniconda/base/envs/a3/lib/python3.10/site-packages/seqeval/metrics/sequence_labeling.py:171: UserWarning: ARG3 seems not to be NE tag.\n",
      "  warnings.warn('{} seems not to be NE tag.'.format(chunk))\n",
      "/opt/homebrew/Caskroom/miniconda/base/envs/a3/lib/python3.10/site-packages/seqeval/metrics/sequence_labeling.py:171: UserWarning: ARGM-DIR seems not to be NE tag.\n",
      "  warnings.warn('{} seems not to be NE tag.'.format(chunk))\n",
      "/opt/homebrew/Caskroom/miniconda/base/envs/a3/lib/python3.10/site-packages/seqeval/metrics/sequence_labeling.py:171: UserWarning: ARGM-PRD seems not to be NE tag.\n",
      "  warnings.warn('{} seems not to be NE tag.'.format(chunk))\n",
      "/opt/homebrew/Caskroom/miniconda/base/envs/a3/lib/python3.10/site-packages/seqeval/metrics/sequence_labeling.py:171: UserWarning: ARGM-CAU seems not to be NE tag.\n",
      "  warnings.warn('{} seems not to be NE tag.'.format(chunk))\n",
      "/opt/homebrew/Caskroom/miniconda/base/envs/a3/lib/python3.10/site-packages/seqeval/metrics/sequence_labeling.py:171: UserWarning: ARGM-GOL seems not to be NE tag.\n",
      "  warnings.warn('{} seems not to be NE tag.'.format(chunk))\n",
      "/opt/homebrew/Caskroom/miniconda/base/envs/a3/lib/python3.10/site-packages/seqeval/metrics/sequence_labeling.py:171: UserWarning: ARGM-NEG seems not to be NE tag.\n",
      "  warnings.warn('{} seems not to be NE tag.'.format(chunk))\n",
      "/opt/homebrew/Caskroom/miniconda/base/envs/a3/lib/python3.10/site-packages/seqeval/metrics/sequence_labeling.py:171: UserWarning: ARGM-ADJ seems not to be NE tag.\n",
      "  warnings.warn('{} seems not to be NE tag.'.format(chunk))\n",
      "/opt/homebrew/Caskroom/miniconda/base/envs/a3/lib/python3.10/site-packages/seqeval/metrics/sequence_labeling.py:171: UserWarning: ARGM-PRP seems not to be NE tag.\n",
      "  warnings.warn('{} seems not to be NE tag.'.format(chunk))\n",
      "/opt/homebrew/Caskroom/miniconda/base/envs/a3/lib/python3.10/site-packages/seqeval/metrics/sequence_labeling.py:171: UserWarning: ARGM-MOD seems not to be NE tag.\n",
      "  warnings.warn('{} seems not to be NE tag.'.format(chunk))\n",
      "/opt/homebrew/Caskroom/miniconda/base/envs/a3/lib/python3.10/site-packages/seqeval/metrics/sequence_labeling.py:171: UserWarning: ARGM-MNR seems not to be NE tag.\n",
      "  warnings.warn('{} seems not to be NE tag.'.format(chunk))\n",
      "/opt/homebrew/Caskroom/miniconda/base/envs/a3/lib/python3.10/site-packages/seqeval/metrics/sequence_labeling.py:171: UserWarning: ARG4 seems not to be NE tag.\n",
      "  warnings.warn('{} seems not to be NE tag.'.format(chunk))\n",
      "/opt/homebrew/Caskroom/miniconda/base/envs/a3/lib/python3.10/site-packages/seqeval/metrics/sequence_labeling.py:171: UserWarning: ARGM-COM seems not to be NE tag.\n",
      "  warnings.warn('{} seems not to be NE tag.'.format(chunk))\n",
      "/opt/homebrew/Caskroom/miniconda/base/envs/a3/lib/python3.10/site-packages/seqeval/metrics/sequence_labeling.py:171: UserWarning: ARGM-EXT seems not to be NE tag.\n",
      "  warnings.warn('{} seems not to be NE tag.'.format(chunk))\n",
      "/opt/homebrew/Caskroom/miniconda/base/envs/a3/lib/python3.10/site-packages/seqeval/metrics/sequence_labeling.py:171: UserWarning: ARGM-LVB seems not to be NE tag.\n",
      "  warnings.warn('{} seems not to be NE tag.'.format(chunk))\n",
      "/opt/homebrew/Caskroom/miniconda/base/envs/a3/lib/python3.10/site-packages/seqeval/metrics/sequence_labeling.py:171: UserWarning: ARGM-REC seems not to be NE tag.\n",
      "  warnings.warn('{} seems not to be NE tag.'.format(chunk))\n",
      "/opt/homebrew/Caskroom/miniconda/base/envs/a3/lib/python3.10/site-packages/seqeval/metrics/sequence_labeling.py:171: UserWarning: ARGM-CXN seems not to be NE tag.\n",
      "  warnings.warn('{} seems not to be NE tag.'.format(chunk))\n",
      "/opt/homebrew/Caskroom/miniconda/base/envs/a3/lib/python3.10/site-packages/seqeval/metrics/sequence_labeling.py:171: UserWarning: ARG5 seems not to be NE tag.\n",
      "  warnings.warn('{} seems not to be NE tag.'.format(chunk))\n",
      "/opt/homebrew/Caskroom/miniconda/base/envs/a3/lib/python3.10/site-packages/seqeval/metrics/v1.py:57: UndefinedMetricWarning: Precision and F-score are ill-defined and being set to 0.0 in labels with no predicted samples. Use `zero_division` parameter to control this behavior.\n",
      "  _warn_prf(average, modifier, msg_start, len(result))\n",
      "                                                 \n",
      "\n",
      "\u001b[A\u001b[A                                           \n",
      " 33%|███▎      | 156/468 [07:17<11:24,  2.19s/it]\n",
      "\u001b[A\n",
      "\u001b[A"
     ]
    },
    {
     "name": "stdout",
     "output_type": "stream",
     "text": [
      "{'eval_loss': 0.45575398206710815, 'eval_precision': 0.29464285714285715, 'eval_recall': 0.006965699208443272, 'eval_f1': 0.01360965047943087, 'eval_accuracy': 0.9053251862683657, 'eval_runtime': 129.573, 'eval_samples_per_second': 38.411, 'eval_steps_per_second': 1.204, 'epoch': 1.0}\n"
     ]
    },
    {
     "name": "stderr",
     "output_type": "stream",
     "text": [
      " 67%|██████▋   | 312/468 [15:46<11:03,  4.26s/it]  \n",
      "\u001b[A\n",
      "\u001b[A\n",
      "\u001b[A\n",
      "\u001b[A\n",
      "\u001b[A\n",
      "\u001b[A\n",
      "\u001b[A\n",
      "\u001b[A\n",
      "\u001b[A\n",
      "\u001b[A\n",
      "\u001b[A\n",
      "\u001b[A\n",
      "\u001b[A\n",
      "\u001b[A\n",
      "\u001b[A\n",
      "\u001b[A\n",
      "\u001b[A\n",
      "\u001b[A\n",
      "\u001b[A\n",
      "\u001b[A\n",
      "\u001b[A\n",
      "\u001b[A\n",
      "\u001b[A\n",
      "\u001b[A\n",
      "\u001b[A\n",
      "\u001b[A\n",
      "\u001b[A\n",
      "\u001b[A\n",
      "\u001b[A\n",
      "\u001b[A\n",
      "\u001b[A\n",
      "\u001b[A\n",
      "\u001b[A\n",
      "\u001b[A\n",
      "\u001b[A\n",
      "\u001b[A\n",
      "\u001b[A\n",
      "\u001b[A\n",
      "\u001b[A\n",
      "\u001b[A\n",
      "\u001b[A\n",
      "\u001b[A\n",
      "\u001b[A\n",
      "\u001b[A\n",
      "\u001b[A\n",
      "\u001b[A\n",
      "\u001b[A\n",
      "\u001b[A\n",
      "\u001b[A\n",
      "\u001b[A\n",
      "\u001b[A\n",
      "\u001b[A\n",
      "\u001b[A\n",
      "\u001b[A\n",
      "\u001b[A\n",
      "\u001b[A\n",
      "\u001b[A\n",
      "\u001b[A\n",
      "\u001b[A\n",
      "\u001b[A\n",
      "\u001b[A\n",
      "\u001b[A\n",
      "\u001b[A\n",
      "\u001b[A\n",
      "\u001b[A\n",
      "\u001b[A\n",
      "\u001b[A\n",
      "\u001b[A\n",
      "\u001b[A\n",
      "\u001b[A\n",
      "\u001b[A\n",
      "\u001b[A\n",
      "\u001b[A\n",
      "\u001b[A\n",
      "\u001b[A\n",
      "\u001b[A\n",
      "\u001b[A\n",
      "\u001b[A\n",
      "\u001b[A\n",
      "\u001b[A\n",
      "\u001b[A\n",
      "\u001b[A\n",
      "\u001b[A\n",
      "\u001b[A\n",
      "\u001b[A\n",
      "\u001b[A\n",
      "\u001b[A\n",
      "\u001b[A\n",
      "\u001b[A\n",
      "\u001b[A\n",
      "\u001b[A\n",
      "\u001b[A\n",
      "\u001b[A\n",
      "\u001b[A\n",
      "\u001b[A\n",
      "\u001b[A\n",
      "\u001b[A\n",
      "\u001b[A\n",
      "\u001b[A\n",
      "\u001b[A\n",
      "\u001b[A\n",
      "\u001b[A\n",
      "\u001b[A\n",
      "\u001b[A\n",
      "\u001b[A\n",
      "\u001b[A\n",
      "\u001b[A\n",
      "\u001b[A\n",
      "\u001b[A\n",
      "\u001b[A\n",
      "\u001b[A\n",
      "\u001b[A\n",
      "\u001b[A\n",
      "\u001b[A\n",
      "\u001b[A\n",
      "\u001b[A\n",
      "\u001b[A\n",
      "\u001b[A\n",
      "\u001b[A\n",
      "\u001b[A\n",
      "\u001b[A\n",
      "\u001b[A\n",
      "\u001b[A\n",
      "\u001b[A\n",
      "\u001b[A\n",
      "\u001b[A\n",
      "\u001b[A\n",
      "\u001b[A\n",
      "\u001b[A\n",
      "\u001b[A\n",
      "\u001b[A\n",
      "\u001b[A\n",
      "\u001b[A\n",
      "\u001b[A\n",
      "\u001b[A\n",
      "\u001b[A\n",
      "\u001b[A\n",
      "\u001b[A\n",
      "\u001b[A\n",
      "\u001b[A\n",
      "\u001b[A\n",
      "\u001b[A\n",
      "\u001b[A\n",
      "\u001b[A\n",
      "\u001b[A\n",
      "\u001b[A\n",
      "\u001b[A\n",
      "\u001b[A\n",
      "\u001b[A\n",
      "\u001b[A\n",
      "\u001b[A\n",
      "\u001b[A\n",
      "\u001b[A\n",
      "                                                 \n",
      "\n",
      "\u001b[A\u001b[A                                           \n",
      " 67%|██████▋   | 312/468 [16:15<11:03,  4.26s/it] \n",
      "\u001b[A\n",
      "\u001b[A"
     ]
    },
    {
     "name": "stdout",
     "output_type": "stream",
     "text": [
      "{'eval_loss': 0.3416026830673218, 'eval_precision': 0.6679574056147144, 'eval_recall': 0.14564643799472296, 'eval_f1': 0.23914738757473356, 'eval_accuracy': 0.9153784555393079, 'eval_runtime': 28.6657, 'eval_samples_per_second': 173.622, 'eval_steps_per_second': 5.442, 'epoch': 2.0}\n"
     ]
    },
    {
     "name": "stderr",
     "output_type": "stream",
     "text": [
      "100%|██████████| 468/468 [22:08<00:00,  1.62s/it]\n",
      "\u001b[A\n",
      "\u001b[A\n",
      "\u001b[A\n",
      "\u001b[A\n",
      "\u001b[A\n",
      "\u001b[A\n",
      "\u001b[A\n",
      "\u001b[A\n",
      "\u001b[A\n",
      "\u001b[A\n",
      "\u001b[A\n",
      "\u001b[A\n",
      "\u001b[A\n",
      "\u001b[A\n",
      "\u001b[A\n",
      "\u001b[A\n",
      "\u001b[A\n",
      "\u001b[A\n",
      "\u001b[A\n",
      "\u001b[A\n",
      "\u001b[A\n",
      "\u001b[A\n",
      "\u001b[A\n",
      "\u001b[A\n",
      "\u001b[A\n",
      "\u001b[A\n",
      "\u001b[A\n",
      "\u001b[A\n",
      "\u001b[A\n",
      "\u001b[A\n",
      "\u001b[A\n",
      "\u001b[A\n",
      "\u001b[A\n",
      "\u001b[A\n",
      "\u001b[A\n",
      "\u001b[A\n",
      "\u001b[A\n",
      "\u001b[A\n",
      "\u001b[A\n",
      "\u001b[A\n",
      "\u001b[A\n",
      "\u001b[A\n",
      "\u001b[A\n",
      "\u001b[A\n",
      "\u001b[A\n",
      "\u001b[A\n",
      "\u001b[A\n",
      "\u001b[A\n",
      "\u001b[A\n",
      "\u001b[A\n",
      "\u001b[A\n",
      "\u001b[A\n",
      "\u001b[A\n",
      "\u001b[A\n",
      "\u001b[A\n",
      "\u001b[A\n",
      "\u001b[A\n",
      "\u001b[A\n",
      "\u001b[A\n",
      "\u001b[A\n",
      "\u001b[A\n",
      "\u001b[A\n",
      "\u001b[A\n",
      "\u001b[A\n",
      "\u001b[A\n",
      "\u001b[A\n",
      "\u001b[A\n",
      "\u001b[A\n",
      "\u001b[A\n",
      "\u001b[A\n",
      "\u001b[A\n",
      "\u001b[A\n",
      "\u001b[A\n",
      "\u001b[A\n",
      "\u001b[A\n",
      "\u001b[A\n",
      "\u001b[A\n",
      "\u001b[A\n",
      "\u001b[A\n",
      "\u001b[A\n",
      "\u001b[A\n",
      "\u001b[A\n",
      "\u001b[A\n",
      "\u001b[A\n",
      "\u001b[A\n",
      "\u001b[A\n",
      "\u001b[A\n",
      "\u001b[A\n",
      "\u001b[A\n",
      "\u001b[A\n",
      "\u001b[A\n",
      "\u001b[A\n",
      "\u001b[A\n",
      "\u001b[A\n",
      "\u001b[A\n",
      "\u001b[A\n",
      "\u001b[A\n",
      "\u001b[A\n",
      "\u001b[A\n",
      "\u001b[A\n",
      "\u001b[A\n",
      "\u001b[A\n",
      "\u001b[A\n",
      "\u001b[A\n",
      "\u001b[A\n",
      "\u001b[A\n",
      "\u001b[A\n",
      "\u001b[A\n",
      "\u001b[A\n",
      "\u001b[A\n",
      "\u001b[A\n",
      "\u001b[A\n",
      "\u001b[A\n",
      "\u001b[A\n",
      "\u001b[A\n",
      "\u001b[A\n",
      "\u001b[A\n",
      "\u001b[A\n",
      "\u001b[A\n",
      "\u001b[A\n",
      "\u001b[A\n",
      "\u001b[A\n",
      "\u001b[A\n",
      "\u001b[A\n",
      "\u001b[A\n",
      "\u001b[A\n",
      "\u001b[A\n",
      "\u001b[A\n",
      "\u001b[A\n",
      "\u001b[A\n",
      "\u001b[A\n",
      "\u001b[A\n",
      "\u001b[A\n",
      "\u001b[A\n",
      "\u001b[A\n",
      "\u001b[A\n",
      "\u001b[A\n",
      "\u001b[A\n",
      "\u001b[A\n",
      "\u001b[A\n",
      "\u001b[A\n",
      "\u001b[A\n",
      "\u001b[A\n",
      "\u001b[A\n",
      "\u001b[A\n",
      "\u001b[A\n",
      "\u001b[A\n",
      "\u001b[A\n",
      "\u001b[A\n",
      "\u001b[A\n",
      "\u001b[A\n",
      "\u001b[A\n",
      "\u001b[A\n",
      "                                                 \n",
      "\u001b[A                                               \n",
      "\n",
      "100%|██████████| 468/468 [22:41<00:00,  1.62s/it]\n",
      "\u001b[A\n",
      "                                                 \n",
      "100%|██████████| 468/468 [22:41<00:00,  2.91s/it] \n"
     ]
    },
    {
     "name": "stdout",
     "output_type": "stream",
     "text": [
      "{'eval_loss': 0.27313411235809326, 'eval_precision': 0.6446612088486326, 'eval_recall': 0.39060686015831136, 'eval_f1': 0.48646161934805465, 'eval_accuracy': 0.9334047071930924, 'eval_runtime': 32.2241, 'eval_samples_per_second': 154.45, 'eval_steps_per_second': 4.841, 'epoch': 3.0}\n",
      "{'train_runtime': 1361.072, 'train_samples_per_second': 10.97, 'train_steps_per_second': 0.344, 'train_loss': 0.45656797620985246, 'epoch': 3.0}\n"
     ]
    }
   ],
   "source": [
    "trainer.train()\n",
    "trainer.save_model(MODEL_NAME)"
   ]
  },
  {
   "cell_type": "markdown",
   "metadata": {},
   "source": [
    "# 3 Base model inference\n",
    "In this step we load the test data from CONLL-U and test the labeling capabilities. We will test the labeling of arguments, their identification and the labeling of predicates as well (`V`). We will then plot these labelings and look at the scores.\n",
    "For now, we use the `classification_report` of Scikit-Learn since the `seqeval` method of HuggingFace is broker if you do not want to evaluate `NER`.\n",
    "\n",
    "First, we perform the dataset preprocessing and load the `tokenizer` from our fine-tunned model"
   ]
  },
  {
   "cell_type": "code",
   "execution_count": 23,
   "metadata": {},
   "outputs": [
    {
     "ename": "OSError",
     "evalue": "We couldn't connect to 'https://huggingface.co' to load this file, couldn't find it in the cached files and it looks like bert_baseline_model_train is not the path to a directory containing a file named config.json.\nCheckout your internet connection or see how to run the library in offline mode at 'https://huggingface.co/docs/transformers/installation#offline-mode'.",
     "output_type": "error",
     "traceback": [
      "\u001b[0;31m---------------------------------------------------------------------------\u001b[0m",
      "\u001b[0;31mLocalEntryNotFoundError\u001b[0m                   Traceback (most recent call last)",
      "File \u001b[0;32m/opt/homebrew/Caskroom/miniconda/base/envs/a3/lib/python3.10/site-packages/transformers/utils/hub.py:398\u001b[0m, in \u001b[0;36mcached_file\u001b[0;34m(path_or_repo_id, filename, cache_dir, force_download, resume_download, proxies, token, revision, local_files_only, subfolder, repo_type, user_agent, _raise_exceptions_for_gated_repo, _raise_exceptions_for_missing_entries, _raise_exceptions_for_connection_errors, _commit_hash, **deprecated_kwargs)\u001b[0m\n\u001b[1;32m    396\u001b[0m \u001b[39mtry\u001b[39;00m:\n\u001b[1;32m    397\u001b[0m     \u001b[39m# Load from URL or cache if already cached\u001b[39;00m\n\u001b[0;32m--> 398\u001b[0m     resolved_file \u001b[39m=\u001b[39m hf_hub_download(\n\u001b[1;32m    399\u001b[0m         path_or_repo_id,\n\u001b[1;32m    400\u001b[0m         filename,\n\u001b[1;32m    401\u001b[0m         subfolder\u001b[39m=\u001b[39;49m\u001b[39mNone\u001b[39;49;00m \u001b[39mif\u001b[39;49;00m \u001b[39mlen\u001b[39;49m(subfolder) \u001b[39m==\u001b[39;49m \u001b[39m0\u001b[39;49m \u001b[39melse\u001b[39;49;00m subfolder,\n\u001b[1;32m    402\u001b[0m         repo_type\u001b[39m=\u001b[39;49mrepo_type,\n\u001b[1;32m    403\u001b[0m         revision\u001b[39m=\u001b[39;49mrevision,\n\u001b[1;32m    404\u001b[0m         cache_dir\u001b[39m=\u001b[39;49mcache_dir,\n\u001b[1;32m    405\u001b[0m         user_agent\u001b[39m=\u001b[39;49muser_agent,\n\u001b[1;32m    406\u001b[0m         force_download\u001b[39m=\u001b[39;49mforce_download,\n\u001b[1;32m    407\u001b[0m         proxies\u001b[39m=\u001b[39;49mproxies,\n\u001b[1;32m    408\u001b[0m         resume_download\u001b[39m=\u001b[39;49mresume_download,\n\u001b[1;32m    409\u001b[0m         token\u001b[39m=\u001b[39;49mtoken,\n\u001b[1;32m    410\u001b[0m         local_files_only\u001b[39m=\u001b[39;49mlocal_files_only,\n\u001b[1;32m    411\u001b[0m     )\n\u001b[1;32m    412\u001b[0m \u001b[39mexcept\u001b[39;00m GatedRepoError \u001b[39mas\u001b[39;00m e:\n",
      "File \u001b[0;32m/opt/homebrew/Caskroom/miniconda/base/envs/a3/lib/python3.10/site-packages/huggingface_hub/utils/_validators.py:118\u001b[0m, in \u001b[0;36mvalidate_hf_hub_args.<locals>._inner_fn\u001b[0;34m(*args, **kwargs)\u001b[0m\n\u001b[1;32m    116\u001b[0m     kwargs \u001b[39m=\u001b[39m smoothly_deprecate_use_auth_token(fn_name\u001b[39m=\u001b[39mfn\u001b[39m.\u001b[39m\u001b[39m__name__\u001b[39m, has_token\u001b[39m=\u001b[39mhas_token, kwargs\u001b[39m=\u001b[39mkwargs)\n\u001b[0;32m--> 118\u001b[0m \u001b[39mreturn\u001b[39;00m fn(\u001b[39m*\u001b[39;49margs, \u001b[39m*\u001b[39;49m\u001b[39m*\u001b[39;49mkwargs)\n",
      "File \u001b[0;32m/opt/homebrew/Caskroom/miniconda/base/envs/a3/lib/python3.10/site-packages/huggingface_hub/file_download.py:1397\u001b[0m, in \u001b[0;36mhf_hub_download\u001b[0;34m(repo_id, filename, subfolder, repo_type, revision, library_name, library_version, cache_dir, local_dir, local_dir_use_symlinks, user_agent, force_download, force_filename, proxies, etag_timeout, resume_download, token, local_files_only, legacy_cache_layout, endpoint)\u001b[0m\n\u001b[1;32m   1396\u001b[0m \u001b[39mif\u001b[39;00m local_files_only:\n\u001b[0;32m-> 1397\u001b[0m     \u001b[39mraise\u001b[39;00m LocalEntryNotFoundError(\n\u001b[1;32m   1398\u001b[0m         \u001b[39m\"\u001b[39m\u001b[39mCannot find the requested files in the disk cache and outgoing traffic has been disabled. To enable\u001b[39m\u001b[39m\"\u001b[39m\n\u001b[1;32m   1399\u001b[0m         \u001b[39m\"\u001b[39m\u001b[39m hf.co look-ups and downloads online, set \u001b[39m\u001b[39m'\u001b[39m\u001b[39mlocal_files_only\u001b[39m\u001b[39m'\u001b[39m\u001b[39m to False.\u001b[39m\u001b[39m\"\u001b[39m\n\u001b[1;32m   1400\u001b[0m     )\n\u001b[1;32m   1401\u001b[0m \u001b[39melif\u001b[39;00m \u001b[39misinstance\u001b[39m(head_call_error, RepositoryNotFoundError) \u001b[39mor\u001b[39;00m \u001b[39misinstance\u001b[39m(head_call_error, GatedRepoError):\n\u001b[1;32m   1402\u001b[0m     \u001b[39m# Repo not found or gated => let's raise the actual error\u001b[39;00m\n",
      "\u001b[0;31mLocalEntryNotFoundError\u001b[0m: Cannot find the requested files in the disk cache and outgoing traffic has been disabled. To enable hf.co look-ups and downloads online, set 'local_files_only' to False.",
      "\nThe above exception was the direct cause of the following exception:\n",
      "\u001b[0;31mOSError\u001b[0m                                   Traceback (most recent call last)",
      "Cell \u001b[0;32mIn[23], line 7\u001b[0m\n\u001b[1;32m      4\u001b[0m filename \u001b[39m=\u001b[39m TRAIN_FILE_NAME \u001b[39mif\u001b[39;00m MODE \u001b[39m==\u001b[39m \u001b[39m'\u001b[39m\u001b[39mtrain\u001b[39m\u001b[39m'\u001b[39m \u001b[39melse\u001b[39;00m TEST_FILE_NAME \u001b[39mif\u001b[39;00m MODE \u001b[39m==\u001b[39m \u001b[39m'\u001b[39m\u001b[39mtest\u001b[39m\u001b[39m'\u001b[39m \u001b[39melse\u001b[39;00m DEV_FILE_NAME\n\u001b[1;32m      5\u001b[0m ds \u001b[39m=\u001b[39m process_df_into_ds(filename)\n\u001b[0;32m----> 7\u001b[0m tokenizer \u001b[39m=\u001b[39m AutoTokenizer\u001b[39m.\u001b[39;49mfrom_pretrained(MODEL_NAME, local_files_only\u001b[39m=\u001b[39;49m\u001b[39mTrue\u001b[39;49;00m)\n\u001b[1;32m      8\u001b[0m tokenized_datasets \u001b[39m=\u001b[39m ds\u001b[39m.\u001b[39mmap(\u001b[39mlambda\u001b[39;00m x: tokenize_and_align_labels(tokenizer, x))\n",
      "File \u001b[0;32m/opt/homebrew/Caskroom/miniconda/base/envs/a3/lib/python3.10/site-packages/transformers/models/auto/tokenization_auto.py:782\u001b[0m, in \u001b[0;36mAutoTokenizer.from_pretrained\u001b[0;34m(cls, pretrained_model_name_or_path, *inputs, **kwargs)\u001b[0m\n\u001b[1;32m    780\u001b[0m \u001b[39mif\u001b[39;00m config_tokenizer_class \u001b[39mis\u001b[39;00m \u001b[39mNone\u001b[39;00m:\n\u001b[1;32m    781\u001b[0m     \u001b[39mif\u001b[39;00m \u001b[39mnot\u001b[39;00m \u001b[39misinstance\u001b[39m(config, PretrainedConfig):\n\u001b[0;32m--> 782\u001b[0m         config \u001b[39m=\u001b[39m AutoConfig\u001b[39m.\u001b[39;49mfrom_pretrained(\n\u001b[1;32m    783\u001b[0m             pretrained_model_name_or_path, trust_remote_code\u001b[39m=\u001b[39;49mtrust_remote_code, \u001b[39m*\u001b[39;49m\u001b[39m*\u001b[39;49mkwargs\n\u001b[1;32m    784\u001b[0m         )\n\u001b[1;32m    785\u001b[0m     config_tokenizer_class \u001b[39m=\u001b[39m config\u001b[39m.\u001b[39mtokenizer_class\n\u001b[1;32m    786\u001b[0m     \u001b[39mif\u001b[39;00m \u001b[39mhasattr\u001b[39m(config, \u001b[39m\"\u001b[39m\u001b[39mauto_map\u001b[39m\u001b[39m\"\u001b[39m) \u001b[39mand\u001b[39;00m \u001b[39m\"\u001b[39m\u001b[39mAutoTokenizer\u001b[39m\u001b[39m\"\u001b[39m \u001b[39min\u001b[39;00m config\u001b[39m.\u001b[39mauto_map:\n",
      "File \u001b[0;32m/opt/homebrew/Caskroom/miniconda/base/envs/a3/lib/python3.10/site-packages/transformers/models/auto/configuration_auto.py:1111\u001b[0m, in \u001b[0;36mAutoConfig.from_pretrained\u001b[0;34m(cls, pretrained_model_name_or_path, **kwargs)\u001b[0m\n\u001b[1;32m   1108\u001b[0m trust_remote_code \u001b[39m=\u001b[39m kwargs\u001b[39m.\u001b[39mpop(\u001b[39m\"\u001b[39m\u001b[39mtrust_remote_code\u001b[39m\u001b[39m\"\u001b[39m, \u001b[39mNone\u001b[39;00m)\n\u001b[1;32m   1109\u001b[0m code_revision \u001b[39m=\u001b[39m kwargs\u001b[39m.\u001b[39mpop(\u001b[39m\"\u001b[39m\u001b[39mcode_revision\u001b[39m\u001b[39m\"\u001b[39m, \u001b[39mNone\u001b[39;00m)\n\u001b[0;32m-> 1111\u001b[0m config_dict, unused_kwargs \u001b[39m=\u001b[39m PretrainedConfig\u001b[39m.\u001b[39;49mget_config_dict(pretrained_model_name_or_path, \u001b[39m*\u001b[39;49m\u001b[39m*\u001b[39;49mkwargs)\n\u001b[1;32m   1112\u001b[0m has_remote_code \u001b[39m=\u001b[39m \u001b[39m\"\u001b[39m\u001b[39mauto_map\u001b[39m\u001b[39m\"\u001b[39m \u001b[39min\u001b[39;00m config_dict \u001b[39mand\u001b[39;00m \u001b[39m\"\u001b[39m\u001b[39mAutoConfig\u001b[39m\u001b[39m\"\u001b[39m \u001b[39min\u001b[39;00m config_dict[\u001b[39m\"\u001b[39m\u001b[39mauto_map\u001b[39m\u001b[39m\"\u001b[39m]\n\u001b[1;32m   1113\u001b[0m has_local_code \u001b[39m=\u001b[39m \u001b[39m\"\u001b[39m\u001b[39mmodel_type\u001b[39m\u001b[39m\"\u001b[39m \u001b[39min\u001b[39;00m config_dict \u001b[39mand\u001b[39;00m config_dict[\u001b[39m\"\u001b[39m\u001b[39mmodel_type\u001b[39m\u001b[39m\"\u001b[39m] \u001b[39min\u001b[39;00m CONFIG_MAPPING\n",
      "File \u001b[0;32m/opt/homebrew/Caskroom/miniconda/base/envs/a3/lib/python3.10/site-packages/transformers/configuration_utils.py:633\u001b[0m, in \u001b[0;36mPretrainedConfig.get_config_dict\u001b[0;34m(cls, pretrained_model_name_or_path, **kwargs)\u001b[0m\n\u001b[1;32m    631\u001b[0m original_kwargs \u001b[39m=\u001b[39m copy\u001b[39m.\u001b[39mdeepcopy(kwargs)\n\u001b[1;32m    632\u001b[0m \u001b[39m# Get config dict associated with the base config file\u001b[39;00m\n\u001b[0;32m--> 633\u001b[0m config_dict, kwargs \u001b[39m=\u001b[39m \u001b[39mcls\u001b[39;49m\u001b[39m.\u001b[39;49m_get_config_dict(pretrained_model_name_or_path, \u001b[39m*\u001b[39;49m\u001b[39m*\u001b[39;49mkwargs)\n\u001b[1;32m    634\u001b[0m \u001b[39mif\u001b[39;00m \u001b[39m\"\u001b[39m\u001b[39m_commit_hash\u001b[39m\u001b[39m\"\u001b[39m \u001b[39min\u001b[39;00m config_dict:\n\u001b[1;32m    635\u001b[0m     original_kwargs[\u001b[39m\"\u001b[39m\u001b[39m_commit_hash\u001b[39m\u001b[39m\"\u001b[39m] \u001b[39m=\u001b[39m config_dict[\u001b[39m\"\u001b[39m\u001b[39m_commit_hash\u001b[39m\u001b[39m\"\u001b[39m]\n",
      "File \u001b[0;32m/opt/homebrew/Caskroom/miniconda/base/envs/a3/lib/python3.10/site-packages/transformers/configuration_utils.py:688\u001b[0m, in \u001b[0;36mPretrainedConfig._get_config_dict\u001b[0;34m(cls, pretrained_model_name_or_path, **kwargs)\u001b[0m\n\u001b[1;32m    684\u001b[0m configuration_file \u001b[39m=\u001b[39m kwargs\u001b[39m.\u001b[39mpop(\u001b[39m\"\u001b[39m\u001b[39m_configuration_file\u001b[39m\u001b[39m\"\u001b[39m, CONFIG_NAME)\n\u001b[1;32m    686\u001b[0m \u001b[39mtry\u001b[39;00m:\n\u001b[1;32m    687\u001b[0m     \u001b[39m# Load from local folder or from cache or download from model Hub and cache\u001b[39;00m\n\u001b[0;32m--> 688\u001b[0m     resolved_config_file \u001b[39m=\u001b[39m cached_file(\n\u001b[1;32m    689\u001b[0m         pretrained_model_name_or_path,\n\u001b[1;32m    690\u001b[0m         configuration_file,\n\u001b[1;32m    691\u001b[0m         cache_dir\u001b[39m=\u001b[39;49mcache_dir,\n\u001b[1;32m    692\u001b[0m         force_download\u001b[39m=\u001b[39;49mforce_download,\n\u001b[1;32m    693\u001b[0m         proxies\u001b[39m=\u001b[39;49mproxies,\n\u001b[1;32m    694\u001b[0m         resume_download\u001b[39m=\u001b[39;49mresume_download,\n\u001b[1;32m    695\u001b[0m         local_files_only\u001b[39m=\u001b[39;49mlocal_files_only,\n\u001b[1;32m    696\u001b[0m         token\u001b[39m=\u001b[39;49mtoken,\n\u001b[1;32m    697\u001b[0m         user_agent\u001b[39m=\u001b[39;49muser_agent,\n\u001b[1;32m    698\u001b[0m         revision\u001b[39m=\u001b[39;49mrevision,\n\u001b[1;32m    699\u001b[0m         subfolder\u001b[39m=\u001b[39;49msubfolder,\n\u001b[1;32m    700\u001b[0m         _commit_hash\u001b[39m=\u001b[39;49mcommit_hash,\n\u001b[1;32m    701\u001b[0m     )\n\u001b[1;32m    702\u001b[0m     commit_hash \u001b[39m=\u001b[39m extract_commit_hash(resolved_config_file, commit_hash)\n\u001b[1;32m    703\u001b[0m \u001b[39mexcept\u001b[39;00m \u001b[39mEnvironmentError\u001b[39;00m:\n\u001b[1;32m    704\u001b[0m     \u001b[39m# Raise any environment error raise by `cached_file`. It will have a helpful error message adapted to\u001b[39;00m\n\u001b[1;32m    705\u001b[0m     \u001b[39m# the original exception.\u001b[39;00m\n",
      "File \u001b[0;32m/opt/homebrew/Caskroom/miniconda/base/envs/a3/lib/python3.10/site-packages/transformers/utils/hub.py:441\u001b[0m, in \u001b[0;36mcached_file\u001b[0;34m(path_or_repo_id, filename, cache_dir, force_download, resume_download, proxies, token, revision, local_files_only, subfolder, repo_type, user_agent, _raise_exceptions_for_gated_repo, _raise_exceptions_for_missing_entries, _raise_exceptions_for_connection_errors, _commit_hash, **deprecated_kwargs)\u001b[0m\n\u001b[1;32m    435\u001b[0m     \u001b[39mif\u001b[39;00m (\n\u001b[1;32m    436\u001b[0m         resolved_file \u001b[39mis\u001b[39;00m \u001b[39mnot\u001b[39;00m \u001b[39mNone\u001b[39;00m\n\u001b[1;32m    437\u001b[0m         \u001b[39mor\u001b[39;00m \u001b[39mnot\u001b[39;00m _raise_exceptions_for_missing_entries\n\u001b[1;32m    438\u001b[0m         \u001b[39mor\u001b[39;00m \u001b[39mnot\u001b[39;00m _raise_exceptions_for_connection_errors\n\u001b[1;32m    439\u001b[0m     ):\n\u001b[1;32m    440\u001b[0m         \u001b[39mreturn\u001b[39;00m resolved_file\n\u001b[0;32m--> 441\u001b[0m     \u001b[39mraise\u001b[39;00m \u001b[39mEnvironmentError\u001b[39;00m(\n\u001b[1;32m    442\u001b[0m         \u001b[39mf\u001b[39m\u001b[39m\"\u001b[39m\u001b[39mWe couldn\u001b[39m\u001b[39m'\u001b[39m\u001b[39mt connect to \u001b[39m\u001b[39m'\u001b[39m\u001b[39m{\u001b[39;00mHUGGINGFACE_CO_RESOLVE_ENDPOINT\u001b[39m}\u001b[39;00m\u001b[39m'\u001b[39m\u001b[39m to load this file, couldn\u001b[39m\u001b[39m'\u001b[39m\u001b[39mt find it in the\u001b[39m\u001b[39m\"\u001b[39m\n\u001b[1;32m    443\u001b[0m         \u001b[39mf\u001b[39m\u001b[39m\"\u001b[39m\u001b[39m cached files and it looks like \u001b[39m\u001b[39m{\u001b[39;00mpath_or_repo_id\u001b[39m}\u001b[39;00m\u001b[39m is not the path to a directory containing a file named\u001b[39m\u001b[39m\"\u001b[39m\n\u001b[1;32m    444\u001b[0m         \u001b[39mf\u001b[39m\u001b[39m\"\u001b[39m\u001b[39m \u001b[39m\u001b[39m{\u001b[39;00mfull_filename\u001b[39m}\u001b[39;00m\u001b[39m.\u001b[39m\u001b[39m\\n\u001b[39;00m\u001b[39mCheckout your internet connection or see how to run the library in offline mode at\u001b[39m\u001b[39m\"\u001b[39m\n\u001b[1;32m    445\u001b[0m         \u001b[39m\"\u001b[39m\u001b[39m \u001b[39m\u001b[39m'\u001b[39m\u001b[39mhttps://huggingface.co/docs/transformers/installation#offline-mode\u001b[39m\u001b[39m'\u001b[39m\u001b[39m.\u001b[39m\u001b[39m\"\u001b[39m\n\u001b[1;32m    446\u001b[0m     ) \u001b[39mfrom\u001b[39;00m \u001b[39me\u001b[39;00m\n\u001b[1;32m    447\u001b[0m \u001b[39mexcept\u001b[39;00m EntryNotFoundError \u001b[39mas\u001b[39;00m e:\n\u001b[1;32m    448\u001b[0m     \u001b[39mif\u001b[39;00m \u001b[39mnot\u001b[39;00m _raise_exceptions_for_missing_entries:\n",
      "\u001b[0;31mOSError\u001b[0m: We couldn't connect to 'https://huggingface.co' to load this file, couldn't find it in the cached files and it looks like bert_baseline_model_train is not the path to a directory containing a file named config.json.\nCheckout your internet connection or see how to run the library in offline mode at 'https://huggingface.co/docs/transformers/installation#offline-mode'."
     ]
    }
   ],
   "source": [
    "from transformers import AutoTokenizer\n",
    "from utils import tokenize_and_align_labels, process_df_into_ds \n",
    "MODEL_NAME = 'bert_baseline_model_train'\n",
    "filename = TRAIN_FILE_NAME if MODE == 'train' else TEST_FILE_NAME if MODE == 'test' else DEV_FILE_NAME\n",
    "ds = process_df_into_ds(filename)\n",
    "\n",
    "tokenizer = AutoTokenizer.from_pretrained(MODEL_NAME, local_files_only=True)\n",
    "tokenized_datasets = ds.map(lambda x: tokenize_and_align_labels(tokenizer, x))"
   ]
  },
  {
   "cell_type": "markdown",
   "metadata": {},
   "source": [
    "Now we want to load our *fine-tunned* model and perform inference on our dataset. We have the follow the same steps and previously (we will offload everything to CPU since MacOS is currently slow when using GPU acceleration on ARM hardware):\n",
    "1. Convert the `input_ids`, `attention_mask` and `label` column to **pytorch** format\n",
    "2. Compute the logits (probabilities) of each class for all inputs\n",
    "3. Get the maximum probability of each argument and make a list of actual predicted classes"
   ]
  },
  {
   "cell_type": "code",
   "execution_count": 16,
   "metadata": {},
   "outputs": [],
   "source": [
    "import pandas as pd\n",
    "from sklearn.metrics import classification_report\n",
    "import os\n",
    "from itertools import chain\n",
    "\n",
    "trained_model = AutoModelForTokenClassification.from_pretrained(MODEL_NAME, local_files_only=True).to('cpu')\n",
    "\n",
    "label_list = list(ds.features['label'].feature.names)\n",
    "with torch.inference_mode():\n",
    "\n",
    "    tokenized_datasets.set_format(type='torch', columns=['input_ids', 'attention_mask', 'label'])\n",
    "    input_ids = tokenized_datasets['input_ids'][:100]#.expand(1, -1)\n",
    "    attention_mask = tokenized_datasets['attention_mask'][:100]#.expand(1, -1)\n",
    "    logits = trained_model(input_ids=input_ids, attention_mask=attention_mask).logits\n",
    "    predicted_token_class_ids = torch.argmax(logits, dim=2).cpu()\n",
    "\n",
    "    \n"
   ]
  },
  {
   "cell_type": "markdown",
   "metadata": {},
   "source": [
    "Next, we will make sub-word comparisons of the labeling. For this particular evaluation we assumed that a subword has the same label as the parent word before tokenization so given that the prediction will be on subwords we take it as-is.\n",
    "\n",
    "We run over it and not count the tokens we are not interested in, `[SEP] pred [SEP]` and the padding tokens."
   ]
  },
  {
   "cell_type": "code",
   "execution_count": 17,
   "metadata": {},
   "outputs": [],
   "source": [
    "\n",
    "predictions = predicted_token_class_ids\n",
    "labels = tokenized_datasets['labels'][:100]\n",
    "proc_y_true = []\n",
    "proc_y_pred = []\n",
    "\n",
    "for prediction, label in zip(predictions, labels):\n",
    "    for p, l in zip(prediction, label):\n",
    "        if l != -100:\n",
    "            proc_y_true.append(label_list[l])\n",
    "            proc_y_pred.append(label_list[p.item()])\n",
    "\n",
    "true_labels = proc_y_true\n",
    "true_predictions = proc_y_pred \n",
    "\n",
    "true_predictions = [\n",
    "    [label_list[p] for (p, l) in zip(prediction, label) if l != -100]\n",
    "    for prediction, label in zip(predictions, labels)\n",
    "]\n",
    "true_labels = [\n",
    "    [label_list[l] for (p, l) in zip(prediction, label) if l != -100]\n",
    "    for prediction, label in zip(predictions, labels)\n",
    "]\n",
    "\n",
    "true_labels = list(chain.from_iterable(true_labels))\n",
    "true_predictions = list(chain.from_iterable(true_predictions))"
   ]
  },
  {
   "cell_type": "markdown",
   "metadata": {},
   "source": [
    "Now we create a table for the scores calculating the *F1*, *precision* and *recall* with `scikit-learn`. Also, we will relabel our arguments and save the results to a CSV."
   ]
  },
  {
   "cell_type": "code",
   "execution_count": 18,
   "metadata": {},
   "outputs": [],
   "source": [
    "\n",
    "cr = classification_report(true_labels, true_predictions, labels=label_list, zero_division=0, output_dict=True)\n",
    "df = pd.DataFrame.from_dict(cr)\n",
    "df.to_csv(f'{MODEL_NAME}.csv')"
   ]
  },
  {
   "cell_type": "markdown",
   "metadata": {},
   "source": [
    "# 3.1 Results of base model"
   ]
  },
  {
   "cell_type": "markdown",
   "metadata": {},
   "source": [
    "Here we can see the results of the base model from running in the test set. First, we can see the *precision*, *recall* and *F1* for each of the classes along with their averages using either **macro** or **weighted** aggregation methods.\n",
    "\n",
    "The Figure shows that the models ability to predict that something is not an argument is very good, with an *F1* score of $0.99$ `ARGM-TMP`, `ARGM-ADV` and `ARGM-CAU` are among the arguments with a high score in comparison with the others, notably `ARGM-TMP` has a $0.75$ as *F1* score. The Figure also shows that arguments like `ARG1` and `ARG2` are predicted but very badly predicted and `ARG0` is not predicted at all. For all other arguments there is a score of $0$. Meaning that the model did not make any predictions with respect to them.\n",
    "\n",
    "Overall, the **macro** average of *F1* is $0.099$, almost $10%$ accuracy. However, the **weighted** average tells another story. By weighting in the amount of times a particular lavel appears the *F1* is actually $0.9$. It is also worth noting if we look at the *support* column that many labels appear less than 100 times in the whole dataset. "
   ]
  },
  {
   "cell_type": "code",
   "execution_count": 25,
   "metadata": {},
   "outputs": [
    {
     "data": {
      "text/plain": [
       "<Axes: >"
      ]
     },
     "execution_count": 25,
     "metadata": {},
     "output_type": "execute_result"
    },
    {
     "data": {
      "image/png": "[encoded data removed]",
      "text/plain": [
       "<Figure size 2000x2000 with 2 Axes>"
      ]
     },
     "metadata": {},
     "output_type": "display_data"
    }
   ],
   "source": [
    "import seaborn as sns\n",
    "import matplotlib.pyplot as plt\n",
    "import matplotlib\n",
    "\n",
    "matplotlib.rcParams['figure.figsize'] = [20, 20]\n",
    "\n",
    "df = pd.read_csv(f'{MODEL_NAME}.csv', index_col=0)\n",
    "sns.heatmap(df.iloc[:-1, :].T, annot=True)"
   ]
  },
  {
   "cell_type": "markdown",
   "metadata": {},
   "source": [
    "Now lets look at the count of appearances of each label in the test set. From the almost 100K instances of tokens, about $90%$ is not an argument. Additionally, we can see that many appear less than 100 times. Makes sense that `ARGA` was not predicted since it is basically an outlier.\n"
   ]
  },
  {
   "cell_type": "code",
   "execution_count": 36,
   "metadata": {},
   "outputs": [
    {
     "data": {
      "text/plain": [
       "label\n",
       "O           91733\n",
       "ARG1         3345\n",
       "ARG0         1803\n",
       "ARG2         1137\n",
       "ARGM-TMP      545\n",
       "ARGM-ADV      497\n",
       "ARGM-MOD      442\n",
       "ARGM-ADJ      229\n",
       "ARGM-LOC      217\n",
       "ARGM-NEG      216\n",
       "ARGM-DIS      182\n",
       "ARGM-MNR      156\n",
       "ARGM-EXT      105\n",
       "ARG3           76\n",
       "ARGM-PRP       75\n",
       "ARGM-PRR       69\n",
       "ARGM-LVB       69\n",
       "ARG4           56\n",
       "ARGM-DIR       48\n",
       "ARGM-CAU       46\n",
       "ARGM-PRD       44\n",
       "ARGM-GOL       24\n",
       "ARGM-CXN       17\n",
       "ARGM-COM       13\n",
       "ARG1-DSP        5\n",
       "ARGA            2\n",
       "ARG5            1\n",
       "Name: count, dtype: int64"
      ]
     },
     "execution_count": 36,
     "metadata": {},
     "output_type": "execute_result"
    }
   ],
   "source": [
    "df['label'].value_counts()"
   ]
  },
  {
   "cell_type": "markdown",
   "metadata": {},
   "source": [
    "# 4 Advanced model\n",
    "Our advanced model is based on NegBERT .  NegBERT uses an annotation schema where certain groups of words are anotated of the labels with the aim of incorporating more information about *negation cues* into the model. According to the authors, this would in turn allow for better cue detection and span detection. We are trying to achieve something similar in the baseline model by appending the predicate at the end, however we do not use a MLP as an additionaly head of the output of the model. However, we will add more information to the input adding the base form of the predicate after the baseline. Thus resulting in `[CLS] sent [SEP] pred pred_base [SEP]` where `pred_base` would be the lemma of the predicate and the classification by PropBank.\n",
    "\n",
    "Given the previous situation where the model is overfitting and not generalizing correcly, we decide to give more information to the model about the predicate. Instead of using an additional token like NegBERT, we just make our input longer with more predicate information.\n",
    "\n",
    "To do this we only need to modify our existing utility function for creating the tokenized dataset and add some more steps to it. With that, we just change the following"
   ]
  },
  {
   "cell_type": "code",
   "execution_count": 69,
   "metadata": {},
   "outputs": [
    {
     "data": {
      "text/plain": [
       "['[CLS]',\n",
       " 'four',\n",
       " 'months',\n",
       " 'later',\n",
       " ',',\n",
       " 'we',\n",
       " 'were',\n",
       " 'married',\n",
       " '.',\n",
       " '[SEP]',\n",
       " 'were',\n",
       " 'be',\n",
       " '.',\n",
       " '03',\n",
       " '[SEP]']"
      ]
     },
     "execution_count": 69,
     "metadata": {},
     "output_type": "execute_result"
    }
   ],
   "source": [
    "row = ds[0]\n",
    "\n",
    "tok_base = tokenizer(row['token'], is_split_into_words=True)\n",
    "tok_pred_word = tokenizer(row['predicate_token'], is_split_into_words=True)\n",
    "tok_pred_base = tokenizer(row['predicate'], is_split_into_words=True)\n",
    "\n",
    "\n",
    "\n",
    "\n",
    "tok_in = tokenizer(row['token'], [row['predicate_token'][0], row['predicate'][0]], is_split_into_words=True)\n",
    "tokenizer.convert_ids_to_tokens(tok_in['input_ids'])"
   ]
  },
  {
   "cell_type": "markdown",
   "metadata": {},
   "source": [
    "We see this simple change already gives us the desire results. We proceed to test it."
   ]
  },
  {
   "cell_type": "code",
   "execution_count": 32,
   "metadata": {},
   "outputs": [
    {
     "name": "stderr",
     "output_type": "stream",
     "text": [
      "Map: 100%|██████████| 4799/4799 [00:03<00:00, 1488.95 examples/s]\n"
     ]
    }
   ],
   "source": [
    "from utils import tokenize_and_align_labels_2\n",
    "tokenized_datasets_2 = ds.map(lambda x: tokenize_and_align_labels_2(tokenizer, x))"
   ]
  },
  {
   "cell_type": "markdown",
   "metadata": {},
   "source": [
    "We can reuse the training arguments from before, we will just reset them."
   ]
  },
  {
   "cell_type": "code",
   "execution_count": null,
   "metadata": {},
   "outputs": [],
   "source": [
    "\n",
    "args = TrainingArguments(\n",
    "    f\"{model_name}-finetuned-{task}\",\n",
    "    evaluation_strategy = \"epoch\",\n",
    "    learning_rate=LR,\n",
    "    per_device_train_batch_size=BATCH_SIZE,\n",
    "    per_device_eval_batch_size=BATCH_SIZE,\n",
    "    num_train_epochs=EPOCHS,\n",
    "    weight_decay=WEIGHT_DECAY,\n",
    "    push_to_hub=False,\n",
    ")\n",
    "\n",
    "model = AutoModelForTokenClassification.from_pretrained(model_name, num_labels=len(label_list))\n",
    "\n",
    "data_collator = DataCollatorForTokenClassification(tokenizer)\n"
   ]
  },
  {
   "cell_type": "markdown",
   "metadata": {},
   "source": [
    "Now we define a new trainer and make a copy from the dataset that we already used and proceed to training"
   ]
  },
  {
   "cell_type": "code",
   "execution_count": 27,
   "metadata": {},
   "outputs": [
    {
     "ename": "NameError",
     "evalue": "name 'tokenized_datasets_2' is not defined",
     "output_type": "error",
     "traceback": [
      "\u001b[0;31m---------------------------------------------------------------------------\u001b[0m",
      "\u001b[0;31mNameError\u001b[0m                                 Traceback (most recent call last)",
      "Cell \u001b[0;32mIn[27], line 3\u001b[0m\n\u001b[1;32m      1\u001b[0m \u001b[39mfrom\u001b[39;00m \u001b[39mutils\u001b[39;00m \u001b[39mimport\u001b[39;00m compute_metrics\n\u001b[1;32m      2\u001b[0m MODEL_NAME \u001b[39m=\u001b[39m \u001b[39m'\u001b[39m\u001b[39mbert_advanced_model_train\u001b[39m\u001b[39m'\u001b[39m\n\u001b[0;32m----> 3\u001b[0m td_2 \u001b[39m=\u001b[39m tokenized_datasets_2\u001b[39m.\u001b[39mremove_columns(ds\u001b[39m.\u001b[39mcolumn_names)\n\u001b[1;32m      4\u001b[0m trainer_2 \u001b[39m=\u001b[39m Trainer(\n\u001b[1;32m      5\u001b[0m     model,\n\u001b[1;32m      6\u001b[0m     args,\n\u001b[0;32m   (...)\u001b[0m\n\u001b[1;32m     11\u001b[0m     compute_metrics\u001b[39m=\u001b[39m\u001b[39mlambda\u001b[39;00m x: compute_metrics(x, label_list),\n\u001b[1;32m     12\u001b[0m )\n\u001b[1;32m     14\u001b[0m trainer_2\u001b[39m.\u001b[39mtrain()\n",
      "\u001b[0;31mNameError\u001b[0m: name 'tokenized_datasets_2' is not defined"
     ]
    }
   ],
   "source": [
    "\n",
    "from utils import compute_metrics\n",
    "MODEL_NAME = 'bert_advanced_model_train'\n",
    "td_2 = tokenized_datasets_2.remove_columns(ds.column_names)\n",
    "trainer_2 = Trainer(\n",
    "    model,\n",
    "    args,\n",
    "    train_dataset=td_2,\n",
    "    eval_dataset=td_2,\n",
    "    data_collator=data_collator,\n",
    "    tokenizer=tokenizer,\n",
    "    compute_metrics=lambda x: compute_metrics(x, label_list),\n",
    ")\n",
    "\n",
    "trainer_2.train()\n",
    "trainer_2.save_model(MODEL_NAME)\n"
   ]
  },
  {
   "cell_type": "markdown",
   "metadata": {},
   "source": [
    "# 4.1 Model results\n",
    " "
   ]
  },
  {
   "cell_type": "markdown",
   "metadata": {},
   "source": [
    "Same as before, we load the `tokenizer` from the trained model"
   ]
  },
  {
   "cell_type": "code",
   "execution_count": null,
   "metadata": {},
   "outputs": [],
   "source": [
    "\n",
    "from transformers import AutoTokenizer\n",
    "from utils import tokenize_and_align_labels_2, process_df_into_ds\n",
    "MODEL_NAME = 'bert_advanced_model_train'\n",
    "filename = TRAIN_FILE_NAME if MODE == 'train' else TEST_FILE_NAME if MODE == 'test' else DEV_FILE_NAME\n",
    "ds = process_df_into_ds(filename)\n",
    "tokenizer = AutoTokenizer.from_pretrained(MODEL_NAME, local_files_only=True)\n",
    "tokenized_datasets = ds.map(lambda x: tokenize_and_align_labels_2(tokenizer, x))"
   ]
  },
  {
   "cell_type": "markdown",
   "metadata": {},
   "source": [
    "Here we have in just one cell the same step as with the previous model. Just executing the same code, getting the probabilities, using the maxium and then calculating the scores and putting them on a table."
   ]
  },
  {
   "cell_type": "code",
   "execution_count": null,
   "metadata": {},
   "outputs": [],
   "source": [
    "import pandas as pd\n",
    "from sklearn.metrics import classification_report\n",
    "import os\n",
    "from itertools import chain\n",
    "\n",
    "trained_model = AutoModelForTokenClassification.from_pretrained(MODEL_NAME, local_files_only=True).to('cpu')\n",
    "\n",
    "label_list = list(ds.features['label'].feature.names)\n",
    "with torch.inference_mode():\n",
    "\n",
    "    tokenized_datasets.set_format(type='torch', columns=['input_ids', 'attention_mask', 'label'])\n",
    "    input_ids = tokenized_datasets['input_ids']#[:100]#.expand(1, -1)\n",
    "    attention_mask = tokenized_datasets['attention_mask']#[:100]#.expand(1, -1)\n",
    "    logits = trained_model(input_ids=input_ids, attention_mask=attention_mask).logits\n",
    "    predicted_token_class_ids = torch.argmax(logits, dim=2).cpu()\n",
    "\n",
    "\n",
    "    predictions = predicted_token_class_ids\n",
    "    labels = tokenized_datasets['labels']#[:100]\n",
    "    proc_y_true = []\n",
    "    proc_y_pred = []\n",
    "\n",
    "    for prediction, label in zip(predictions, labels):\n",
    "        for p, l in zip(prediction, label):\n",
    "            if l != -100:\n",
    "                proc_y_true.append(label_list[l])\n",
    "                proc_y_pred.append(label_list[p.item()])\n",
    "\n",
    "    true_labels = proc_y_true\n",
    "    true_predictions = proc_y_pred \n",
    "\n",
    "    cr = classification_report(true_labels, true_predictions, labels=label_list, zero_division=0, output_dict=True)\n",
    "    df = pd.DataFrame.from_dict(cr)\n",
    "    df.to_csv(f'{MODEL_NAME}.csv')"
   ]
  },
  {
   "cell_type": "markdown",
   "metadata": {},
   "source": [
    "By looking at the plot below we can see that the overall averages both in terms of **weighted** and **macro** averages are worse than before. That will be reflected in the individual cells. Note that in the Figure, the *precision* for `ARGM-TMP` and `ARGM-ADV` is higher than with the baseline model. Consequently, the *recall* scores are much lower. Additionally `ARGM-CAU` no longer has any predictions and the average **macro** for *F1* is lower than the baseline."
   ]
  },
  {
   "cell_type": "code",
   "execution_count": 28,
   "metadata": {},
   "outputs": [
    {
     "data": {
      "text/plain": [
       "<Axes: >"
      ]
     },
     "execution_count": 28,
     "metadata": {},
     "output_type": "execute_result"
    },
    {
     "data": {
      "image/png": "[encoded data removed]",
      "text/plain": [
       "<Figure size 2000x2000 with 2 Axes>"
      ]
     },
     "metadata": {},
     "output_type": "display_data"
    }
   ],
   "source": [
    "import pandas as pd\n",
    "import seaborn as sns\n",
    "import matplotlib.pyplot as plt\n",
    "import matplotlib\n",
    "\n",
    "matplotlib.rcParams['figure.figsize'] = [20, 20]\n",
    "df = pd.read_csv(f'{MODEL_NAME}.csv', index_col=0)\n",
    "sns.heatmap(df.iloc[:-1, :].T, annot=True)"
   ]
  },
  {
   "cell_type": "markdown",
   "metadata": {},
   "source": [
    "# 5 Discussion and Conclusions"
   ]
  },
  {
   "cell_type": "markdown",
   "metadata": {},
   "source": [
    "We implemeted two versions of the `distilBERT` model, a distilled version of `BERT` that trains and infers faster while retaining a $97%$ of performance. We preprocessed the `PropBank` dataset for english in `CONLL-U` format to feed the training to the models. Our first model is a baseline comparison point of `BERT`, using the *question/answer* tokenization schema where the *question* is the sentence and *answer* is the predicate of the sentence. While performing relatively well on the training set, the test set performance proved to be very low on the task of argument classification. The next model, a similar version but that also encoded the lemmatized version of the predicate and an indicator number according to meaning in the *answer* part of the tokenization schema performed somewhat similarly. It showed very good indentification scores but poor classification power in many arguments.\n",
    "\n",
    "As we saw in the previous section, the distribution over the test dataset of the arguments is very different from the training set. For this, we believe the model was not able to correctly capture the required information of the training data to generalize and thus it does poorly and the classification task. While it does perform very well at identifyin if a token is an argument or not, we believe that there is further work to do on this matter. Providing the input with more argument information would be a way to augment the information the model has about arguments. Also, experimenting with hyperparameter tunning or just chaning batch sizes and learning rate might influence the output. As the model seems to be overfitting, maybe an intermediate model along the training generalizes better. While testing on the development set we found that a model training on that small set has better classification scores of `ARG0`, `ARG1` and `ARG2`."
   ]
  }
 ],
 "metadata": {
  "kernelspec": {
   "display_name": "anlpa1",
   "language": "python",
   "name": "python3"
  },
  "language_info": {
   "codemirror_mode": {
    "name": "ipython",
    "version": 3
   },
   "file_extension": ".py",
   "mimetype": "text/x-python",
   "name": "python",
   "nbconvert_exporter": "python",
   "pygments_lexer": "ipython3",
   "version": "3.10.13"
  },
  "orig_nbformat": 4
 },
 "nbformat": 4,
 "nbformat_minor": 2
}
