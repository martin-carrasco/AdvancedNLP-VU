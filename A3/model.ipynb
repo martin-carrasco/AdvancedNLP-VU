{
 "cells": [
  {
   "cell_type": "code",
   "execution_count": 5,
   "metadata": {},
   "outputs": [
    {
     "name": "stdout",
     "output_type": "stream",
     "text": [
      "The autoreload extension is already loaded. To reload it, use:\n",
      "  %reload_ext autoreload\n"
     ]
    }
   ],
   "source": [
    "from transformers import AutoModelForTokenClassification, TrainingArguments, Trainer, AutoConfig, AutoTokenizer\n",
    "import torch\n",
    "from datasets import Dataset, Sequence, ClassLabel, Features, Value\n",
    "\n",
    "import evaluate\n",
    "from transformers import DataCollatorForTokenClassification\n",
    "from sklearn.metrics import classification_report\n",
    "import numpy as np\n",
    "import pandas as pd\n",
    "import random\n",
    "from torch_scatter import scatter\n",
    "\n",
    "from preproc.utils import tokenize_and_align, compute_metrics, process_df_into_ds\n",
    "from preproc.parsing import preprocess\n",
    "%load_ext autoreload\n",
    "%autoreload 2\n"
   ]
  },
  {
   "cell_type": "markdown",
   "metadata": {},
   "source": [
    "# 1. Preprocessing\n",
    "First, we will define some paths and constant variables.\n",
    "+ `DATA_NAME`: The name of the file to use for training\n",
    "+ `MODE`: It can either be `train` or `test` depending on wether a model already exists or not\n",
    "+ `PER_DS`: It is the percentage of the dataset that is sampled for training"
   ]
  },
  {
   "cell_type": "code",
   "execution_count": 6,
   "metadata": {},
   "outputs": [],
   "source": [
    "TRAIN_FILE_NAME = 'en_ewt-up-train.conllu'\n",
    "TEST_FILE_NAME = 'en_ewt-up-test.conllu'\n",
    "DEV_FILE_NAME = 'en_ewt-up-dev.conllu'\n",
    "model_name = 'bert-base-uncased'\n",
    "MODEL_NAME = 'bert_a3_10ep'\n",
    "MODE='test'\n",
    "device = 'cuda' if torch.cuda.is_available() else 'cpu'\n",
    "PER_DS = 0.1"
   ]
  },
  {
   "cell_type": "markdown",
   "metadata": {},
   "source": [
    "## 1.1 Calling external libraries\n",
    "We will call the preprocessing library with the `DATA_NAME` file that we used earlier. It should be located in the `data/raw` path for it to be recongnized. It will go over the the CONLL-U file and create a dataframe with it as well as organize the argument label and repeat the tokes as many times at there are predictes in a given sentence. Consequently, if there are 3 predicates in a sentence, there will be 3 rows with the same token per sentence with a different target label depending on if they are part of the argument or not and which argument they are for that predicate.\n",
    "\n",
    "Also, during preprocessing the arguments with a `C-` or `R-` prefix will be merged with their respective suffix. We do this as they are *continuous* or *reference* arguments. Meaning that given the interpretation, we could label them to same. The merge is based on [[1]](https://arxiv.org/abs/2210.06408). We have decided to do this as our motivation lies in identified the types of clauses rather than the specific differentiation if it is a reference or a continuation. \n",
    "\n",
    "Additionally, we will label predicates as `O`, not an argument.\n",
    "\n",
    "***\n",
    "[1]: Jindal, I., Rademaker, A., Tran, K. N., Zhu, H., Kanayama, H., Danilevsky, M., & Li, Y. (2022). PriMeSRL-Eval: A Practical Quality Metric for Semantic Role Labeling Systems Evaluation. arXiv preprint arXiv:2210.06408.\n",
    "***"
   ]
  },
  {
   "cell_type": "code",
   "execution_count": 4,
   "metadata": {},
   "outputs": [
    {
     "name": "stdout",
     "output_type": "stream",
     "text": [
      "Skipping sentence with invalid format\n",
      "Skipping sentence with invalid format\n"
     ]
    }
   ],
   "source": [
    "filename = TRAIN_FILE_NAME if MODE == 'train' else DEV_FILE_NAME\n",
    "eval_filename = DEV_FILE_NAME\n",
    "df, label_list = preprocess(filename, force=True)\n",
    "eval_df, dev_labels = preprocess(eval_filename, force=True)\n"
   ]
  },
  {
   "cell_type": "markdown",
   "metadata": {},
   "source": [
    "Let's look at the parsed data in the `Dataframe` format to see what we are dealing with\n"
   ]
  },
  {
   "cell_type": "code",
   "execution_count": 91,
   "metadata": {},
   "outputs": [
    {
     "data": {
      "text/html": [
       "<div>\n",
       "<style scoped>\n",
       "    .dataframe tbody tr th:only-of-type {\n",
       "        vertical-align: middle;\n",
       "    }\n",
       "\n",
       "    .dataframe tbody tr th {\n",
       "        vertical-align: top;\n",
       "    }\n",
       "\n",
       "    .dataframe thead th {\n",
       "        text-align: right;\n",
       "    }\n",
       "</style>\n",
       "<table border=\"1\" class=\"dataframe\">\n",
       "  <thead>\n",
       "    <tr style=\"text-align: right;\">\n",
       "      <th></th>\n",
       "      <th>id</th>\n",
       "      <th>position</th>\n",
       "      <th>token</th>\n",
       "      <th>lemma</th>\n",
       "      <th>pos_u</th>\n",
       "      <th>pos_tag</th>\n",
       "      <th>d_tag</th>\n",
       "      <th>head</th>\n",
       "      <th>dep_tag</th>\n",
       "      <th>is_pred</th>\n",
       "      <th>pred</th>\n",
       "      <th>pred_base</th>\n",
       "      <th>label</th>\n",
       "      <th>sentence_id</th>\n",
       "    </tr>\n",
       "  </thead>\n",
       "  <tbody>\n",
       "    <tr>\n",
       "      <th>0</th>\n",
       "      <td>[1, 2, 3, 4, 5, 6, 7, 8, 9, 10, 11, 12, 13, 14...</td>\n",
       "      <td>[0, 1, 2, 3, 4, 5, 6, 7, 8, 9, 10, 11, 12, 13,...</td>\n",
       "      <td>['Al', '-', 'Zaman', ':', 'American', 'forces'...</td>\n",
       "      <td>['Al', '-', 'Zaman', ':', 'american', 'force',...</td>\n",
       "      <td>['PROPN', 'PUNCT', 'PROPN', 'PUNCT', 'ADJ', 'N...</td>\n",
       "      <td>['NNP', 'HYPH', 'NNP', ':', 'JJ', 'NNS', 'VBD'...</td>\n",
       "      <td>['Number=Sing', '_', 'Number=Sing', '_', 'Degr...</td>\n",
       "      <td>['0', '1', '1', '1', '6', '7', '1', '7', '8', ...</td>\n",
       "      <td>['root', 'punct', 'flat', 'punct', 'amod', 'ns...</td>\n",
       "      <td>[False, False, False, False, False, False, Tru...</td>\n",
       "      <td>['killed', 'killed', 'killed', 'killed', 'kill...</td>\n",
       "      <td>['kill.01', 'kill.01', 'kill.01', 'kill.01', '...</td>\n",
       "      <td>['O', 'O', 'O', 'O', 'O', 'B-ARG0', 'B-V', 'B-...</td>\n",
       "      <td>0</td>\n",
       "    </tr>\n",
       "    <tr>\n",
       "      <th>1</th>\n",
       "      <td>[1, 2, 3, 4, 5, 6, 7, 8, 9, 10, 11, 12, 13, 14...</td>\n",
       "      <td>[0, 1, 2, 3, 4, 5, 6, 7, 8, 9, 10, 11, 12, 13,...</td>\n",
       "      <td>['[', 'This', 'killing', 'of', 'a', 'respected...</td>\n",
       "      <td>['[', 'this', 'killing', 'of', 'a', 'respected...</td>\n",
       "      <td>['PUNCT', 'DET', 'NOUN', 'ADP', 'DET', 'ADJ', ...</td>\n",
       "      <td>['-LRB-', 'DT', 'NN', 'IN', 'DT', 'JJ', 'NN', ...</td>\n",
       "      <td>['_', 'Number=Sing|PronType=Dem', 'Number=Sing...</td>\n",
       "      <td>['10', '3', '10', '7', '7', '7', '3', '10', '1...</td>\n",
       "      <td>['punct', 'det', 'nsubj', 'case', 'det', 'amod...</td>\n",
       "      <td>[False, False, True, False, False, False, Fals...</td>\n",
       "      <td>['killing', 'killing', 'killing', 'killing', '...</td>\n",
       "      <td>['kill.01', 'kill.01', 'kill.01', 'kill.01', '...</td>\n",
       "      <td>['O', 'O', 'B-V', 'O', 'O', 'O', 'B-ARG1', 'O'...</td>\n",
       "      <td>1</td>\n",
       "    </tr>\n",
       "    <tr>\n",
       "      <th>2</th>\n",
       "      <td>[1, 2, 3, 4, 5, 6, 7, 8, 9, 10, 11, 12, 13, 14...</td>\n",
       "      <td>[0, 1, 2, 3, 4, 5, 6, 7, 8, 9, 10, 11, 12, 13,...</td>\n",
       "      <td>['[', 'This', 'killing', 'of', 'a', 'respected...</td>\n",
       "      <td>['[', 'this', 'killing', 'of', 'a', 'respected...</td>\n",
       "      <td>['PUNCT', 'DET', 'NOUN', 'ADP', 'DET', 'ADJ', ...</td>\n",
       "      <td>['-LRB-', 'DT', 'NN', 'IN', 'DT', 'JJ', 'NN', ...</td>\n",
       "      <td>['_', 'Number=Sing|PronType=Dem', 'Number=Sing...</td>\n",
       "      <td>['10', '3', '10', '7', '7', '7', '3', '10', '1...</td>\n",
       "      <td>['punct', 'det', 'nsubj', 'case', 'det', 'amod...</td>\n",
       "      <td>[False, False, True, False, False, False, Fals...</td>\n",
       "      <td>['be', 'be', 'be', 'be', 'be', 'be', 'be', 'be...</td>\n",
       "      <td>['be.03', 'be.03', 'be.03', 'be.03', 'be.03', ...</td>\n",
       "      <td>['O', 'O', 'O', 'O', 'O', 'O', 'O', 'O', 'B-V'...</td>\n",
       "      <td>1</td>\n",
       "    </tr>\n",
       "    <tr>\n",
       "      <th>3</th>\n",
       "      <td>[1, 2, 3, 4, 5, 6, 7, 8, 9, 10, 11, 12, 13, 14...</td>\n",
       "      <td>[0, 1, 2, 3, 4, 5, 6, 7, 8, 9, 10, 11, 12, 13,...</td>\n",
       "      <td>['[', 'This', 'killing', 'of', 'a', 'respected...</td>\n",
       "      <td>['[', 'this', 'killing', 'of', 'a', 'respected...</td>\n",
       "      <td>['PUNCT', 'DET', 'NOUN', 'ADP', 'DET', 'ADJ', ...</td>\n",
       "      <td>['-LRB-', 'DT', 'NN', 'IN', 'DT', 'JJ', 'NN', ...</td>\n",
       "      <td>['_', 'Number=Sing|PronType=Dem', 'Number=Sing...</td>\n",
       "      <td>['10', '3', '10', '7', '7', '7', '3', '10', '1...</td>\n",
       "      <td>['punct', 'det', 'nsubj', 'case', 'det', 'amod...</td>\n",
       "      <td>[False, False, True, False, False, False, Fals...</td>\n",
       "      <td>['causing', 'causing', 'causing', 'causing', '...</td>\n",
       "      <td>['cause.01', 'cause.01', 'cause.01', 'cause.01...</td>\n",
       "      <td>['O', 'O', 'B-ARG0', 'O', 'O', 'O', 'O', 'B-AR...</td>\n",
       "      <td>1</td>\n",
       "    </tr>\n",
       "    <tr>\n",
       "      <th>4</th>\n",
       "      <td>[1, 2, 3, 4, 5, 6, 7, 8, 9, 10, 11, 12, 13, 14...</td>\n",
       "      <td>[0, 1, 2, 3, 4, 5, 6, 7, 8, 9, 10, 11, 12, 13,...</td>\n",
       "      <td>['[', 'This', 'killing', 'of', 'a', 'respected...</td>\n",
       "      <td>['[', 'this', 'killing', 'of', 'a', 'respected...</td>\n",
       "      <td>['PUNCT', 'DET', 'NOUN', 'ADP', 'DET', 'ADJ', ...</td>\n",
       "      <td>['-LRB-', 'DT', 'NN', 'IN', 'DT', 'JJ', 'NN', ...</td>\n",
       "      <td>['_', 'Number=Sing|PronType=Dem', 'Number=Sing...</td>\n",
       "      <td>['10', '3', '10', '7', '7', '7', '3', '10', '1...</td>\n",
       "      <td>['punct', 'det', 'nsubj', 'case', 'det', 'amod...</td>\n",
       "      <td>[False, False, True, False, False, False, Fals...</td>\n",
       "      <td>['come', 'come', 'come', 'come', 'come', 'come...</td>\n",
       "      <td>['come.01', 'come.01', 'come.01', 'come.01', '...</td>\n",
       "      <td>['O', 'O', 'O', 'O', 'O', 'O', 'O', 'O', 'O', ...</td>\n",
       "      <td>1</td>\n",
       "    </tr>\n",
       "    <tr>\n",
       "      <th>...</th>\n",
       "      <td>...</td>\n",
       "      <td>...</td>\n",
       "      <td>...</td>\n",
       "      <td>...</td>\n",
       "      <td>...</td>\n",
       "      <td>...</td>\n",
       "      <td>...</td>\n",
       "      <td>...</td>\n",
       "      <td>...</td>\n",
       "      <td>...</td>\n",
       "      <td>...</td>\n",
       "      <td>...</td>\n",
       "      <td>...</td>\n",
       "      <td>...</td>\n",
       "    </tr>\n",
       "    <tr>\n",
       "      <th>40357</th>\n",
       "      <td>[1, 2, 3, 4, 5, 6, 7, 8, 9, 10, 11, 12, 13, 14...</td>\n",
       "      <td>[0, 1, 2, 3, 4, 5, 6, 7, 8, 9, 10, 11, 12, 13,...</td>\n",
       "      <td>['I', 'will', 'never', 'return', 'there', 'aga...</td>\n",
       "      <td>['I', 'will', 'never', 'return', 'there', 'aga...</td>\n",
       "      <td>['PRON', 'AUX', 'ADV', 'VERB', 'ADV', 'ADV', '...</td>\n",
       "      <td>['PRP', 'MD', 'RB', 'VB', 'RB', 'RB', '-LRB-',...</td>\n",
       "      <td>['Case=Nom|Number=Sing|Person=1|PronType=Prs',...</td>\n",
       "      <td>['4', '4', '4', '0', '4', '4', '4', '10', '10'...</td>\n",
       "      <td>['nsubj', 'aux', 'advmod', 'root', 'advmod', '...</td>\n",
       "      <td>[False, False, False, True, False, False, Fals...</td>\n",
       "      <td>['return', 'return', 'return', 'return', 'retu...</td>\n",
       "      <td>['return.01', 'return.01', 'return.01', 'retur...</td>\n",
       "      <td>['B-ARG1', 'B-ARGM-MOD', 'B-ARGM-NEG', 'B-V', ...</td>\n",
       "      <td>12520</td>\n",
       "    </tr>\n",
       "    <tr>\n",
       "      <th>40358</th>\n",
       "      <td>[1, 2, 3, 4, 5, 6, 7, 8, 9, 10, 11, 12, 13, 14...</td>\n",
       "      <td>[0, 1, 2, 3, 4, 5, 6, 7, 8, 9, 10, 11, 12, 13,...</td>\n",
       "      <td>['I', 'will', 'never', 'return', 'there', 'aga...</td>\n",
       "      <td>['I', 'will', 'never', 'return', 'there', 'aga...</td>\n",
       "      <td>['PRON', 'AUX', 'ADV', 'VERB', 'ADV', 'ADV', '...</td>\n",
       "      <td>['PRP', 'MD', 'RB', 'VB', 'RB', 'RB', '-LRB-',...</td>\n",
       "      <td>['Case=Nom|Number=Sing|Person=1|PronType=Prs',...</td>\n",
       "      <td>['4', '4', '4', '0', '4', '4', '4', '10', '10'...</td>\n",
       "      <td>['nsubj', 'aux', 'advmod', 'root', 'advmod', '...</td>\n",
       "      <td>[False, False, False, True, False, False, Fals...</td>\n",
       "      <td>['have', 'have', 'have', 'have', 'have', 'have...</td>\n",
       "      <td>['have.LV', 'have.LV', 'have.LV', 'have.LV', '...</td>\n",
       "      <td>['O', 'O', 'O', 'O', 'O', 'O', 'O', 'O', 'O', ...</td>\n",
       "      <td>12520</td>\n",
       "    </tr>\n",
       "    <tr>\n",
       "      <th>40359</th>\n",
       "      <td>[1, 2, 3, 4, 5, 6, 7, 8, 9, 10, 11, 12, 13, 14...</td>\n",
       "      <td>[0, 1, 2, 3, 4, 5, 6, 7, 8, 9, 10, 11, 12, 13,...</td>\n",
       "      <td>['I', 'will', 'never', 'return', 'there', 'aga...</td>\n",
       "      <td>['I', 'will', 'never', 'return', 'there', 'aga...</td>\n",
       "      <td>['PRON', 'AUX', 'ADV', 'VERB', 'ADV', 'ADV', '...</td>\n",
       "      <td>['PRP', 'MD', 'RB', 'VB', 'RB', 'RB', '-LRB-',...</td>\n",
       "      <td>['Case=Nom|Number=Sing|Person=1|PronType=Prs',...</td>\n",
       "      <td>['4', '4', '4', '0', '4', '4', '4', '10', '10'...</td>\n",
       "      <td>['nsubj', 'aux', 'advmod', 'root', 'advmod', '...</td>\n",
       "      <td>[False, False, False, True, False, False, Fals...</td>\n",
       "      <td>['doubts', 'doubts', 'doubts', 'doubts', 'doub...</td>\n",
       "      <td>['doubt.01', 'doubt.01', 'doubt.01', 'doubt.01...</td>\n",
       "      <td>['B-ARG0', 'O', 'O', 'O', 'O', 'O', 'O', 'O', ...</td>\n",
       "      <td>12520</td>\n",
       "    </tr>\n",
       "    <tr>\n",
       "      <th>40360</th>\n",
       "      <td>[1, 2, 3, 4, 5, 6, 7, 8, 9, 10, 11, 12, 13, 14...</td>\n",
       "      <td>[0, 1, 2, 3, 4, 5, 6, 7, 8, 9, 10, 11, 12, 13,...</td>\n",
       "      <td>['I', 'will', 'never', 'return', 'there', 'aga...</td>\n",
       "      <td>['I', 'will', 'never', 'return', 'there', 'aga...</td>\n",
       "      <td>['PRON', 'AUX', 'ADV', 'VERB', 'ADV', 'ADV', '...</td>\n",
       "      <td>['PRP', 'MD', 'RB', 'VB', 'RB', 'RB', '-LRB-',...</td>\n",
       "      <td>['Case=Nom|Number=Sing|Person=1|PronType=Prs',...</td>\n",
       "      <td>['4', '4', '4', '0', '4', '4', '4', '10', '10'...</td>\n",
       "      <td>['nsubj', 'aux', 'advmod', 'root', 'advmod', '...</td>\n",
       "      <td>[False, False, False, True, False, False, Fals...</td>\n",
       "      <td>['work', 'work', 'work', 'work', 'work', 'work...</td>\n",
       "      <td>['work.01', 'work.01', 'work.01', 'work.01', '...</td>\n",
       "      <td>['O', 'O', 'O', 'O', 'O', 'O', 'O', 'O', 'O', ...</td>\n",
       "      <td>12520</td>\n",
       "    </tr>\n",
       "    <tr>\n",
       "      <th>40361</th>\n",
       "      <td>[1, 2, 3, 4, 5, 6, 7, 8, 9, 10, 11, 12, 13, 14...</td>\n",
       "      <td>[0, 1, 2, 3, 4, 5, 6, 7, 8, 9, 10, 11, 12, 13,...</td>\n",
       "      <td>['I', 'will', 'never', 'return', 'there', 'aga...</td>\n",
       "      <td>['I', 'will', 'never', 'return', 'there', 'aga...</td>\n",
       "      <td>['PRON', 'AUX', 'ADV', 'VERB', 'ADV', 'ADV', '...</td>\n",
       "      <td>['PRP', 'MD', 'RB', 'VB', 'RB', 'RB', '-LRB-',...</td>\n",
       "      <td>['Case=Nom|Number=Sing|Person=1|PronType=Prs',...</td>\n",
       "      <td>['4', '4', '4', '0', '4', '4', '4', '10', '10'...</td>\n",
       "      <td>['nsubj', 'aux', 'advmod', 'root', 'advmod', '...</td>\n",
       "      <td>[False, False, False, True, False, False, Fals...</td>\n",
       "      <td>['performed', 'performed', 'performed', 'perfo...</td>\n",
       "      <td>['perform.LV', 'perform.LV', 'perform.LV', 'pe...</td>\n",
       "      <td>['O', 'O', 'O', 'O', 'O', 'O', 'O', 'O', 'O', ...</td>\n",
       "      <td>12520</td>\n",
       "    </tr>\n",
       "  </tbody>\n",
       "</table>\n",
       "<p>40362 rows × 14 columns</p>\n",
       "</div>"
      ],
      "text/plain": [
       "                                                      id  \\\n",
       "0      [1, 2, 3, 4, 5, 6, 7, 8, 9, 10, 11, 12, 13, 14...   \n",
       "1      [1, 2, 3, 4, 5, 6, 7, 8, 9, 10, 11, 12, 13, 14...   \n",
       "2      [1, 2, 3, 4, 5, 6, 7, 8, 9, 10, 11, 12, 13, 14...   \n",
       "3      [1, 2, 3, 4, 5, 6, 7, 8, 9, 10, 11, 12, 13, 14...   \n",
       "4      [1, 2, 3, 4, 5, 6, 7, 8, 9, 10, 11, 12, 13, 14...   \n",
       "...                                                  ...   \n",
       "40357  [1, 2, 3, 4, 5, 6, 7, 8, 9, 10, 11, 12, 13, 14...   \n",
       "40358  [1, 2, 3, 4, 5, 6, 7, 8, 9, 10, 11, 12, 13, 14...   \n",
       "40359  [1, 2, 3, 4, 5, 6, 7, 8, 9, 10, 11, 12, 13, 14...   \n",
       "40360  [1, 2, 3, 4, 5, 6, 7, 8, 9, 10, 11, 12, 13, 14...   \n",
       "40361  [1, 2, 3, 4, 5, 6, 7, 8, 9, 10, 11, 12, 13, 14...   \n",
       "\n",
       "                                                position  \\\n",
       "0      [0, 1, 2, 3, 4, 5, 6, 7, 8, 9, 10, 11, 12, 13,...   \n",
       "1      [0, 1, 2, 3, 4, 5, 6, 7, 8, 9, 10, 11, 12, 13,...   \n",
       "2      [0, 1, 2, 3, 4, 5, 6, 7, 8, 9, 10, 11, 12, 13,...   \n",
       "3      [0, 1, 2, 3, 4, 5, 6, 7, 8, 9, 10, 11, 12, 13,...   \n",
       "4      [0, 1, 2, 3, 4, 5, 6, 7, 8, 9, 10, 11, 12, 13,...   \n",
       "...                                                  ...   \n",
       "40357  [0, 1, 2, 3, 4, 5, 6, 7, 8, 9, 10, 11, 12, 13,...   \n",
       "40358  [0, 1, 2, 3, 4, 5, 6, 7, 8, 9, 10, 11, 12, 13,...   \n",
       "40359  [0, 1, 2, 3, 4, 5, 6, 7, 8, 9, 10, 11, 12, 13,...   \n",
       "40360  [0, 1, 2, 3, 4, 5, 6, 7, 8, 9, 10, 11, 12, 13,...   \n",
       "40361  [0, 1, 2, 3, 4, 5, 6, 7, 8, 9, 10, 11, 12, 13,...   \n",
       "\n",
       "                                                   token  \\\n",
       "0      ['Al', '-', 'Zaman', ':', 'American', 'forces'...   \n",
       "1      ['[', 'This', 'killing', 'of', 'a', 'respected...   \n",
       "2      ['[', 'This', 'killing', 'of', 'a', 'respected...   \n",
       "3      ['[', 'This', 'killing', 'of', 'a', 'respected...   \n",
       "4      ['[', 'This', 'killing', 'of', 'a', 'respected...   \n",
       "...                                                  ...   \n",
       "40357  ['I', 'will', 'never', 'return', 'there', 'aga...   \n",
       "40358  ['I', 'will', 'never', 'return', 'there', 'aga...   \n",
       "40359  ['I', 'will', 'never', 'return', 'there', 'aga...   \n",
       "40360  ['I', 'will', 'never', 'return', 'there', 'aga...   \n",
       "40361  ['I', 'will', 'never', 'return', 'there', 'aga...   \n",
       "\n",
       "                                                   lemma  \\\n",
       "0      ['Al', '-', 'Zaman', ':', 'american', 'force',...   \n",
       "1      ['[', 'this', 'killing', 'of', 'a', 'respected...   \n",
       "2      ['[', 'this', 'killing', 'of', 'a', 'respected...   \n",
       "3      ['[', 'this', 'killing', 'of', 'a', 'respected...   \n",
       "4      ['[', 'this', 'killing', 'of', 'a', 'respected...   \n",
       "...                                                  ...   \n",
       "40357  ['I', 'will', 'never', 'return', 'there', 'aga...   \n",
       "40358  ['I', 'will', 'never', 'return', 'there', 'aga...   \n",
       "40359  ['I', 'will', 'never', 'return', 'there', 'aga...   \n",
       "40360  ['I', 'will', 'never', 'return', 'there', 'aga...   \n",
       "40361  ['I', 'will', 'never', 'return', 'there', 'aga...   \n",
       "\n",
       "                                                   pos_u  \\\n",
       "0      ['PROPN', 'PUNCT', 'PROPN', 'PUNCT', 'ADJ', 'N...   \n",
       "1      ['PUNCT', 'DET', 'NOUN', 'ADP', 'DET', 'ADJ', ...   \n",
       "2      ['PUNCT', 'DET', 'NOUN', 'ADP', 'DET', 'ADJ', ...   \n",
       "3      ['PUNCT', 'DET', 'NOUN', 'ADP', 'DET', 'ADJ', ...   \n",
       "4      ['PUNCT', 'DET', 'NOUN', 'ADP', 'DET', 'ADJ', ...   \n",
       "...                                                  ...   \n",
       "40357  ['PRON', 'AUX', 'ADV', 'VERB', 'ADV', 'ADV', '...   \n",
       "40358  ['PRON', 'AUX', 'ADV', 'VERB', 'ADV', 'ADV', '...   \n",
       "40359  ['PRON', 'AUX', 'ADV', 'VERB', 'ADV', 'ADV', '...   \n",
       "40360  ['PRON', 'AUX', 'ADV', 'VERB', 'ADV', 'ADV', '...   \n",
       "40361  ['PRON', 'AUX', 'ADV', 'VERB', 'ADV', 'ADV', '...   \n",
       "\n",
       "                                                 pos_tag  \\\n",
       "0      ['NNP', 'HYPH', 'NNP', ':', 'JJ', 'NNS', 'VBD'...   \n",
       "1      ['-LRB-', 'DT', 'NN', 'IN', 'DT', 'JJ', 'NN', ...   \n",
       "2      ['-LRB-', 'DT', 'NN', 'IN', 'DT', 'JJ', 'NN', ...   \n",
       "3      ['-LRB-', 'DT', 'NN', 'IN', 'DT', 'JJ', 'NN', ...   \n",
       "4      ['-LRB-', 'DT', 'NN', 'IN', 'DT', 'JJ', 'NN', ...   \n",
       "...                                                  ...   \n",
       "40357  ['PRP', 'MD', 'RB', 'VB', 'RB', 'RB', '-LRB-',...   \n",
       "40358  ['PRP', 'MD', 'RB', 'VB', 'RB', 'RB', '-LRB-',...   \n",
       "40359  ['PRP', 'MD', 'RB', 'VB', 'RB', 'RB', '-LRB-',...   \n",
       "40360  ['PRP', 'MD', 'RB', 'VB', 'RB', 'RB', '-LRB-',...   \n",
       "40361  ['PRP', 'MD', 'RB', 'VB', 'RB', 'RB', '-LRB-',...   \n",
       "\n",
       "                                                   d_tag  \\\n",
       "0      ['Number=Sing', '_', 'Number=Sing', '_', 'Degr...   \n",
       "1      ['_', 'Number=Sing|PronType=Dem', 'Number=Sing...   \n",
       "2      ['_', 'Number=Sing|PronType=Dem', 'Number=Sing...   \n",
       "3      ['_', 'Number=Sing|PronType=Dem', 'Number=Sing...   \n",
       "4      ['_', 'Number=Sing|PronType=Dem', 'Number=Sing...   \n",
       "...                                                  ...   \n",
       "40357  ['Case=Nom|Number=Sing|Person=1|PronType=Prs',...   \n",
       "40358  ['Case=Nom|Number=Sing|Person=1|PronType=Prs',...   \n",
       "40359  ['Case=Nom|Number=Sing|Person=1|PronType=Prs',...   \n",
       "40360  ['Case=Nom|Number=Sing|Person=1|PronType=Prs',...   \n",
       "40361  ['Case=Nom|Number=Sing|Person=1|PronType=Prs',...   \n",
       "\n",
       "                                                    head  \\\n",
       "0      ['0', '1', '1', '1', '6', '7', '1', '7', '8', ...   \n",
       "1      ['10', '3', '10', '7', '7', '7', '3', '10', '1...   \n",
       "2      ['10', '3', '10', '7', '7', '7', '3', '10', '1...   \n",
       "3      ['10', '3', '10', '7', '7', '7', '3', '10', '1...   \n",
       "4      ['10', '3', '10', '7', '7', '7', '3', '10', '1...   \n",
       "...                                                  ...   \n",
       "40357  ['4', '4', '4', '0', '4', '4', '4', '10', '10'...   \n",
       "40358  ['4', '4', '4', '0', '4', '4', '4', '10', '10'...   \n",
       "40359  ['4', '4', '4', '0', '4', '4', '4', '10', '10'...   \n",
       "40360  ['4', '4', '4', '0', '4', '4', '4', '10', '10'...   \n",
       "40361  ['4', '4', '4', '0', '4', '4', '4', '10', '10'...   \n",
       "\n",
       "                                                 dep_tag  \\\n",
       "0      ['root', 'punct', 'flat', 'punct', 'amod', 'ns...   \n",
       "1      ['punct', 'det', 'nsubj', 'case', 'det', 'amod...   \n",
       "2      ['punct', 'det', 'nsubj', 'case', 'det', 'amod...   \n",
       "3      ['punct', 'det', 'nsubj', 'case', 'det', 'amod...   \n",
       "4      ['punct', 'det', 'nsubj', 'case', 'det', 'amod...   \n",
       "...                                                  ...   \n",
       "40357  ['nsubj', 'aux', 'advmod', 'root', 'advmod', '...   \n",
       "40358  ['nsubj', 'aux', 'advmod', 'root', 'advmod', '...   \n",
       "40359  ['nsubj', 'aux', 'advmod', 'root', 'advmod', '...   \n",
       "40360  ['nsubj', 'aux', 'advmod', 'root', 'advmod', '...   \n",
       "40361  ['nsubj', 'aux', 'advmod', 'root', 'advmod', '...   \n",
       "\n",
       "                                                 is_pred  \\\n",
       "0      [False, False, False, False, False, False, Tru...   \n",
       "1      [False, False, True, False, False, False, Fals...   \n",
       "2      [False, False, True, False, False, False, Fals...   \n",
       "3      [False, False, True, False, False, False, Fals...   \n",
       "4      [False, False, True, False, False, False, Fals...   \n",
       "...                                                  ...   \n",
       "40357  [False, False, False, True, False, False, Fals...   \n",
       "40358  [False, False, False, True, False, False, Fals...   \n",
       "40359  [False, False, False, True, False, False, Fals...   \n",
       "40360  [False, False, False, True, False, False, Fals...   \n",
       "40361  [False, False, False, True, False, False, Fals...   \n",
       "\n",
       "                                                    pred  \\\n",
       "0      ['killed', 'killed', 'killed', 'killed', 'kill...   \n",
       "1      ['killing', 'killing', 'killing', 'killing', '...   \n",
       "2      ['be', 'be', 'be', 'be', 'be', 'be', 'be', 'be...   \n",
       "3      ['causing', 'causing', 'causing', 'causing', '...   \n",
       "4      ['come', 'come', 'come', 'come', 'come', 'come...   \n",
       "...                                                  ...   \n",
       "40357  ['return', 'return', 'return', 'return', 'retu...   \n",
       "40358  ['have', 'have', 'have', 'have', 'have', 'have...   \n",
       "40359  ['doubts', 'doubts', 'doubts', 'doubts', 'doub...   \n",
       "40360  ['work', 'work', 'work', 'work', 'work', 'work...   \n",
       "40361  ['performed', 'performed', 'performed', 'perfo...   \n",
       "\n",
       "                                               pred_base  \\\n",
       "0      ['kill.01', 'kill.01', 'kill.01', 'kill.01', '...   \n",
       "1      ['kill.01', 'kill.01', 'kill.01', 'kill.01', '...   \n",
       "2      ['be.03', 'be.03', 'be.03', 'be.03', 'be.03', ...   \n",
       "3      ['cause.01', 'cause.01', 'cause.01', 'cause.01...   \n",
       "4      ['come.01', 'come.01', 'come.01', 'come.01', '...   \n",
       "...                                                  ...   \n",
       "40357  ['return.01', 'return.01', 'return.01', 'retur...   \n",
       "40358  ['have.LV', 'have.LV', 'have.LV', 'have.LV', '...   \n",
       "40359  ['doubt.01', 'doubt.01', 'doubt.01', 'doubt.01...   \n",
       "40360  ['work.01', 'work.01', 'work.01', 'work.01', '...   \n",
       "40361  ['perform.LV', 'perform.LV', 'perform.LV', 'pe...   \n",
       "\n",
       "                                                   label  sentence_id  \n",
       "0      ['O', 'O', 'O', 'O', 'O', 'B-ARG0', 'B-V', 'B-...            0  \n",
       "1      ['O', 'O', 'B-V', 'O', 'O', 'O', 'B-ARG1', 'O'...            1  \n",
       "2      ['O', 'O', 'O', 'O', 'O', 'O', 'O', 'O', 'B-V'...            1  \n",
       "3      ['O', 'O', 'B-ARG0', 'O', 'O', 'O', 'O', 'B-AR...            1  \n",
       "4      ['O', 'O', 'O', 'O', 'O', 'O', 'O', 'O', 'O', ...            1  \n",
       "...                                                  ...          ...  \n",
       "40357  ['B-ARG1', 'B-ARGM-MOD', 'B-ARGM-NEG', 'B-V', ...        12520  \n",
       "40358  ['O', 'O', 'O', 'O', 'O', 'O', 'O', 'O', 'O', ...        12520  \n",
       "40359  ['B-ARG0', 'O', 'O', 'O', 'O', 'O', 'O', 'O', ...        12520  \n",
       "40360  ['O', 'O', 'O', 'O', 'O', 'O', 'O', 'O', 'O', ...        12520  \n",
       "40361  ['O', 'O', 'O', 'O', 'O', 'O', 'O', 'O', 'O', ...        12520  \n",
       "\n",
       "[40362 rows x 14 columns]"
      ]
     },
     "execution_count": 91,
     "metadata": {},
     "output_type": "execute_result"
    }
   ],
   "source": [
    "df"
   ]
  },
  {
   "cell_type": "markdown",
   "metadata": {},
   "source": [
    "Now we look at the columns, make sure we have all the correct information"
   ]
  },
  {
   "cell_type": "code",
   "execution_count": 21,
   "metadata": {},
   "outputs": [
    {
     "data": {
      "text/plain": [
       "Index(['id', 'position', 'token', 'lemma', 'pos_u', 'pos_tag', 'd_tag', 'head',\n",
       "       'dep_tag', 'is_pred', 'pred', 'pred_base', 'label', 'sentence_id'],\n",
       "      dtype='object')"
      ]
     },
     "execution_count": 21,
     "metadata": {},
     "output_type": "execute_result"
    }
   ],
   "source": [
    "df.columns"
   ]
  },
  {
   "cell_type": "markdown",
   "metadata": {},
   "source": [
    "Now we want to look at the list of possible labels to be taken"
   ]
  },
  {
   "cell_type": "code",
   "execution_count": 5,
   "metadata": {},
   "outputs": [
    {
     "name": "stdout",
     "output_type": "stream",
     "text": [
      "29\n"
     ]
    },
    {
     "data": {
      "text/plain": [
       "['B-ARG0',\n",
       " 'B-ARG1',\n",
       " 'B-ARG1-DSP',\n",
       " 'B-ARG2',\n",
       " 'B-ARG3',\n",
       " 'B-ARG4',\n",
       " 'B-ARG5',\n",
       " 'B-ARGA',\n",
       " 'B-ARGM-ADJ',\n",
       " 'B-ARGM-ADV',\n",
       " 'B-ARGM-CAU',\n",
       " 'B-ARGM-COM',\n",
       " 'B-ARGM-CXN',\n",
       " 'B-ARGM-DIR',\n",
       " 'B-ARGM-DIS',\n",
       " 'B-ARGM-EXT',\n",
       " 'B-ARGM-GOL',\n",
       " 'B-ARGM-LOC',\n",
       " 'B-ARGM-LVB',\n",
       " 'B-ARGM-MNR',\n",
       " 'B-ARGM-MOD',\n",
       " 'B-ARGM-NEG',\n",
       " 'B-ARGM-PRD',\n",
       " 'B-ARGM-PRP',\n",
       " 'B-ARGM-PRR',\n",
       " 'B-ARGM-REC',\n",
       " 'B-ARGM-TMP',\n",
       " 'B-V',\n",
       " 'O']"
      ]
     },
     "execution_count": 5,
     "metadata": {},
     "output_type": "execute_result"
    }
   ],
   "source": [
    "print(len(label_list))\n",
    "label_list"
   ]
  },
  {
   "cell_type": "markdown",
   "metadata": {},
   "source": [
    "## 1.2 Dataset construction\n",
    "The `huggingface` set of libraries provides a very good wrapper for processing datasets. For that reason, we will transform our data to that format by giving the types of the `features` and then passing our raw data to it"
   ]
  },
  {
   "cell_type": "code",
   "execution_count": 4,
   "metadata": {},
   "outputs": [
    {
     "ename": "NameError",
     "evalue": "name 'label_list' is not defined",
     "output_type": "error",
     "traceback": [
      "\u001b[0;31m---------------------------------------------------------------------------\u001b[0m",
      "\u001b[0;31mNameError\u001b[0m                                 Traceback (most recent call last)",
      "Cell \u001b[0;32mIn[4], line 14\u001b[0m\n\u001b[1;32m      1\u001b[0m features \u001b[38;5;241m=\u001b[39m Features({\n\u001b[1;32m      2\u001b[0m     \u001b[38;5;124m'\u001b[39m\u001b[38;5;124mid\u001b[39m\u001b[38;5;124m'\u001b[39m: Sequence(feature\u001b[38;5;241m=\u001b[39mValue(\u001b[38;5;124m'\u001b[39m\u001b[38;5;124mfloat32\u001b[39m\u001b[38;5;124m'\u001b[39m)),\n\u001b[1;32m      3\u001b[0m     \u001b[38;5;124m'\u001b[39m\u001b[38;5;124mposition\u001b[39m\u001b[38;5;124m'\u001b[39m: Sequence(feature\u001b[38;5;241m=\u001b[39mValue(\u001b[38;5;124m'\u001b[39m\u001b[38;5;124mfloat32\u001b[39m\u001b[38;5;124m'\u001b[39m)),\n\u001b[1;32m      4\u001b[0m     \u001b[38;5;124m'\u001b[39m\u001b[38;5;124mtoken\u001b[39m\u001b[38;5;124m'\u001b[39m: Sequence(feature\u001b[38;5;241m=\u001b[39mValue(\u001b[38;5;124m'\u001b[39m\u001b[38;5;124mstring\u001b[39m\u001b[38;5;124m'\u001b[39m)),\n\u001b[1;32m      5\u001b[0m     \u001b[38;5;124m'\u001b[39m\u001b[38;5;124mlemma\u001b[39m\u001b[38;5;124m'\u001b[39m: Sequence(feature\u001b[38;5;241m=\u001b[39mValue(\u001b[38;5;124m'\u001b[39m\u001b[38;5;124mstring\u001b[39m\u001b[38;5;124m'\u001b[39m)),\n\u001b[1;32m      6\u001b[0m     \u001b[38;5;124m'\u001b[39m\u001b[38;5;124mpos_u\u001b[39m\u001b[38;5;124m'\u001b[39m: Sequence(feature\u001b[38;5;241m=\u001b[39mValue(\u001b[38;5;124m'\u001b[39m\u001b[38;5;124mstring\u001b[39m\u001b[38;5;124m'\u001b[39m)),\n\u001b[1;32m      7\u001b[0m     \u001b[38;5;124m'\u001b[39m\u001b[38;5;124mpos_tag\u001b[39m\u001b[38;5;124m'\u001b[39m: Sequence(feature\u001b[38;5;241m=\u001b[39mValue(\u001b[38;5;124m'\u001b[39m\u001b[38;5;124mstring\u001b[39m\u001b[38;5;124m'\u001b[39m)),\n\u001b[1;32m      8\u001b[0m     \u001b[38;5;124m'\u001b[39m\u001b[38;5;124md_tag\u001b[39m\u001b[38;5;124m'\u001b[39m: Sequence(feature\u001b[38;5;241m=\u001b[39mValue(\u001b[38;5;124m'\u001b[39m\u001b[38;5;124mstring\u001b[39m\u001b[38;5;124m'\u001b[39m)),\n\u001b[1;32m      9\u001b[0m     \u001b[38;5;124m'\u001b[39m\u001b[38;5;124mhead\u001b[39m\u001b[38;5;124m'\u001b[39m: Sequence(feature\u001b[38;5;241m=\u001b[39mValue(\u001b[38;5;124m'\u001b[39m\u001b[38;5;124mstring\u001b[39m\u001b[38;5;124m'\u001b[39m)),\n\u001b[1;32m     10\u001b[0m     \u001b[38;5;124m'\u001b[39m\u001b[38;5;124mdep_tag\u001b[39m\u001b[38;5;124m'\u001b[39m: Sequence(feature\u001b[38;5;241m=\u001b[39mValue(\u001b[38;5;124m'\u001b[39m\u001b[38;5;124mstring\u001b[39m\u001b[38;5;124m'\u001b[39m)),\n\u001b[1;32m     11\u001b[0m     \u001b[38;5;124m'\u001b[39m\u001b[38;5;124mis_pred\u001b[39m\u001b[38;5;124m'\u001b[39m: Sequence(feature\u001b[38;5;241m=\u001b[39mValue(\u001b[38;5;124m'\u001b[39m\u001b[38;5;124mbool\u001b[39m\u001b[38;5;124m'\u001b[39m)),\n\u001b[1;32m     12\u001b[0m     \u001b[38;5;124m'\u001b[39m\u001b[38;5;124mpred\u001b[39m\u001b[38;5;124m'\u001b[39m: Sequence(feature\u001b[38;5;241m=\u001b[39mValue(\u001b[38;5;124m'\u001b[39m\u001b[38;5;124mstring\u001b[39m\u001b[38;5;124m'\u001b[39m)),\n\u001b[1;32m     13\u001b[0m     \u001b[38;5;124m'\u001b[39m\u001b[38;5;124mpred_base\u001b[39m\u001b[38;5;124m'\u001b[39m: Sequence(feature\u001b[38;5;241m=\u001b[39mValue(\u001b[38;5;124m'\u001b[39m\u001b[38;5;124mstring\u001b[39m\u001b[38;5;124m'\u001b[39m)),\n\u001b[0;32m---> 14\u001b[0m     \u001b[38;5;124m'\u001b[39m\u001b[38;5;124mlabel\u001b[39m\u001b[38;5;124m'\u001b[39m: Sequence(feature\u001b[38;5;241m=\u001b[39mClassLabel(names\u001b[38;5;241m=\u001b[39m\u001b[43mlabel_list\u001b[49m)),\n\u001b[1;32m     15\u001b[0m     \u001b[38;5;124m'\u001b[39m\u001b[38;5;124msentence_id\u001b[39m\u001b[38;5;124m'\u001b[39m: Value(\u001b[38;5;124m'\u001b[39m\u001b[38;5;124mint32\u001b[39m\u001b[38;5;124m'\u001b[39m),\n\u001b[1;32m     16\u001b[0m \n\u001b[1;32m     17\u001b[0m })\n\u001b[1;32m     19\u001b[0m ds \u001b[38;5;241m=\u001b[39m Dataset\u001b[38;5;241m.\u001b[39mfrom_pandas(df[\u001b[38;5;28mlist\u001b[39m(features\u001b[38;5;241m.\u001b[39mkeys())], features\u001b[38;5;241m=\u001b[39mfeatures)\n\u001b[1;32m     20\u001b[0m eval_ds \u001b[38;5;241m=\u001b[39m Dataset\u001b[38;5;241m.\u001b[39mfrom_pandas(eval_df[\u001b[38;5;28mlist\u001b[39m(features\u001b[38;5;241m.\u001b[39mkeys())], features\u001b[38;5;241m=\u001b[39mfeatures)\n",
      "\u001b[0;31mNameError\u001b[0m: name 'label_list' is not defined"
     ]
    }
   ],
   "source": [
    "features = Features({\n",
    "    'id': Sequence(feature=Value('float32')),\n",
    "    'position': Sequence(feature=Value('float32')),\n",
    "    'token': Sequence(feature=Value('string')),\n",
    "    'lemma': Sequence(feature=Value('string')),\n",
    "    'pos_u': Sequence(feature=Value('string')),\n",
    "    'pos_tag': Sequence(feature=Value('string')),\n",
    "    'd_tag': Sequence(feature=Value('string')),\n",
    "    'head': Sequence(feature=Value('string')),\n",
    "    'dep_tag': Sequence(feature=Value('string')),\n",
    "    'is_pred': Sequence(feature=Value('bool')),\n",
    "    'pred': Sequence(feature=Value('string')),\n",
    "    'pred_base': Sequence(feature=Value('string')),\n",
    "    'label': Sequence(feature=ClassLabel(names=label_list)),\n",
    "    'sentence_id': Value('int32'),\n",
    "\n",
    "})\n",
    "\n",
    "ds = Dataset.from_pandas(df[list(features.keys())], features=features)\n",
    "eval_ds = Dataset.from_pandas(eval_df[list(features.keys())], features=features)\n"
   ]
  },
  {
   "cell_type": "markdown",
   "metadata": {},
   "source": [
    "# 1.4 Dataset filtering\n",
    "Here we sample $k$ observations uniformly from the dataset, where $k=N*\\alpha$ and $\\alpha$ is `PER_DS` or the porcentage of the dataset we want to use for training. This\n",
    "part is for debugging and testing purpouses, `PER_DS` should be set to $1$ generally"
   ]
  },
  {
   "cell_type": "code",
   "execution_count": 24,
   "metadata": {},
   "outputs": [
    {
     "data": {
      "text/plain": [
       "4036"
      ]
     },
     "execution_count": 24,
     "metadata": {},
     "output_type": "execute_result"
    }
   ],
   "source": [
    "ds = ds.select(random.sample(range(len(ds)), int(len(ds)*PER_DS)))\n",
    "len(ds)"
   ]
  },
  {
   "cell_type": "markdown",
   "metadata": {},
   "source": [
    "# 1.5 Tokenization \n",
    "To perform tokenization we use the BERT base tokenizer from the `distillbert-base-uncased` model, so that is the standard BERT implementation without separate tokens for word cases. "
   ]
  },
  {
   "cell_type": "code",
   "execution_count": 25,
   "metadata": {},
   "outputs": [],
   "source": [
    "tokenizer = AutoTokenizer.from_pretrained(model_name, do_lower_case=True, do_basic_tokenize=False)\n",
    "SEP_TOKEN_ID = tokenizer.all_special_ids[tokenizer.all_special_tokens.index('[SEP]')]"
   ]
  },
  {
   "cell_type": "markdown",
   "metadata": {},
   "source": [
    "# 2 Model\n",
    "Our choice of model is based on NegBERT [[1]](https://arxiv.org/abs/1911.04211).  NegBERT uses an annotation schema where certain groups of words are anotated of the labels with the aim of incorporating more information about *negation cues* into the model. According to the authors, this would in turn allow for better cue detection and span detection. We propose a similar modification, in addition to using the `token_type_id` to tag only the predicate in the sentence. Our goal is to desambiguate the use of a prediate that could mean different things. The template for the input is : `[CLS] sent [SEP] pred [SEP]`\n",
    "\n",
    "To do this we only need to modify our existing utility function for creating the tokenized dataset and add some more steps to it. With that, we just change the following\n",
    "\n",
    "***\n",
    "[1]: Khandelwal, A., & Sawant, S. (2019). NegBERT: a transfer learning approach for negation detection and scope resolution. arXiv preprint arXiv:1911.04211.\n",
    "\n",
    "***"
   ]
  },
  {
   "cell_type": "markdown",
   "metadata": {},
   "source": [
    "## 2.1 Model tokenization"
   ]
  },
  {
   "cell_type": "markdown",
   "metadata": {},
   "source": [
    "Calling our tokenization and alignment function on our datasets. Note that we will set the indices of the tokens that were split by *wordpiece* in a separate tensor to evaluate based on the **average** distribution accross different worpieces composing a token. This approach was also introduced in NegBERT."
   ]
  },
  {
   "cell_type": "code",
   "execution_count": 79,
   "metadata": {},
   "outputs": [
    {
     "data": {
      "application/vnd.jupyter.widget-view+json": {
       "model_id": "e3140243c238437d8d09c4cff07b2083",
       "version_major": 2,
       "version_minor": 0
      },
      "text/plain": [
       "Map:   0%|          | 0/40362 [00:00<?, ? examples/s]"
      ]
     },
     "metadata": {},
     "output_type": "display_data"
    },
    {
     "data": {
      "application/vnd.jupyter.widget-view+json": {
       "model_id": "13b9859f66cd4cc48384dba585659882",
       "version_major": 2,
       "version_minor": 0
      },
      "text/plain": [
       "Map:   0%|          | 0/4976 [00:00<?, ? examples/s]"
      ]
     },
     "metadata": {},
     "output_type": "display_data"
    }
   ],
   "source": [
    "tokenized_datasets = ds.map(lambda x: tokenize_and_align(tokenizer, x))\n",
    "eval_tokenized_dataset = eval_ds.map(lambda x: tokenize_and_align(tokenizer, x))\n",
    "labels = tokenized_datasets.features['label'].feature.names\n",
    "id2label = {idx: label for idx, label in enumerate(labels)}\n",
    "label2id = {label: idx for idx, label in enumerate(labels)}"
   ]
  },
  {
   "cell_type": "markdown",
   "metadata": {},
   "source": [
    "## 2.2 Parameters \n",
    "Now we set the model paramets and create the `TrainingArguments` object. We are using a standard `BATCH_SIZE` and a corresponding `LR` (learning rate). We will fine-tune for 2 `EPOCH`s."
   ]
  },
  {
   "cell_type": "code",
   "execution_count": 27,
   "metadata": {},
   "outputs": [],
   "source": [
    "task = 'SRL'\n",
    "BATCH_SIZE = 32\n",
    "LR = 2e-5\n",
    "EPOCHS = 2\n",
    "WEIGHT_DECAY = 0.01\n",
    "\n",
    "args = TrainingArguments(\n",
    "    MODEL_NAME,\n",
    "    evaluation_strategy = \"epoch\",\n",
    "    learning_rate=LR,\n",
    "    per_device_train_batch_size=BATCH_SIZE,\n",
    "    per_device_eval_batch_size=BATCH_SIZE,\n",
    "    num_train_epochs=EPOCHS,\n",
    "    weight_decay=WEIGHT_DECAY,\n",
    "    push_to_hub=False,\n",
    "    save_strategy='no',\n",
    "    use_cpu=True if device == 'cpu' else False,\n",
    ")\n"
   ]
  },
  {
   "cell_type": "markdown",
   "metadata": {},
   "source": [
    "## 2.3 Model creation"
   ]
  },
  {
   "cell_type": "markdown",
   "metadata": {},
   "source": [
    "We initialize the model, set the labels and give the collator our tokenizer."
   ]
  },
  {
   "cell_type": "code",
   "execution_count": 80,
   "metadata": {},
   "outputs": [
    {
     "name": "stderr",
     "output_type": "stream",
     "text": [
      "Some weights of DistilBertForTokenClassification were not initialized from the model checkpoint at distilbert-base-uncased and are newly initialized: ['classifier.bias', 'classifier.weight']\n",
      "You should probably TRAIN this model on a down-stream task to be able to use it for predictions and inference.\n"
     ]
    }
   ],
   "source": [
    "config = AutoConfig.from_pretrained(model_name, label2id=label2id, id2label=id2label)\n",
    "model = AutoModelForTokenClassification.from_pretrained(model_name, config=config).to(device)\n",
    "data_collator = DataCollatorForTokenClassification(tokenizer)"
   ]
  },
  {
   "cell_type": "markdown",
   "metadata": {},
   "source": [
    "Now we remove useless columns from our dataset and create the `Trainer` object for training our dataset, only if `MODE` is set to train will actually perform training."
   ]
  },
  {
   "cell_type": "markdown",
   "metadata": {},
   "source": [
    "## 2.4 Model Training"
   ]
  },
  {
   "cell_type": "code",
   "execution_count": 29,
   "metadata": {},
   "outputs": [
    {
     "name": "stderr",
     "output_type": "stream",
     "text": [
      "/Users/martincarrasco/miniconda3/envs/anlp/lib/python3.12/site-packages/accelerate/accelerator.py:432: FutureWarning: Passing the following arguments to `Accelerator` is deprecated and will be removed in version 1.0 of Accelerate: dict_keys(['dispatch_batches', 'split_batches', 'even_batches', 'use_seedable_sampler']). Please pass an `accelerate.DataLoaderConfiguration` instead: \n",
      "dataloader_config = DataLoaderConfiguration(dispatch_batches=None, split_batches=False, even_batches=True, use_seedable_sampler=True)\n",
      "  warnings.warn(\n"
     ]
    },
    {
     "data": {
      "application/vnd.jupyter.widget-view+json": {
       "model_id": "63aba6f15b574f96ad5ebb82604b018b",
       "version_major": 2,
       "version_minor": 0
      },
      "text/plain": [
       "  0%|          | 0/254 [00:00<?, ?it/s]"
      ]
     },
     "metadata": {},
     "output_type": "display_data"
    },
    {
     "data": {
      "application/vnd.jupyter.widget-view+json": {
       "model_id": "c804b35bfb0f4c09b40d5344bdf3b3f7",
       "version_major": 2,
       "version_minor": 0
      },
      "text/plain": [
       "  0%|          | 0/127 [00:00<?, ?it/s]"
      ]
     },
     "metadata": {},
     "output_type": "display_data"
    },
    {
     "name": "stderr",
     "output_type": "stream",
     "text": [
      "/Users/martincarrasco/miniconda3/envs/anlp/lib/python3.12/site-packages/seqeval/metrics/v1.py:57: UndefinedMetricWarning: Precision and F-score are ill-defined and being set to 0.0 in labels with no predicted samples. Use `zero_division` parameter to control this behavior.\n",
      "  _warn_prf(average, modifier, msg_start, len(result))\n"
     ]
    },
    {
     "name": "stdout",
     "output_type": "stream",
     "text": [
      "{'eval_loss': 0.4152999818325043, 'eval_precision': 0.7348844830411273, 'eval_recall': 0.3410127737226277, 'eval_f1': 0.46585302518826277, 'eval_accuracy': 0.9094068862693938, 'eval_runtime': 25.1011, 'eval_samples_per_second': 160.79, 'eval_steps_per_second': 5.06, 'epoch': 1.0}\n"
     ]
    },
    {
     "data": {
      "application/vnd.jupyter.widget-view+json": {
       "model_id": "1f0f6d3edaee477cb2634b40c8da2b70",
       "version_major": 2,
       "version_minor": 0
      },
      "text/plain": [
       "  0%|          | 0/127 [00:00<?, ?it/s]"
      ]
     },
     "metadata": {},
     "output_type": "display_data"
    },
    {
     "name": "stdout",
     "output_type": "stream",
     "text": [
      "{'eval_loss': 0.32994168996810913, 'eval_precision': 0.7101096224116931, 'eval_recall': 0.4876064476885645, 'eval_f1': 0.5781905062435199, 'eval_accuracy': 0.9264128966127755, 'eval_runtime': 43.9152, 'eval_samples_per_second': 91.904, 'eval_steps_per_second': 2.892, 'epoch': 2.0}\n",
      "{'train_runtime': 187.3122, 'train_samples_per_second': 43.094, 'train_steps_per_second': 1.356, 'train_loss': 0.6472948329655204, 'epoch': 2.0}\n"
     ]
    }
   ],
   "source": [
    "train_td = tokenized_datasets.remove_columns(ds.column_names)\n",
    "eval_td = eval_tokenized_dataset.remove_columns(eval_ds.column_names)\n",
    "\n",
    "trainer = Trainer(\n",
    "    model,\n",
    "    args,\n",
    "    train_dataset=train_td,\n",
    "    eval_dataset=eval_td,\n",
    "    data_collator=data_collator,\n",
    "    tokenizer=tokenizer,\n",
    "    compute_metrics=lambda x: compute_metrics(x, config.id2label),\n",
    ")\n",
    "\n",
    "if MODE == 'train':\n",
    "    trainer.train()\n",
    "    trainer.save_model(MODEL_NAME)\n"
   ]
  },
  {
   "cell_type": "markdown",
   "metadata": {},
   "source": [
    "# 3.1 Results\n",
    "To evaluate our results first we load the tokenizer for our model named `MODEL_NAME` (available locally) and tokenize our dataset. This will be the test dataset\n",
    "\n",
    " "
   ]
  },
  {
   "cell_type": "code",
   "execution_count": 7,
   "metadata": {},
   "outputs": [],
   "source": [
    "MODEL_NAME = MODEL_NAME\n",
    "filename =  TEST_FILE_NAME \n",
    "\n",
    "REMOTE = True \n",
    "MODEL_URL = MODEL_NAME\n",
    "if REMOTE:\n",
    "    MODEL_URL = f\"martincc98/{MODEL_NAME}\"\n",
    "\n",
    "tokenizer = AutoTokenizer.from_pretrained(MODEL_URL, local_files_only=not REMOTE)\n",
    "config = AutoConfig.from_pretrained(MODEL_URL, local_files_only=not REMOTE)\n",
    "trained_model = AutoModelForTokenClassification.from_pretrained(MODEL_URL, local_files_only=not REMOTE, config=config).to(device)"
   ]
  },
  {
   "cell_type": "code",
   "execution_count": 8,
   "metadata": {},
   "outputs": [
    {
     "name": "stdout",
     "output_type": "stream",
     "text": [
      "Skipping sentence with invalid format\n"
     ]
    },
    {
     "data": {
      "application/vnd.jupyter.widget-view+json": {
       "model_id": "16c54ad8fc4146fbb606c08a7fc753c6",
       "version_major": 2,
       "version_minor": 0
      },
      "text/plain": [
       "Map:   0%|          | 0/4791 [00:00<?, ? examples/s]"
      ]
     },
     "metadata": {},
     "output_type": "display_data"
    }
   ],
   "source": [
    "test_ds = process_df_into_ds(filename, list(config.label2id.keys()))\n",
    "test_tokenized_datasets = test_ds.map(lambda x: tokenize_and_align(tokenizer, x))"
   ]
  },
  {
   "cell_type": "code",
   "execution_count": 9,
   "metadata": {},
   "outputs": [
    {
     "data": {
      "text/plain": [
       "['O',\n",
       " 'O',\n",
       " 'B-ARG0',\n",
       " 'B-V',\n",
       " 'O',\n",
       " 'O',\n",
       " 'O',\n",
       " 'O',\n",
       " 'O',\n",
       " 'O',\n",
       " 'O',\n",
       " 'O',\n",
       " 'O',\n",
       " 'O',\n",
       " 'B-ARG1',\n",
       " 'O',\n",
       " 'O',\n",
       " 'O',\n",
       " 'O',\n",
       " 'O',\n",
       " 'O',\n",
       " 'B-ARG4',\n",
       " 'O']"
      ]
     },
     "execution_count": 9,
     "metadata": {},
     "output_type": "execute_result"
    }
   ],
   "source": [
    "[config.id2label[l]  for l in test_tokenized_datasets['label'][1]]"
   ]
  },
  {
   "cell_type": "markdown",
   "metadata": {},
   "source": [
    "Now we load our already trained model"
   ]
  },
  {
   "cell_type": "markdown",
   "metadata": {},
   "source": [
    "## Testing on two examples"
   ]
  },
  {
   "cell_type": "markdown",
   "metadata": {},
   "source": [
    "We know sample two sentences from the dataset and query the model for the classification of their tokens"
   ]
  },
  {
   "cell_type": "code",
   "execution_count": 10,
   "metadata": {},
   "outputs": [
    {
     "name": "stdout",
     "output_type": "stream",
     "text": [
      "['What', 'if', 'Google', 'Morphed', 'Into', 'GoogleOS', '?']\n",
      "['What', 'if', 'Google', 'expanded', 'on', 'its', 'search', '-', 'engine', '(', 'and', 'now', 'e-mail', ')', 'wares', 'into', 'a', 'full', '-', 'fledged', 'operating', 'system', '?']\n"
     ]
    }
   ],
   "source": [
    "sent_1 = test_ds[0]\n",
    "sent_2 = test_ds[1]\n",
    "\n",
    "print(sent_1['token'])\n",
    "print(sent_2['token'])"
   ]
  },
  {
   "cell_type": "markdown",
   "metadata": {},
   "source": [
    "Now we look at the predicates"
   ]
  },
  {
   "cell_type": "code",
   "execution_count": 11,
   "metadata": {},
   "outputs": [
    {
     "name": "stdout",
     "output_type": "stream",
     "text": [
      "{'Morphed'}\n",
      "{'expanded'}\n"
     ]
    }
   ],
   "source": [
    "print(set(sent_1['pred']))\n",
    "print(set(sent_2['pred']))"
   ]
  },
  {
   "cell_type": "markdown",
   "metadata": {},
   "source": [
    "Let's look at the tokenized versions"
   ]
  },
  {
   "cell_type": "code",
   "execution_count": 12,
   "metadata": {},
   "outputs": [
    {
     "name": "stdout",
     "output_type": "stream",
     "text": [
      "['[CLS]', 'what', 'if', 'google', 'mor', '##ph', '##ed', 'into', 'google', '##os', '?', '[SEP]', 'mor', '##ph', '##ed', '[SEP]', '[PAD]', '[PAD]', '[PAD]', '[PAD]']\n",
      "['[CLS]', 'what', 'if', 'google', 'expanded', 'on', 'its', 'search', '-', 'engine', '(', 'and', 'now', 'e', '-', 'mail', ')', 'ware', '##s', 'into', 'a', 'full', '-', 'fledged', 'operating', 'system', '?', '[SEP]', 'expanded', '[SEP]']\n"
     ]
    }
   ],
   "source": [
    "print(tokenizer.convert_ids_to_tokens(list(test_tokenized_datasets[0]['input_ids'])[:20]))\n",
    "print(tokenizer.convert_ids_to_tokens(list(test_tokenized_datasets[1]['input_ids'])[:30]))"
   ]
  },
  {
   "cell_type": "markdown",
   "metadata": {},
   "source": [
    "Now let's look at the `true` labels. We will set the label `-100` to `NULL` because it represents a token we will not take into account for classification."
   ]
  },
  {
   "cell_type": "code",
   "execution_count": 13,
   "metadata": {},
   "outputs": [
    {
     "name": "stdout",
     "output_type": "stream",
     "text": [
      "['NULL', 'O', 'O', 'B-ARG1', 'B-V', 'B-V', 'B-V', 'O', 'B-ARG2', 'B-ARG2', 'O', 'NULL']\n",
      "['NULL', 'O', 'O', 'B-ARG0', 'B-V', 'O', 'O', 'O', 'O', 'O', 'O', 'O', 'O', 'O', 'O', 'O', 'O', 'B-ARG1', 'B-ARG1', 'O', 'O', 'O', 'O', 'O', 'O', 'B-ARG4', 'O', 'NULL']\n"
     ]
    }
   ],
   "source": [
    "print([config.id2label[l] if l >= 0 else 'NULL' for l in test_tokenized_datasets['labels'][0][:12]])\n",
    "print([config.id2label[l] if l >= 0 else 'NULL' for l in test_tokenized_datasets['labels'][1][:28]])"
   ]
  },
  {
   "cell_type": "markdown",
   "metadata": {},
   "source": [
    "Now we will see the output of these 2 particular sentences"
   ]
  },
  {
   "cell_type": "code",
   "execution_count": 14,
   "metadata": {},
   "outputs": [],
   "source": [
    "output_1 = ouptut_2 = None\n",
    "with torch.inference_mode():\n",
    "    test_tokenized_datasets.set_format(type='torch', columns=['input_ids', 'attention_mask', 'label', 'token_type_ids', 'scatter_idx'])\n",
    "    input_ids = test_tokenized_datasets['input_ids'][:2].to(device)#[:100]#.expand(1, -1)\n",
    "    attention_mask = test_tokenized_datasets['attention_mask'][:2].to(device)#[:100]#.expand(1, -1)\n",
    "    token_type_ids = test_tokenized_datasets['token_type_ids'][:2].to(device)#[:100]#.expand(1, -1)\n",
    "    logits = trained_model(input_ids=input_ids, attention_mask=attention_mask, token_type_ids=token_type_ids).logits\n",
    "    scatter_idx = test_tokenized_datasets['scatter_idx'][:2].to(device)\n",
    "    # Average predictions for tokens\n",
    "    #predicted_token_class_ids = torch.argmax(logits, dim=2).cpu()\n",
    "\n",
    "    #predictions = predicted_token_class_ids\n",
    "    labels = test_tokenized_datasets['labels'][:2]#[:100]\n",
    "    proc_y_true = []\n",
    "    proc_y_pred = []\n",
    "\n",
    "    for logits, label, scatter_idx in zip(logits, labels, scatter_idx):\n",
    "        prediction = scatter(logits, scatter_idx, dim=0, reduce='mean')\n",
    "        prediction = torch.argmax(prediction, dim=1)\n",
    "        t_label = scatter(torch.tensor(label).to(device), scatter_idx, dim=0, reduce='max')\n",
    "        for p, l in zip(prediction, t_label):\n",
    "            if l != -100:\n",
    "                proc_y_true.append(l.item())\n",
    "                proc_y_pred.append(p.item())\n",
    "\n",
    "    true_labels = proc_y_true\n",
    "    true_predictions = proc_y_pred \n",
    "\n"
   ]
  },
  {
   "cell_type": "markdown",
   "metadata": {},
   "source": [
    "Now we retrieve the predicted class labels for the indices that do not have `-100`. We run an accuracy metric and then see the results"
   ]
  },
  {
   "cell_type": "code",
   "execution_count": 15,
   "metadata": {},
   "outputs": [
    {
     "name": "stdout",
     "output_type": "stream",
     "text": [
      "{'accuracy': 0.96875}\n"
     ]
    }
   ],
   "source": [
    "from evaluate import load\n",
    "l_t_p = []\n",
    "l_t_l = []\n",
    "# for prediction, label in zip(predictions, labels):\n",
    "#     for p, l in zip(prediction, label):\n",
    "#         if l != -100:\n",
    "#             l_t_l.append(l)\n",
    "#             l_t_p.append(p.item())\n",
    "    \n",
    "metric = load(\"accuracy\")\n",
    "results = metric.compute(predictions=true_predictions, references=true_labels)\n",
    "print(results)"
   ]
  },
  {
   "cell_type": "code",
   "execution_count": 16,
   "metadata": {},
   "outputs": [
    {
     "name": "stdout",
     "output_type": "stream",
     "text": [
      "['O', 'O', 'B-ARG1', 'B-V', 'O', 'B-ARG2', 'O', 'O', 'O', 'B-ARG0', 'B-V', 'O', 'O', 'O', 'O', 'O', 'O', 'O', 'O', 'O', 'O', 'O', 'O', 'B-ARG1', 'O', 'O', 'O', 'O', 'O', 'O', 'B-ARGM-GOL', 'O']\n",
      "['O', 'O', 'B-ARG1', 'B-V', 'O', 'B-ARG2', 'O', 'O', 'O', 'B-ARG0', 'B-V', 'O', 'O', 'O', 'O', 'O', 'O', 'O', 'O', 'O', 'O', 'O', 'O', 'B-ARG1', 'O', 'O', 'O', 'O', 'O', 'O', 'B-ARG4', 'O']\n"
     ]
    }
   ],
   "source": [
    "# Predicted\n",
    "print([config.id2label[l] for l in true_predictions])\n",
    "# True label\n",
    "print([config.id2label[l.item()] for l in true_labels])"
   ]
  },
  {
   "cell_type": "markdown",
   "metadata": {},
   "source": [
    "## Testing on the whole dataset\n",
    "Run the following cell to test on the whole dataset and produce results"
   ]
  },
  {
   "cell_type": "code",
   "execution_count": 1,
   "metadata": {},
   "outputs": [
    {
     "ename": "NameError",
     "evalue": "name 'torch' is not defined",
     "output_type": "error",
     "traceback": [
      "\u001b[0;31m---------------------------------------------------------------------------\u001b[0m",
      "\u001b[0;31mNameError\u001b[0m                                 Traceback (most recent call last)",
      "Cell \u001b[0;32mIn[1], line 1\u001b[0m\n\u001b[0;32m----> 1\u001b[0m \u001b[38;5;28;01mwith\u001b[39;00m \u001b[43mtorch\u001b[49m\u001b[38;5;241m.\u001b[39minference_mode():\n\u001b[1;32m      3\u001b[0m     test_tokenized_datasets\u001b[38;5;241m.\u001b[39mset_format(\u001b[38;5;28mtype\u001b[39m\u001b[38;5;241m=\u001b[39m\u001b[38;5;124m'\u001b[39m\u001b[38;5;124mtorch\u001b[39m\u001b[38;5;124m'\u001b[39m, columns\u001b[38;5;241m=\u001b[39m[\u001b[38;5;124m'\u001b[39m\u001b[38;5;124minput_ids\u001b[39m\u001b[38;5;124m'\u001b[39m, \u001b[38;5;124m'\u001b[39m\u001b[38;5;124mattention_mask\u001b[39m\u001b[38;5;124m'\u001b[39m, \u001b[38;5;124m'\u001b[39m\u001b[38;5;124mlabel\u001b[39m\u001b[38;5;124m'\u001b[39m, \u001b[38;5;124m'\u001b[39m\u001b[38;5;124mtoken_type_ids\u001b[39m\u001b[38;5;124m'\u001b[39m, \u001b[38;5;124m'\u001b[39m\u001b[38;5;124mscatter_idx\u001b[39m\u001b[38;5;124m'\u001b[39m])\n\u001b[1;32m      4\u001b[0m     input_ids \u001b[38;5;241m=\u001b[39m test_tokenized_datasets[\u001b[38;5;124m'\u001b[39m\u001b[38;5;124minput_ids\u001b[39m\u001b[38;5;124m'\u001b[39m][:]\u001b[38;5;241m.\u001b[39mto(device)\u001b[38;5;66;03m#[:100]#.expand(1, -1)\u001b[39;00m\n",
      "\u001b[0;31mNameError\u001b[0m: name 'torch' is not defined"
     ]
    }
   ],
   "source": [
    "with torch.inference_mode():\n",
    "\n",
    "    test_tokenized_datasets.set_format(type='torch', columns=['input_ids', 'attention_mask', 'label', 'token_type_ids', 'scatter_idx'])\n",
    "    input_ids = test_tokenized_datasets['input_ids'][:].to(device)#[:100]#.expand(1, -1)\n",
    "    attention_mask = test_tokenized_datasets['attention_mask'][:].to(device)#[:100]#.expand(1, -1)\n",
    "    token_type_ids = test_tokenized_datasets['token_type_ids'][:].to(device)#[:100]#.expand(1, -1)\n",
    "    logits = trained_model(input_ids=input_ids, attention_mask=attention_mask, token_type_ids=token_type_ids).logits\n",
    "    scatter_idx = test_tokenized_datasets['scatter_idx'][:].to(device)\n",
    "    #predicted_token_class_ids = torch.argmax(logits, dim=2).cpu()\n",
    "\n",
    "\n",
    "    #predictions = predicted_token_class_ids\n",
    "    labels = test_tokenized_datasets['labels'][:]#[:100]\n",
    "    proc_y_true = []\n",
    "    proc_y_pred = []\n",
    "\n",
    "    torch.save(logits, 'data/outputs/logits.pt')\n",
    "    for logits, label, scatter_idx in zip(logits, labels, scatter_idx):\n",
    "        prediction = scatter(logits, scatter_idx, dim=0, reduce='mean')\n",
    "        prediction = torch.argmax(prediction, dim=1)\n",
    "        t_label = scatter(torch.tensor(label).to(device), scatter_idx, dim=0, reduce='max')\n",
    "        for p, l in zip(prediction, t_label):\n",
    "            if l != -100:\n",
    "                proc_y_true.append(config.id2label[l.item()])\n",
    "                proc_y_pred.append(config.id2label[p.item()])\n",
    "\n",
    "    torch.save(proc_y_pred, 'data/outputs/predictions.pt')\n",
    "    torch.save(proc_y_true, 'data/outputs/labels.pt')\n",
    "    true_labels = proc_y_true\n",
    "    true_predictions = proc_y_pred \n",
    "\n",
    "    cr = classification_report(true_labels, true_predictions, labels=list(label2id.keys()), zero_division=0, output_dict=True)\n",
    "    df = pd.DataFrame.from_dict(cr)\n",
    "    df.to_csv(f'{MODEL_NAME}.csv')"
   ]
  },
  {
   "cell_type": "markdown",
   "metadata": {},
   "source": [
    "By looking at the plot below we can see that the overall averages both in terms of **weighted** and **macro** averages are worse than before. That will be reflected in the individual cells. Note that in the Figure, the *precision* for `ARGM-TMP` and `ARGM-ADV` is higher than with the baseline model. Consequently, the *recall* scores are much lower. Additionally `ARGM-CAU` no longer has any predictions and the average **macro** for *F1* is lower than the baseline."
   ]
  },
  {
   "cell_type": "code",
   "execution_count": 58,
   "metadata": {},
   "outputs": [
    {
     "data": {
      "text/plain": [
       "<Axes: >"
      ]
     },
     "execution_count": 58,
     "metadata": {},
     "output_type": "execute_result"
    },
    {
     "data": {
      "image/png": "[encoded data removed]",
      "text/plain": [
       "<Figure size 2000x2000 with 2 Axes>"
      ]
     },
     "metadata": {},
     "output_type": "display_data"
    }
   ],
   "source": [
    "import pandas as pd\n",
    "import seaborn as sns\n",
    "import matplotlib.pyplot as plt\n",
    "import matplotlib\n",
    "\n",
    "matplotlib.rcParams['figure.figsize'] = [20, 20]\n",
    "df = pd.read_csv(f'bert_a3_10ep.csv', index_col=0)\n",
    "sns.heatmap(df.iloc[:-1, :].T, annot=True)"
   ]
  },
  {
   "cell_type": "markdown",
   "metadata": {},
   "source": [
    "# 5 Discussion and Conclusions"
   ]
  },
  {
   "cell_type": "markdown",
   "metadata": {},
   "source": [
    "We implemeted two versions of the `distilBERT` model, a distilled version of `BERT` that trains and infers faster while retaining a $97%$ of performance. We preprocessed the `PropBank` dataset for english in `CONLL-U` format to feed the training to the models. Our first model is a baseline comparison point of `BERT`, using the *question/answer* tokenization schema where the *question* is the sentence and *answer* is the predicate of the sentence. While performing relatively well on the training set, the test set performance proved to be very low on the task of argument classification. The next model, a similar version but that also encoded the lemmatized version of the predicate and an indicator number according to meaning in the *answer* part of the tokenization schema performed somewhat similarly. It showed very good indentification scores but poor classification power in many arguments.\n",
    "\n",
    "As we saw in the previous section, the distribution over the test dataset of the arguments is very different from the training set. For this, we believe the model was not able to correctly capture the required information of the training data to generalize and thus it does poorly and the classification task. While it does perform very well at identifyin if a token is an argument or not, we believe that there is further work to do on this matter. Providing the input with more argument information would be a way to augment the information the model has about arguments. Also, experimenting with hyperparameter tunning or just chaning batch sizes and learning rate might influence the output. As the model seems to be overfitting, maybe an intermediate model along the training generalizes better. While testing on the development set we found that a model training on that small set has better classification scores of `ARG0`, `ARG1` and `ARG2`."
   ]
  }
 ],
 "metadata": {
  "kernelspec": {
   "display_name": "anlpa1",
   "language": "python",
   "name": "python3"
  },
  "language_info": {
   "codemirror_mode": {
    "name": "ipython",
    "version": 3
   },
   "file_extension": ".py",
   "mimetype": "text/x-python",
   "name": "python",
   "nbconvert_exporter": "python",
   "pygments_lexer": "ipython3",
   "version": "3.12.2"
  },
  "orig_nbformat": 4
 },
 "nbformat": 4,
 "nbformat_minor": 2
}
