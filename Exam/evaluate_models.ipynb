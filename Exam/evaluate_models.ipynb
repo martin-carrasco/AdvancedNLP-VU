{
 "cells": [
  {
   "cell_type": "code",
   "execution_count": 322,
   "metadata": {},
   "outputs": [
    {
     "name": "stdout",
     "output_type": "stream",
     "text": [
      "The autoreload extension is already loaded. To reload it, use:\n",
      "  %reload_ext autoreload\n"
     ]
    }
   ],
   "source": [
    "import pandas as pd\n",
    "import torch\n",
    "from datasets import Dataset\n",
    "from Exam.utils import tokenize_and_align_labels_adv, tokenize_and_align_labels_base\n",
    "from transformers import  AutoModelForTokenClassification, AutoTokenizer, AutoConfig\n",
    "from torch_scatter import scatter\n",
    "from collections import defaultdict\n",
    "%load_ext autoreload\n",
    "%autoreload 2"
   ]
  },
  {
   "cell_type": "code",
   "execution_count": 323,
   "metadata": {},
   "outputs": [],
   "source": [
    "MODEL_BASE = 'bert_a3_10ep'\n",
    "MODEL_ADVANCED = 'bert_a3_10ep_adv'"
   ]
  },
  {
   "cell_type": "code",
   "execution_count": 324,
   "metadata": {},
   "outputs": [],
   "source": [
    "def model_predict(model, test_dataset):\n",
    "    y_true = []\n",
    "    y_pred = []\n",
    "    with torch.inference_mode():\n",
    "        logits = model(input_ids=test_dataset['input_ids'], attention_mask=test_dataset['attention_mask'], token_type_ids=test_dataset['token_type_ids']).logits\n",
    "        labels = test_dataset['labels']\n",
    "        for logits, label, scatter_idx in zip(logits, labels, test_dataset['scatter_idx']):\n",
    "            prediction = scatter(logits, scatter_idx, dim=0, reduce='mean')\n",
    "            prediction = torch.argmax(prediction, dim=1)\n",
    "            t_label = scatter(torch.tensor(label), scatter_idx, dim=0, reduce='max')\n",
    "            for p, l in zip(prediction, t_label):\n",
    "                if l.item() != -100:\n",
    "                    y_true.append(l.item())\n",
    "                    y_pred.append(p.item())\n",
    "            continue\n",
    "    return y_true, y_pred"
   ]
  },
  {
   "cell_type": "code",
   "execution_count": 325,
   "metadata": {},
   "outputs": [],
   "source": [
    "full_dict = defaultdict(list)\n",
    "output_dict = defaultdict(list)"
   ]
  },
  {
   "cell_type": "code",
   "execution_count": 326,
   "metadata": {},
   "outputs": [
    {
     "name": "stdout",
     "output_type": "stream",
     "text": [
      "Capability: PatientRight\n",
      "Test: PatientRight\n"
     ]
    },
    {
     "data": {
      "application/vnd.jupyter.widget-view+json": {
       "model_id": "1709348972a14fbbba185b7dbb465ed1",
       "version_major": 2,
       "version_minor": 0
      },
      "text/plain": [
       "Map:   0%|          | 0/25 [00:00<?, ? examples/s]"
      ]
     },
     "metadata": {},
     "output_type": "display_data"
    },
    {
     "name": "stdout",
     "output_type": "stream",
     "text": [
      "Capability: AgentRole3D\n",
      "Test: AgentRole3D\n"
     ]
    },
    {
     "data": {
      "application/vnd.jupyter.widget-view+json": {
       "model_id": "f47ee71f13a647acba4849295647d37f",
       "version_major": 2,
       "version_minor": 0
      },
      "text/plain": [
       "Map:   0%|          | 0/25 [00:00<?, ? examples/s]"
      ]
     },
     "metadata": {},
     "output_type": "display_data"
    },
    {
     "name": "stdout",
     "output_type": "stream",
     "text": [
      "Capability: PatientRole3D\n",
      "Test: PatientRole3D\n"
     ]
    },
    {
     "data": {
      "application/vnd.jupyter.widget-view+json": {
       "model_id": "450a69ff3f9b4533bd2a057cf14b0651",
       "version_major": 2,
       "version_minor": 0
      },
      "text/plain": [
       "Map:   0%|          | 0/25 [00:00<?, ? examples/s]"
      ]
     },
     "metadata": {},
     "output_type": "display_data"
    },
    {
     "name": "stdout",
     "output_type": "stream",
     "text": [
      "Capability: TempAdv\n",
      "Test: TempAdv\n"
     ]
    },
    {
     "data": {
      "application/vnd.jupyter.widget-view+json": {
       "model_id": "b64abe9cedf842d7ab53efa9752de0b6",
       "version_major": 2,
       "version_minor": 0
      },
      "text/plain": [
       "Map:   0%|          | 0/60 [00:00<?, ? examples/s]"
      ]
     },
     "metadata": {},
     "output_type": "display_data"
    },
    {
     "name": "stdout",
     "output_type": "stream",
     "text": [
      "Capability: NegAdv\n",
      "Test: NegAdv\n"
     ]
    },
    {
     "data": {
      "application/vnd.jupyter.widget-view+json": {
       "model_id": "ce2b35a2d6584a44b91acd6cf5d0acd2",
       "version_major": 2,
       "version_minor": 0
      },
      "text/plain": [
       "Map:   0%|          | 0/10 [00:00<?, ? examples/s]"
      ]
     },
     "metadata": {},
     "output_type": "display_data"
    },
    {
     "name": "stdout",
     "output_type": "stream",
     "text": [
      "Capability: LocationVar\n",
      "Test: LocationVar\n"
     ]
    },
    {
     "data": {
      "application/vnd.jupyter.widget-view+json": {
       "model_id": "3e5f0009613a4516864b8f0f5428dceb",
       "version_major": 2,
       "version_minor": 0
      },
      "text/plain": [
       "Map:   0%|          | 0/30 [00:00<?, ? examples/s]"
      ]
     },
     "metadata": {},
     "output_type": "display_data"
    },
    {
     "name": "stdout",
     "output_type": "stream",
     "text": [
      "Capability: FreqAdvPast\n",
      "Test: FreqAdvPast\n"
     ]
    },
    {
     "data": {
      "application/vnd.jupyter.widget-view+json": {
       "model_id": "7ace16eb4e754548af7e672af6834d02",
       "version_major": 2,
       "version_minor": 0
      },
      "text/plain": [
       "Map:   0%|          | 0/16 [00:00<?, ? examples/s]"
      ]
     },
     "metadata": {},
     "output_type": "display_data"
    },
    {
     "name": "stdout",
     "output_type": "stream",
     "text": [
      "Capability: FreqAdvPresent\n",
      "Test: FreqAdvPresent\n"
     ]
    },
    {
     "data": {
      "application/vnd.jupyter.widget-view+json": {
       "model_id": "d2ed6bf19c6a41af8e81a23b79fb78cb",
       "version_major": 2,
       "version_minor": 0
      },
      "text/plain": [
       "Map:   0%|          | 0/15 [00:00<?, ? examples/s]"
      ]
     },
     "metadata": {},
     "output_type": "display_data"
    },
    {
     "name": "stdout",
     "output_type": "stream",
     "text": [
      "Capability: FreqAdvFuture\n",
      "Test: FreqAdvFuture\n"
     ]
    },
    {
     "data": {
      "application/vnd.jupyter.widget-view+json": {
       "model_id": "1ed48bb9c62b45d1baad7bb6470031e0",
       "version_major": 2,
       "version_minor": 0
      },
      "text/plain": [
       "Map:   0%|          | 0/12 [00:00<?, ? examples/s]"
      ]
     },
     "metadata": {},
     "output_type": "display_data"
    },
    {
     "name": "stdout",
     "output_type": "stream",
     "text": [
      "Capability: VarDirTarget\n",
      "Test: VarDirTarget\n"
     ]
    },
    {
     "data": {
      "application/vnd.jupyter.widget-view+json": {
       "model_id": "b29b09516c6242cd968474b922bcae29",
       "version_major": 2,
       "version_minor": 0
      },
      "text/plain": [
       "Map:   0%|          | 0/25 [00:00<?, ? examples/s]"
      ]
     },
     "metadata": {},
     "output_type": "display_data"
    },
    {
     "name": "stdout",
     "output_type": "stream",
     "text": [
      "Capability: VarGoalSource\n",
      "Test: VarGoalSource\n"
     ]
    },
    {
     "data": {
      "application/vnd.jupyter.widget-view+json": {
       "model_id": "362dfee79c2745b099bcb5247e1bdfd1",
       "version_major": 2,
       "version_minor": 0
      },
      "text/plain": [
       "Map:   0%|          | 0/25 [00:00<?, ? examples/s]"
      ]
     },
     "metadata": {},
     "output_type": "display_data"
    },
    {
     "name": "stdout",
     "output_type": "stream",
     "text": [
      "Capability: PatientRight\n",
      "Test: PatientRight\n"
     ]
    },
    {
     "data": {
      "application/vnd.jupyter.widget-view+json": {
       "model_id": "e3e349b2a514402298a895e381cd523c",
       "version_major": 2,
       "version_minor": 0
      },
      "text/plain": [
       "Map:   0%|          | 0/25 [00:00<?, ? examples/s]"
      ]
     },
     "metadata": {},
     "output_type": "display_data"
    },
    {
     "name": "stdout",
     "output_type": "stream",
     "text": [
      "Capability: AgentRole3D\n",
      "Test: AgentRole3D\n"
     ]
    },
    {
     "data": {
      "application/vnd.jupyter.widget-view+json": {
       "model_id": "24644dd9001c4eb89e412dbd399edcd9",
       "version_major": 2,
       "version_minor": 0
      },
      "text/plain": [
       "Map:   0%|          | 0/25 [00:00<?, ? examples/s]"
      ]
     },
     "metadata": {},
     "output_type": "display_data"
    },
    {
     "name": "stdout",
     "output_type": "stream",
     "text": [
      "Capability: PatientRole3D\n",
      "Test: PatientRole3D\n"
     ]
    },
    {
     "data": {
      "application/vnd.jupyter.widget-view+json": {
       "model_id": "7359552fecd94dcb9b00a86e3119b8a7",
       "version_major": 2,
       "version_minor": 0
      },
      "text/plain": [
       "Map:   0%|          | 0/25 [00:00<?, ? examples/s]"
      ]
     },
     "metadata": {},
     "output_type": "display_data"
    },
    {
     "name": "stdout",
     "output_type": "stream",
     "text": [
      "Capability: TempAdv\n",
      "Test: TempAdv\n"
     ]
    },
    {
     "data": {
      "application/vnd.jupyter.widget-view+json": {
       "model_id": "13926705d38240dfae4b29fded384094",
       "version_major": 2,
       "version_minor": 0
      },
      "text/plain": [
       "Map:   0%|          | 0/60 [00:00<?, ? examples/s]"
      ]
     },
     "metadata": {},
     "output_type": "display_data"
    },
    {
     "name": "stdout",
     "output_type": "stream",
     "text": [
      "Capability: NegAdv\n",
      "Test: NegAdv\n"
     ]
    },
    {
     "data": {
      "application/vnd.jupyter.widget-view+json": {
       "model_id": "05b93ffcbf70423ca6627f186e84821d",
       "version_major": 2,
       "version_minor": 0
      },
      "text/plain": [
       "Map:   0%|          | 0/10 [00:00<?, ? examples/s]"
      ]
     },
     "metadata": {},
     "output_type": "display_data"
    },
    {
     "name": "stdout",
     "output_type": "stream",
     "text": [
      "Capability: LocationVar\n",
      "Test: LocationVar\n"
     ]
    },
    {
     "data": {
      "application/vnd.jupyter.widget-view+json": {
       "model_id": "1bab57490f654c2495728c3569f8b397",
       "version_major": 2,
       "version_minor": 0
      },
      "text/plain": [
       "Map:   0%|          | 0/30 [00:00<?, ? examples/s]"
      ]
     },
     "metadata": {},
     "output_type": "display_data"
    },
    {
     "name": "stdout",
     "output_type": "stream",
     "text": [
      "Capability: FreqAdvPast\n",
      "Test: FreqAdvPast\n"
     ]
    },
    {
     "data": {
      "application/vnd.jupyter.widget-view+json": {
       "model_id": "505b327eb93b42b5807e87369a0d44f8",
       "version_major": 2,
       "version_minor": 0
      },
      "text/plain": [
       "Map:   0%|          | 0/16 [00:00<?, ? examples/s]"
      ]
     },
     "metadata": {},
     "output_type": "display_data"
    },
    {
     "name": "stdout",
     "output_type": "stream",
     "text": [
      "Capability: FreqAdvPresent\n",
      "Test: FreqAdvPresent\n"
     ]
    },
    {
     "data": {
      "application/vnd.jupyter.widget-view+json": {
       "model_id": "9ecee2a74c8845339d6be200bc4ce6bd",
       "version_major": 2,
       "version_minor": 0
      },
      "text/plain": [
       "Map:   0%|          | 0/15 [00:00<?, ? examples/s]"
      ]
     },
     "metadata": {},
     "output_type": "display_data"
    },
    {
     "name": "stdout",
     "output_type": "stream",
     "text": [
      "Capability: FreqAdvFuture\n",
      "Test: FreqAdvFuture\n"
     ]
    },
    {
     "data": {
      "application/vnd.jupyter.widget-view+json": {
       "model_id": "4efe6c3dd0ed4c3c810ad5197d54f398",
       "version_major": 2,
       "version_minor": 0
      },
      "text/plain": [
       "Map:   0%|          | 0/12 [00:00<?, ? examples/s]"
      ]
     },
     "metadata": {},
     "output_type": "display_data"
    },
    {
     "name": "stdout",
     "output_type": "stream",
     "text": [
      "Capability: VarDirTarget\n",
      "Test: VarDirTarget\n"
     ]
    },
    {
     "data": {
      "application/vnd.jupyter.widget-view+json": {
       "model_id": "1284143e74a44d9f97a03c80b8386765",
       "version_major": 2,
       "version_minor": 0
      },
      "text/plain": [
       "Map:   0%|          | 0/25 [00:00<?, ? examples/s]"
      ]
     },
     "metadata": {},
     "output_type": "display_data"
    },
    {
     "name": "stdout",
     "output_type": "stream",
     "text": [
      "Capability: VarGoalSource\n",
      "Test: VarGoalSource\n"
     ]
    },
    {
     "data": {
      "application/vnd.jupyter.widget-view+json": {
       "model_id": "34f0302e833a446f91924e10b248fce0",
       "version_major": 2,
       "version_minor": 0
      },
      "text/plain": [
       "Map:   0%|          | 0/25 [00:00<?, ? examples/s]"
      ]
     },
     "metadata": {},
     "output_type": "display_data"
    }
   ],
   "source": [
    "for MODEL_NAME in [MODEL_BASE, MODEL_ADVANCED]:\n",
    "    MODEL_URL = f'martincc98/{MODEL_NAME}'\n",
    "    config = AutoConfig.from_pretrained(MODEL_URL)\n",
    "    model = AutoModelForTokenClassification.from_pretrained(MODEL_URL, config=config)\n",
    "    tokenizer = AutoTokenizer.from_pretrained(MODEL_URL)\n",
    "\n",
    "    df = pd.read_csv('Exam/test_data/challenge_ds.csv')\n",
    "    df['label'] = df['label'].apply(lambda x: config.label2id['B-'+x])\n",
    "\n",
    "    capabilities = df['capability'].unique()\n",
    "    for capability in capabilities:\n",
    "\n",
    "        # if capability != 'TempAdv':\n",
    "        #     continue\n",
    "\n",
    "        print('Capability:', capability)\n",
    "\n",
    "        cap_df: pd.DataFrame = df[df['capability'] == capability]  \n",
    "        tests = cap_df['test_name'].unique()\n",
    "        for test in tests:\n",
    "            print('Test:', test)\n",
    "            cur_df = cap_df[cap_df['test_name'] == test]\n",
    "            test_cnt = len(cur_df)\n",
    "            succes_cnt = 0\n",
    "\n",
    "            # Parse dataset\n",
    "            ds = Dataset.from_pandas(cur_df)\n",
    "            if MODEL_NAME == MODEL_ADVANCED:\n",
    "                test_dataset = ds.map(lambda x: tokenize_and_align_labels_adv(tokenizer, x))\n",
    "            else:\n",
    "                test_dataset = ds.map(lambda x: tokenize_and_align_labels_base(tokenizer, x))\n",
    "\n",
    "            test_dataset.set_format(type='torch', columns=['input_ids', 'attention_mask', 'label', 'token_type_ids', 'scatter_idx'])\n",
    "            y_true, y_pred = model_predict(model, test_dataset)\n",
    "            for t, p in zip(y_true, y_pred):\n",
    "                if t == p:\n",
    "                    succes_cnt += 1 \n",
    "\n",
    "\n",
    "            fr = 1 - (succes_cnt / test_cnt)\n",
    "            for i, (y_t, y_p) in enumerate(zip(y_true, y_pred)):\n",
    "                full_dict['model_name'].append(MODEL_NAME)\n",
    "                full_dict['capability'].append(capability)\n",
    "                full_dict['test_name'].append(test)\n",
    "                full_dict['test_n'].append(i)\n",
    "                full_dict['pred'].append(config.id2label[y_p])\n",
    "                full_dict['true'].append(config.id2label[y_t])\n",
    "                full_dict['sent'].append(cur_df.iloc[i]['sent'])\n",
    "                full_dict['predicate'].append(cur_df.iloc[i]['pred'])\n",
    "                full_dict['arg_pos'].append(cur_df.iloc[i]['arg_pos'])\n",
    "                full_dict['pred_pos'].append(cur_df.iloc[i]['pred_pos'])\n",
    "\n",
    "            output_dict['model_name'].append(MODEL_NAME)\n",
    "            output_dict['capability'].append(capability)\n",
    "            output_dict['test_name'].append(test)\n",
    "            output_dict['failure_rate'].append(fr)\n",
    "            output_dict['example_cnt'].append(test_cnt)\n"
   ]
  },
  {
   "cell_type": "code",
   "execution_count": 327,
   "metadata": {},
   "outputs": [],
   "source": [
    "df_f = pd.DataFrame(full_dict)\n",
    "df_f.to_csv('Exam/output/challenge_dataset_outputs.csv')"
   ]
  },
  {
   "cell_type": "code",
   "execution_count": 328,
   "metadata": {},
   "outputs": [],
   "source": [
    "df = pd.DataFrame(output_dict)\n",
    "df.to_csv('Exam/output/challenge_dataset_summary.csv')"
   ]
  },
  {
   "cell_type": "code",
   "execution_count": 329,
   "metadata": {},
   "outputs": [
    {
     "data": {
      "text/html": [
       "<div>\n",
       "<style scoped>\n",
       "    .dataframe tbody tr th:only-of-type {\n",
       "        vertical-align: middle;\n",
       "    }\n",
       "\n",
       "    .dataframe tbody tr th {\n",
       "        vertical-align: top;\n",
       "    }\n",
       "\n",
       "    .dataframe thead th {\n",
       "        text-align: right;\n",
       "    }\n",
       "</style>\n",
       "<table border=\"1\" class=\"dataframe\">\n",
       "  <thead>\n",
       "    <tr style=\"text-align: right;\">\n",
       "      <th></th>\n",
       "      <th></th>\n",
       "      <th></th>\n",
       "      <th>failure_rate</th>\n",
       "      <th>example_cnt</th>\n",
       "    </tr>\n",
       "    <tr>\n",
       "      <th>capability</th>\n",
       "      <th>test_name</th>\n",
       "      <th>model_name</th>\n",
       "      <th></th>\n",
       "      <th></th>\n",
       "    </tr>\n",
       "  </thead>\n",
       "  <tbody>\n",
       "    <tr>\n",
       "      <th rowspan=\"2\" valign=\"top\">AgentRole3D</th>\n",
       "      <th rowspan=\"2\" valign=\"top\">AgentRole3D</th>\n",
       "      <th>bert_a3_10ep</th>\n",
       "      <td>0.000000</td>\n",
       "      <td>25.0</td>\n",
       "    </tr>\n",
       "    <tr>\n",
       "      <th>bert_a3_10ep_adv</th>\n",
       "      <td>0.000000</td>\n",
       "      <td>25.0</td>\n",
       "    </tr>\n",
       "    <tr>\n",
       "      <th rowspan=\"2\" valign=\"top\">FreqAdvFuture</th>\n",
       "      <th rowspan=\"2\" valign=\"top\">FreqAdvFuture</th>\n",
       "      <th>bert_a3_10ep</th>\n",
       "      <td>0.500000</td>\n",
       "      <td>12.0</td>\n",
       "    </tr>\n",
       "    <tr>\n",
       "      <th>bert_a3_10ep_adv</th>\n",
       "      <td>0.000000</td>\n",
       "      <td>12.0</td>\n",
       "    </tr>\n",
       "    <tr>\n",
       "      <th rowspan=\"2\" valign=\"top\">FreqAdvPast</th>\n",
       "      <th rowspan=\"2\" valign=\"top\">FreqAdvPast</th>\n",
       "      <th>bert_a3_10ep</th>\n",
       "      <td>0.000000</td>\n",
       "      <td>16.0</td>\n",
       "    </tr>\n",
       "    <tr>\n",
       "      <th>bert_a3_10ep_adv</th>\n",
       "      <td>0.000000</td>\n",
       "      <td>16.0</td>\n",
       "    </tr>\n",
       "    <tr>\n",
       "      <th rowspan=\"2\" valign=\"top\">FreqAdvPresent</th>\n",
       "      <th rowspan=\"2\" valign=\"top\">FreqAdvPresent</th>\n",
       "      <th>bert_a3_10ep</th>\n",
       "      <td>0.000000</td>\n",
       "      <td>15.0</td>\n",
       "    </tr>\n",
       "    <tr>\n",
       "      <th>bert_a3_10ep_adv</th>\n",
       "      <td>0.000000</td>\n",
       "      <td>15.0</td>\n",
       "    </tr>\n",
       "    <tr>\n",
       "      <th rowspan=\"2\" valign=\"top\">LocationVar</th>\n",
       "      <th rowspan=\"2\" valign=\"top\">LocationVar</th>\n",
       "      <th>bert_a3_10ep</th>\n",
       "      <td>0.033333</td>\n",
       "      <td>30.0</td>\n",
       "    </tr>\n",
       "    <tr>\n",
       "      <th>bert_a3_10ep_adv</th>\n",
       "      <td>0.000000</td>\n",
       "      <td>30.0</td>\n",
       "    </tr>\n",
       "    <tr>\n",
       "      <th rowspan=\"2\" valign=\"top\">NegAdv</th>\n",
       "      <th rowspan=\"2\" valign=\"top\">NegAdv</th>\n",
       "      <th>bert_a3_10ep</th>\n",
       "      <td>0.000000</td>\n",
       "      <td>10.0</td>\n",
       "    </tr>\n",
       "    <tr>\n",
       "      <th>bert_a3_10ep_adv</th>\n",
       "      <td>0.000000</td>\n",
       "      <td>10.0</td>\n",
       "    </tr>\n",
       "    <tr>\n",
       "      <th rowspan=\"2\" valign=\"top\">PatientRight</th>\n",
       "      <th rowspan=\"2\" valign=\"top\">PatientRight</th>\n",
       "      <th>bert_a3_10ep</th>\n",
       "      <td>0.040000</td>\n",
       "      <td>25.0</td>\n",
       "    </tr>\n",
       "    <tr>\n",
       "      <th>bert_a3_10ep_adv</th>\n",
       "      <td>0.000000</td>\n",
       "      <td>25.0</td>\n",
       "    </tr>\n",
       "    <tr>\n",
       "      <th rowspan=\"2\" valign=\"top\">PatientRole3D</th>\n",
       "      <th rowspan=\"2\" valign=\"top\">PatientRole3D</th>\n",
       "      <th>bert_a3_10ep</th>\n",
       "      <td>0.000000</td>\n",
       "      <td>25.0</td>\n",
       "    </tr>\n",
       "    <tr>\n",
       "      <th>bert_a3_10ep_adv</th>\n",
       "      <td>0.040000</td>\n",
       "      <td>25.0</td>\n",
       "    </tr>\n",
       "    <tr>\n",
       "      <th rowspan=\"2\" valign=\"top\">TempAdv</th>\n",
       "      <th rowspan=\"2\" valign=\"top\">TempAdv</th>\n",
       "      <th>bert_a3_10ep</th>\n",
       "      <td>0.333333</td>\n",
       "      <td>60.0</td>\n",
       "    </tr>\n",
       "    <tr>\n",
       "      <th>bert_a3_10ep_adv</th>\n",
       "      <td>0.000000</td>\n",
       "      <td>60.0</td>\n",
       "    </tr>\n",
       "    <tr>\n",
       "      <th rowspan=\"2\" valign=\"top\">VarDirTarget</th>\n",
       "      <th rowspan=\"2\" valign=\"top\">VarDirTarget</th>\n",
       "      <th>bert_a3_10ep</th>\n",
       "      <td>0.080000</td>\n",
       "      <td>25.0</td>\n",
       "    </tr>\n",
       "    <tr>\n",
       "      <th>bert_a3_10ep_adv</th>\n",
       "      <td>0.000000</td>\n",
       "      <td>25.0</td>\n",
       "    </tr>\n",
       "    <tr>\n",
       "      <th rowspan=\"2\" valign=\"top\">VarGoalSource</th>\n",
       "      <th rowspan=\"2\" valign=\"top\">VarGoalSource</th>\n",
       "      <th>bert_a3_10ep</th>\n",
       "      <td>1.000000</td>\n",
       "      <td>25.0</td>\n",
       "    </tr>\n",
       "    <tr>\n",
       "      <th>bert_a3_10ep_adv</th>\n",
       "      <td>1.000000</td>\n",
       "      <td>25.0</td>\n",
       "    </tr>\n",
       "  </tbody>\n",
       "</table>\n",
       "</div>"
      ],
      "text/plain": [
       "                                                failure_rate  example_cnt\n",
       "capability     test_name      model_name                                 \n",
       "AgentRole3D    AgentRole3D    bert_a3_10ep          0.000000         25.0\n",
       "                              bert_a3_10ep_adv      0.000000         25.0\n",
       "FreqAdvFuture  FreqAdvFuture  bert_a3_10ep          0.500000         12.0\n",
       "                              bert_a3_10ep_adv      0.000000         12.0\n",
       "FreqAdvPast    FreqAdvPast    bert_a3_10ep          0.000000         16.0\n",
       "                              bert_a3_10ep_adv      0.000000         16.0\n",
       "FreqAdvPresent FreqAdvPresent bert_a3_10ep          0.000000         15.0\n",
       "                              bert_a3_10ep_adv      0.000000         15.0\n",
       "LocationVar    LocationVar    bert_a3_10ep          0.033333         30.0\n",
       "                              bert_a3_10ep_adv      0.000000         30.0\n",
       "NegAdv         NegAdv         bert_a3_10ep          0.000000         10.0\n",
       "                              bert_a3_10ep_adv      0.000000         10.0\n",
       "PatientRight   PatientRight   bert_a3_10ep          0.040000         25.0\n",
       "                              bert_a3_10ep_adv      0.000000         25.0\n",
       "PatientRole3D  PatientRole3D  bert_a3_10ep          0.000000         25.0\n",
       "                              bert_a3_10ep_adv      0.040000         25.0\n",
       "TempAdv        TempAdv        bert_a3_10ep          0.333333         60.0\n",
       "                              bert_a3_10ep_adv      0.000000         60.0\n",
       "VarDirTarget   VarDirTarget   bert_a3_10ep          0.080000         25.0\n",
       "                              bert_a3_10ep_adv      0.000000         25.0\n",
       "VarGoalSource  VarGoalSource  bert_a3_10ep          1.000000         25.0\n",
       "                              bert_a3_10ep_adv      1.000000         25.0"
      ]
     },
     "execution_count": 329,
     "metadata": {},
     "output_type": "execute_result"
    }
   ],
   "source": [
    "df.groupby(by=['capability', 'test_name', 'model_name']).mean(numeric_only=True)"
   ]
  },
  {
   "cell_type": "code",
   "execution_count": 331,
   "metadata": {},
   "outputs": [
    {
     "data": {
      "text/html": [
       "<div>\n",
       "<style scoped>\n",
       "    .dataframe tbody tr th:only-of-type {\n",
       "        vertical-align: middle;\n",
       "    }\n",
       "\n",
       "    .dataframe tbody tr th {\n",
       "        vertical-align: top;\n",
       "    }\n",
       "\n",
       "    .dataframe thead th {\n",
       "        text-align: right;\n",
       "    }\n",
       "</style>\n",
       "<table border=\"1\" class=\"dataframe\">\n",
       "  <thead>\n",
       "    <tr style=\"text-align: right;\">\n",
       "      <th></th>\n",
       "      <th>model_name</th>\n",
       "      <th>capability</th>\n",
       "      <th>test_name</th>\n",
       "      <th>test_n</th>\n",
       "      <th>pred</th>\n",
       "      <th>true</th>\n",
       "      <th>sent</th>\n",
       "      <th>predicate</th>\n",
       "      <th>arg_pos</th>\n",
       "      <th>pred_pos</th>\n",
       "    </tr>\n",
       "  </thead>\n",
       "  <tbody>\n",
       "    <tr>\n",
       "      <th>239</th>\n",
       "      <td>bert_a3_10ep</td>\n",
       "      <td>VarDirTarget</td>\n",
       "      <td>VarDirTarget</td>\n",
       "      <td>21</td>\n",
       "      <td>B-ARG2</td>\n",
       "      <td>B-ARGM-DIR</td>\n",
       "      <td>The dog ran along the road to the gym</td>\n",
       "      <td>ran</td>\n",
       "      <td>5</td>\n",
       "      <td>2</td>\n",
       "    </tr>\n",
       "    <tr>\n",
       "      <th>241</th>\n",
       "      <td>bert_a3_10ep</td>\n",
       "      <td>VarDirTarget</td>\n",
       "      <td>VarDirTarget</td>\n",
       "      <td>23</td>\n",
       "      <td>B-ARG2</td>\n",
       "      <td>B-ARGM-DIR</td>\n",
       "      <td>The dog ran along the road to the university</td>\n",
       "      <td>ran</td>\n",
       "      <td>5</td>\n",
       "      <td>2</td>\n",
       "    </tr>\n",
       "  </tbody>\n",
       "</table>\n",
       "</div>"
      ],
      "text/plain": [
       "       model_name    capability     test_name  test_n    pred        true  \\\n",
       "239  bert_a3_10ep  VarDirTarget  VarDirTarget      21  B-ARG2  B-ARGM-DIR   \n",
       "241  bert_a3_10ep  VarDirTarget  VarDirTarget      23  B-ARG2  B-ARGM-DIR   \n",
       "\n",
       "                                             sent predicate  arg_pos  pred_pos  \n",
       "239         The dog ran along the road to the gym       ran        5         2  \n",
       "241  The dog ran along the road to the university       ran        5         2  "
      ]
     },
     "execution_count": 331,
     "metadata": {},
     "output_type": "execute_result"
    }
   ],
   "source": [
    "df_f[(df_f['capability'] == 'VarDirTarget') & (df_f['pred'] != df_f['true'])]"
   ]
  }
 ],
 "metadata": {
  "kernelspec": {
   "display_name": "anlp",
   "language": "python",
   "name": "python3"
  },
  "language_info": {
   "codemirror_mode": {
    "name": "ipython",
    "version": 3
   },
   "file_extension": ".py",
   "mimetype": "text/x-python",
   "name": "python",
   "nbconvert_exporter": "python",
   "pygments_lexer": "ipython3",
   "version": "3.12.2"
  }
 },
 "nbformat": 4,
 "nbformat_minor": 2
}
